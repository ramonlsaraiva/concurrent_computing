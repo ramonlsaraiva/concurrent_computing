{
  "cells": [
    {
      "cell_type": "markdown",
      "metadata": {
        "id": "view-in-github",
        "colab_type": "text"
      },
      "source": [
        "<a href=\"https://colab.research.google.com/github/ramonlsaraiva/concurrent_computing/blob/main/projeto_introducao.ipynb\" target=\"_parent\"><img src=\"https://colab.research.google.com/assets/colab-badge.svg\" alt=\"Open In Colab\"/></a>"
      ]
    },
    {
      "cell_type": "markdown",
      "metadata": {
        "id": "RS-Qt5NuATW8"
      },
      "source": [
        "# **PROJETO 1** - Salários de Cientistas de Dados"
      ]
    },
    {
      "cell_type": "code",
      "execution_count": 499,
      "metadata": {
        "id": "ItXg29ciSpwR"
      },
      "outputs": [],
      "source": [
        "import numpy\n",
        "import pandas\n",
        "from matplotlib import pyplot\n",
        "from scipy import stats"
      ]
    },
    {
      "cell_type": "markdown",
      "metadata": {
        "id": "tpNAJaFr3xKD"
      },
      "source": [
        "## **1 - COLETA DE DADOS**\n",
        "\n",
        "O dataset em questão foi obtido através do Kaggle e se trata de salários de cientistas de dados, contendo as seguintes colunas:\n",
        "\n",
        "1.  **work_year**: ano em que o salário foi pago\n",
        "2.  **experience_level**: nível de experiência (**EN**: Entry Level, **MI**: Mid Level, **SE**: Senior Level, **EX**: Executive Level)\n",
        "3.  **employment_type**: o tipo de emprego para a função (**FT**: Full Time, **PT**: Partial Time, **CT**: Contractor, **FL**: Freelancer)\n",
        "4.  **job_title**: função em que trabalhou durante o ano\n",
        "5.  **salary**: valor bruto total do salário pago\n",
        "6.  **salary_currency**: moeda do salário pago\n",
        "7.  **salary_in_usd**: salário em dolar\n",
        "8.  **employee_residence**: o país de residência principal do funcionário\n",
        "9.  **remote_ratio**: quantidade total de trabalho feito remotamente\n",
        "10. **company_location**: o país da sede da empresa\n",
        "11. **company_size**: tamanho da empresa (**S**: Small, **M**: Medium, **L**: Large)"
      ]
    },
    {
      "cell_type": "code",
      "execution_count": 500,
      "metadata": {
        "id": "Xd32bHDTS1UC"
      },
      "outputs": [],
      "source": [
        "# importando o dataset para um objeto pandas.DataFrame\n",
        "df = pandas.read_csv(\"https://raw.githubusercontent.com/ramonlsaraiva/dataset/main/ds_salaries.csv\")"
      ]
    },
    {
      "cell_type": "markdown",
      "metadata": {
        "id": "nSs2G5AU_00G"
      },
      "source": [
        "## **2 - PRÉ-PROCESSAMENTO DOS DADOS**\n",
        "\n",
        "Neste tópico será abordado:\n",
        "1. VERIFICAÇÃO DE DADOS AUSENTES\n",
        "2. VERIFICAÇÃO DOS PAÍSES DE RESIDÊNCIA DAS EMPRESAS\n",
        "3. DEFINIÇÃO DE TIPOS\n",
        "4. LIMPEZA DE DADOS\n",
        "5. NORMALIZAÇÃO DOS DADOS"
      ]
    },
    {
      "cell_type": "markdown",
      "metadata": {
        "id": "EtZzqbaASJdU"
      },
      "source": [
        "### **2.1 - VERIFICAÇÃO DE DADOS AUSENTES**\n",
        "\n",
        "Primeiramente, será verificado se existem dados ausentes no dataset."
      ]
    },
    {
      "cell_type": "code",
      "execution_count": 501,
      "metadata": {
        "colab": {
          "base_uri": "https://localhost:8080/"
        },
        "id": "qtdcSdNKA09O",
        "outputId": "ddaae595-13d3-4f08-f964-a037c9f1555d"
      },
      "outputs": [
        {
          "output_type": "execute_result",
          "data": {
            "text/plain": [
              "work_year             0\n",
              "experience_level      0\n",
              "employment_type       0\n",
              "job_title             0\n",
              "salary                0\n",
              "salary_currency       0\n",
              "salary_in_usd         0\n",
              "employee_residence    0\n",
              "remote_ratio          0\n",
              "company_location      0\n",
              "company_size          0\n",
              "dtype: int64"
            ]
          },
          "metadata": {},
          "execution_count": 501
        }
      ],
      "source": [
        "# verificando os dados ausentes\n",
        "df.isnull().sum()"
      ]
    },
    {
      "cell_type": "markdown",
      "metadata": {
        "id": "6ekhwl2SAlJJ"
      },
      "source": [
        "A partir do código acima, é possível concluir que não há dados faltantes no conjunto de dados. Portanto, não será necessário utilizar nenhuma técnica para imputação de dados."
      ]
    },
    {
      "cell_type": "markdown",
      "metadata": {
        "id": "-b5mQrF1_bHR"
      },
      "source": [
        "### **2.2 - VERIFICAÇÃO DOS PAÍSES DE RESIDÊNCIA DAS EMPRESAS**"
      ]
    },
    {
      "cell_type": "markdown",
      "metadata": {
        "id": "PlYUOHj5EsWf"
      },
      "source": [
        "Neste tópico será verificado os países de residência das empresas presentes no dataset."
      ]
    },
    {
      "cell_type": "code",
      "execution_count": 502,
      "metadata": {
        "colab": {
          "base_uri": "https://localhost:8080/"
        },
        "id": "PnqdjnLQ_kTL",
        "outputId": "8f1c5f8c-235b-4f82-d4f2-5a3525b1ff4f"
      },
      "outputs": [
        {
          "output_type": "execute_result",
          "data": {
            "text/plain": [
              "company_location\n",
              "US    3040\n",
              "GB     172\n",
              "CA      87\n",
              "ES      77\n",
              "IN      58\n",
              "      ... \n",
              "EG       1\n",
              "MT       1\n",
              "MK       1\n",
              "MD       1\n",
              "VN       1\n",
              "Length: 72, dtype: int64"
            ]
          },
          "metadata": {},
          "execution_count": 502
        }
      ],
      "source": [
        "# verificando a coluna company_location\n",
        "df.value_counts('company_location')"
      ]
    },
    {
      "cell_type": "markdown",
      "metadata": {
        "id": "lZ8xlVLD5XMb"
      },
      "source": [
        "Verificando a coluna *company_location*, é possível observar que, em vários países, existe apenas 1 amostra (ou pouquíssimas amostras). Dessa maneira, para realizar uma análise mais precisa, será mantido apenas os países que possuírem um número de amostras maior que a média do número de amostras."
      ]
    },
    {
      "cell_type": "code",
      "execution_count": 503,
      "metadata": {
        "colab": {
          "base_uri": "https://localhost:8080/"
        },
        "id": "_JAD4CT1D9NY",
        "outputId": "b9fb8b85-b58b-4bd3-cd50-8e5691703162"
      },
      "outputs": [
        {
          "output_type": "stream",
          "name": "stdout",
          "text": [
            "Média de amostras dos país: 52.15277777777778\n"
          ]
        }
      ],
      "source": [
        "# verificando a média de amostras entre os países\n",
        "nAmostras = df.value_counts('company_location').values\n",
        "mediaAmostrasPais = nAmostras.mean()\n",
        "print(\"Média de amostras dos país:\", mediaAmostrasPais)"
      ]
    },
    {
      "cell_type": "code",
      "execution_count": 504,
      "metadata": {
        "colab": {
          "base_uri": "https://localhost:8080/"
        },
        "id": "8wHU6Uvx-GSX",
        "outputId": "e1a10ccb-56bb-41fb-8a93-ae6aac08611e"
      },
      "outputs": [
        {
          "output_type": "stream",
          "name": "stdout",
          "text": [
            "Países selecionados: ('US', 'GB', 'CA', 'ES', 'IN', 'DE')\n"
          ]
        }
      ],
      "source": [
        "# selecionando países que serão mantidos do dataframe\n",
        "paisesIdx = numpy.where(nAmostras > mediaAmostrasPais)\n",
        "paisesSelec = df.value_counts('company_location').keys()[paisesIdx]\n",
        "print(\"Países selecionados:\", tuple(paisesSelec))"
      ]
    },
    {
      "cell_type": "code",
      "execution_count": 505,
      "metadata": {
        "colab": {
          "base_uri": "https://localhost:8080/"
        },
        "id": "J3jqB3kJ-ejG",
        "outputId": "c98d73be-219e-4b5f-b520-653da2b7ef66"
      },
      "outputs": [
        {
          "output_type": "execute_result",
          "data": {
            "text/plain": [
              "company_location\n",
              "US    3040\n",
              "GB     172\n",
              "CA      87\n",
              "ES      77\n",
              "IN      58\n",
              "DE      56\n",
              "dtype: int64"
            ]
          },
          "metadata": {},
          "execution_count": 505
        }
      ],
      "source": [
        "# modificando o dataframe (mantendo apenas os países selecionados)\n",
        "df = df[df['company_location'].isin(paisesSelec)]\n",
        "df.value_counts('company_location').head(7)"
      ]
    },
    {
      "cell_type": "markdown",
      "metadata": {
        "id": "ekAogVcHWPlp"
      },
      "source": [
        "Acima é possível visualizar que, apenas os seguintes países, permaneceram no dataframe:\n",
        "1. **US**: Estados Unidos\n",
        "2. **GB**: Reino Unido\n",
        "3. **CA**: Canadá\n",
        "4. **ES**: Espanha\n",
        "5. **IN**: Índia\n",
        "6. **DE**: Alemanha\n",
        "\n"
      ]
    },
    {
      "cell_type": "markdown",
      "metadata": {
        "id": "31d0UHQWX_kS"
      },
      "source": [
        "### **2.3 - DEFINIÇÃO DE TIPOS**\n",
        "\n",
        "Agora será realizado a definição de tipos, ou seja, dados do tipo *object* serão alterados para o tipo *category* no dataframe."
      ]
    },
    {
      "cell_type": "code",
      "execution_count": 506,
      "metadata": {
        "colab": {
          "base_uri": "https://localhost:8080/"
        },
        "id": "jinZpWtLYCUG",
        "outputId": "8444abd6-3396-4725-f246-9d20053698e8"
      },
      "outputs": [
        {
          "output_type": "execute_result",
          "data": {
            "text/plain": [
              "work_year              int64\n",
              "experience_level      object\n",
              "employment_type       object\n",
              "job_title             object\n",
              "salary                 int64\n",
              "salary_currency       object\n",
              "salary_in_usd          int64\n",
              "employee_residence    object\n",
              "remote_ratio           int64\n",
              "company_location      object\n",
              "company_size          object\n",
              "dtype: object"
            ]
          },
          "metadata": {},
          "execution_count": 506
        }
      ],
      "source": [
        "# verificando os tipos dos dados das colunas\n",
        "df.dtypes"
      ]
    },
    {
      "cell_type": "code",
      "execution_count": 507,
      "metadata": {
        "id": "fuUr3hpuYHJR"
      },
      "outputs": [],
      "source": [
        "# mudando do tipo object para category\n",
        "for i in df.columns:\n",
        "    if df[i].dtype==numpy.dtype('object'):\n",
        "        df[i] = df[i].astype('category')"
      ]
    },
    {
      "cell_type": "code",
      "execution_count": 508,
      "metadata": {
        "colab": {
          "base_uri": "https://localhost:8080/"
        },
        "id": "51vDw-ZOYKKT",
        "outputId": "98c3adf6-00e2-4ad1-d234-584ca6b9175d"
      },
      "outputs": [
        {
          "output_type": "execute_result",
          "data": {
            "text/plain": [
              "work_year                int64\n",
              "experience_level      category\n",
              "employment_type       category\n",
              "job_title             category\n",
              "salary                   int64\n",
              "salary_currency       category\n",
              "salary_in_usd            int64\n",
              "employee_residence    category\n",
              "remote_ratio             int64\n",
              "company_location      category\n",
              "company_size          category\n",
              "dtype: object"
            ]
          },
          "metadata": {},
          "execution_count": 508
        }
      ],
      "source": [
        "# verificando os tipos dos dados das colunas novamente\n",
        "df.dtypes"
      ]
    },
    {
      "cell_type": "markdown",
      "metadata": {
        "id": "ZTK97jCGjx5X"
      },
      "source": [
        "### **2.4 - LIMPEZA DE DADOS**\n",
        "\n",
        "Neste tópico, será analisada a distribuição dos dados, para verificar se existe algum dado incongruente no dataset. E isso será feito analisando os outliers de forma univariada e bivariada.\n",
        "\n",
        "É importante ressaltar que, a análise multivariada, não faz muito sentido para esse conjunto de dados, pois, todas as variáveis relevantes para a variável *salary_in_usd*, são do tipo categórica. Sendo assim, a análise multivariada não será realizada."
      ]
    },
    {
      "cell_type": "markdown",
      "metadata": {
        "id": "xZmReI5zj6In"
      },
      "source": [
        "##### **2.4.1 - DISTRIBUIÇÃO DOS SALÁRIOS (UNIVARIADO)**"
      ]
    },
    {
      "cell_type": "code",
      "execution_count": 509,
      "metadata": {
        "colab": {
          "base_uri": "https://localhost:8080/",
          "height": 447
        },
        "id": "1Dpx_lV0j4Te",
        "outputId": "4afd67ff-6e2c-4b42-85dc-88bcff3520da"
      },
      "outputs": [
        {
          "output_type": "execute_result",
          "data": {
            "text/plain": [
              "<Axes: >"
            ]
          },
          "metadata": {},
          "execution_count": 509
        },
        {
          "output_type": "display_data",
          "data": {
            "text/plain": [
              "<Figure size 640x480 with 1 Axes>"
            ],
            "image/png": "[encoded data removed]"
          },
          "metadata": {}
        }
      ],
      "source": [
        "# verificando a distribuição dos salários em USD\n",
        "df.boxplot(column='salary_in_usd')"
      ]
    },
    {
      "cell_type": "markdown",
      "metadata": {
        "id": "au2pGPb2KH8B"
      },
      "source": [
        "A partir do gráfico acima é possível observar que não existe nenhum outlier inferior e existem vários outliers superiores. No entanto, não é possível tirar conclusões de que existem dados errados no conjunto de dados, pelo simples fato de haver outliers superiores. Além disso, não é algo incomum haver outliers em um conjunto de dados de salários, o qual possui salários para diferentes níveis de experiência, salários pagos por empresas de diferentes países e em diferentes moedas. Por conta disso, será realizada uma análize bivariada posteriormente, para melhores conclusões sobre os outliers."
      ]
    },
    {
      "cell_type": "markdown",
      "metadata": {
        "id": "uvgLbjy6siZy"
      },
      "source": [
        "##### **2.4.2 - SALÁRIO PARA DIFERENTES NÍVEIS DE EXPERIÊNCIA (BIVARIADO)**\n",
        "\n",
        "Primeiramente, será verificado a distribuição dos salários (em dólar) para os diferentes níveis de experiência."
      ]
    },
    {
      "cell_type": "code",
      "execution_count": 510,
      "metadata": {
        "colab": {
          "base_uri": "https://localhost:8080/",
          "height": 495
        },
        "id": "cdhsLArQCOQT",
        "outputId": "1a1ed194-dee5-40e3-dcd6-2afd7a90d197"
      },
      "outputs": [
        {
          "output_type": "execute_result",
          "data": {
            "text/plain": [
              "<Axes: title={'center': 'salary_in_usd'}, xlabel='experience_level'>"
            ]
          },
          "metadata": {},
          "execution_count": 510
        },
        {
          "output_type": "display_data",
          "data": {
            "text/plain": [
              "<Figure size 640x480 with 1 Axes>"
            ],
            "image/png": "[encoded data removed]"
          },
          "metadata": {}
        }
      ],
      "source": [
        "# reordenando as categorias para uma melhor visualização no boxplot\n",
        "df['experience_level'] = df['experience_level'].cat.reorder_categories(['EN', 'MI', 'SE', 'EX'])\n",
        "\n",
        "# verificando a distribuição dos salários para diferentes níveis de experiência\n",
        "df.boxplot(column='salary_in_usd', by='experience_level')"
      ]
    },
    {
      "cell_type": "markdown",
      "metadata": {
        "id": "s-8DOxKzzWHG"
      },
      "source": [
        "Observando o gráfico, acima, é possível observar que o nível Executivo (EX), é o nível que possui menos outliers, em seguida vem os níveis Júnior (EN), Pleno (MI) e Sênior (SE), respectivamente. Sendo que o nível Sênior possui uma quantidade de outliers absurdamente maior que os demais níveis de experiência.\n",
        "\n",
        "Outliers superiores em salários é algo comum, no entanto, existem 3 outliers com valores muito discrepantes para o nível Pleno (MI), que possuem valores maiores que o maior outlier do nível Executivo (EX), nível que tende a ser o mais valorizado no mercado. Por conta disso, será feita uma análise mais detalhada em cima destes outliers.\n",
        "\n",
        "Outro fator observado no gráfico acima, é a presença de um outlier inferior para os salários do nível Sênior, o que não é algo muito comum quando se trata de salários. Por isso, também será realizada uma análise aprofundada sobre este outlier.\n",
        "\n",
        "Primeiramente, será verificado o outlier inferior presente no boxplot do nível Sênior (SE):"
      ]
    },
    {
      "cell_type": "code",
      "execution_count": 511,
      "metadata": {
        "colab": {
          "base_uri": "https://localhost:8080/",
          "height": 81
        },
        "id": "2z8n1jGv816k",
        "outputId": "59531d47-c78b-4168-f3ff-a679a5fffe3f"
      },
      "outputs": [
        {
          "output_type": "execute_result",
          "data": {
            "text/plain": [
              "     work_year experience_level employment_type     job_title   salary  \\\n",
              "988       2023               SE              FT  Data Analyst  1300000   \n",
              "\n",
              "    salary_currency  salary_in_usd employee_residence  remote_ratio  \\\n",
              "988             INR          15806                 IN           100   \n",
              "\n",
              "    company_location company_size  \n",
              "988               IN            S  "
            ],
            "text/html": [
              "\n",
              "\n",
              "  <div id=\"df-d0df9c5d-e15f-4a7c-a324-8f381d5d0495\">\n",
              "    <div class=\"colab-df-container\">\n",
              "      <div>\n",
              "<style scoped>\n",
              "    .dataframe tbody tr th:only-of-type {\n",
              "        vertical-align: middle;\n",
              "    }\n",
              "\n",
              "    .dataframe tbody tr th {\n",
              "        vertical-align: top;\n",
              "    }\n",
              "\n",
              "    .dataframe thead th {\n",
              "        text-align: right;\n",
              "    }\n",
              "</style>\n",
              "<table border=\"1\" class=\"dataframe\">\n",
              "  <thead>\n",
              "    <tr style=\"text-align: right;\">\n",
              "      <th></th>\n",
              "      <th>work_year</th>\n",
              "      <th>experience_level</th>\n",
              "      <th>employment_type</th>\n",
              "      <th>job_title</th>\n",
              "      <th>salary</th>\n",
              "      <th>salary_currency</th>\n",
              "      <th>salary_in_usd</th>\n",
              "      <th>employee_residence</th>\n",
              "      <th>remote_ratio</th>\n",
              "      <th>company_location</th>\n",
              "      <th>company_size</th>\n",
              "    </tr>\n",
              "  </thead>\n",
              "  <tbody>\n",
              "    <tr>\n",
              "      <th>988</th>\n",
              "      <td>2023</td>\n",
              "      <td>SE</td>\n",
              "      <td>FT</td>\n",
              "      <td>Data Analyst</td>\n",
              "      <td>1300000</td>\n",
              "      <td>INR</td>\n",
              "      <td>15806</td>\n",
              "      <td>IN</td>\n",
              "      <td>100</td>\n",
              "      <td>IN</td>\n",
              "      <td>S</td>\n",
              "    </tr>\n",
              "  </tbody>\n",
              "</table>\n",
              "</div>\n",
              "      <button class=\"colab-df-convert\" onclick=\"convertToInteractive('df-d0df9c5d-e15f-4a7c-a324-8f381d5d0495')\"\n",
              "              title=\"Convert this dataframe to an interactive table.\"\n",
              "              style=\"display:none;\">\n",
              "\n",
              "  <svg xmlns=\"http://www.w3.org/2000/svg\" height=\"24px\"viewBox=\"0 0 24 24\"\n",
              "       width=\"24px\">\n",
              "    <path d=\"M0 0h24v24H0V0z\" fill=\"none\"/>\n",
              "    <path d=\"M18.56 5.44l.94 2.06.94-2.06 2.06-.94-2.06-.94-.94-2.06-.94 2.06-2.06.94zm-11 1L8.5 8.5l.94-2.06 2.06-.94-2.06-.94L8.5 2.5l-.94 2.06-2.06.94zm10 10l.94 2.06.94-2.06 2.06-.94-2.06-.94-.94-2.06-.94 2.06-2.06.94z\"/><path d=\"M17.41 7.96l-1.37-1.37c-.4-.4-.92-.59-1.43-.59-.52 0-1.04.2-1.43.59L10.3 9.45l-7.72 7.72c-.78.78-.78 2.05 0 2.83L4 21.41c.39.39.9.59 1.41.59.51 0 1.02-.2 1.41-.59l7.78-7.78 2.81-2.81c.8-.78.8-2.07 0-2.86zM5.41 20L4 18.59l7.72-7.72 1.47 1.35L5.41 20z\"/>\n",
              "  </svg>\n",
              "      </button>\n",
              "\n",
              "\n",
              "\n",
              "    <div id=\"df-baa6636a-0eb1-416e-92a2-514a8ecb175d\">\n",
              "      <button class=\"colab-df-quickchart\" onclick=\"quickchart('df-baa6636a-0eb1-416e-92a2-514a8ecb175d')\"\n",
              "              title=\"Suggest charts.\"\n",
              "              style=\"display:none;\">\n",
              "\n",
              "<svg xmlns=\"http://www.w3.org/2000/svg\" height=\"24px\"viewBox=\"0 0 24 24\"\n",
              "     width=\"24px\">\n",
              "    <g>\n",
              "        <path d=\"M19 3H5c-1.1 0-2 .9-2 2v14c0 1.1.9 2 2 2h14c1.1 0 2-.9 2-2V5c0-1.1-.9-2-2-2zM9 17H7v-7h2v7zm4 0h-2V7h2v10zm4 0h-2v-4h2v4z\"/>\n",
              "    </g>\n",
              "</svg>\n",
              "      </button>\n",
              "    </div>\n",
              "\n",
              "<style>\n",
              "  .colab-df-quickchart {\n",
              "    background-color: #E8F0FE;\n",
              "    border: none;\n",
              "    border-radius: 50%;\n",
              "    cursor: pointer;\n",
              "    display: none;\n",
              "    fill: #1967D2;\n",
              "    height: 32px;\n",
              "    padding: 0 0 0 0;\n",
              "    width: 32px;\n",
              "  }\n",
              "\n",
              "  .colab-df-quickchart:hover {\n",
              "    background-color: #E2EBFA;\n",
              "    box-shadow: 0px 1px 2px rgba(60, 64, 67, 0.3), 0px 1px 3px 1px rgba(60, 64, 67, 0.15);\n",
              "    fill: #174EA6;\n",
              "  }\n",
              "\n",
              "  [theme=dark] .colab-df-quickchart {\n",
              "    background-color: #3B4455;\n",
              "    fill: #D2E3FC;\n",
              "  }\n",
              "\n",
              "  [theme=dark] .colab-df-quickchart:hover {\n",
              "    background-color: #434B5C;\n",
              "    box-shadow: 0px 1px 3px 1px rgba(0, 0, 0, 0.15);\n",
              "    filter: drop-shadow(0px 1px 2px rgba(0, 0, 0, 0.3));\n",
              "    fill: #FFFFFF;\n",
              "  }\n",
              "</style>\n",
              "\n",
              "    <script>\n",
              "      async function quickchart(key) {\n",
              "        const containerElement = document.querySelector('#' + key);\n",
              "        const charts = await google.colab.kernel.invokeFunction(\n",
              "            'suggestCharts', [key], {});\n",
              "      }\n",
              "    </script>\n",
              "\n",
              "      <script>\n",
              "\n",
              "function displayQuickchartButton(domScope) {\n",
              "  let quickchartButtonEl =\n",
              "    domScope.querySelector('#df-baa6636a-0eb1-416e-92a2-514a8ecb175d button.colab-df-quickchart');\n",
              "  quickchartButtonEl.style.display =\n",
              "    google.colab.kernel.accessAllowed ? 'block' : 'none';\n",
              "}\n",
              "\n",
              "        displayQuickchartButton(document);\n",
              "      </script>\n",
              "      <style>\n",
              "    .colab-df-container {\n",
              "      display:flex;\n",
              "      flex-wrap:wrap;\n",
              "      gap: 12px;\n",
              "    }\n",
              "\n",
              "    .colab-df-convert {\n",
              "      background-color: #E8F0FE;\n",
              "      border: none;\n",
              "      border-radius: 50%;\n",
              "      cursor: pointer;\n",
              "      display: none;\n",
              "      fill: #1967D2;\n",
              "      height: 32px;\n",
              "      padding: 0 0 0 0;\n",
              "      width: 32px;\n",
              "    }\n",
              "\n",
              "    .colab-df-convert:hover {\n",
              "      background-color: #E2EBFA;\n",
              "      box-shadow: 0px 1px 2px rgba(60, 64, 67, 0.3), 0px 1px 3px 1px rgba(60, 64, 67, 0.15);\n",
              "      fill: #174EA6;\n",
              "    }\n",
              "\n",
              "    [theme=dark] .colab-df-convert {\n",
              "      background-color: #3B4455;\n",
              "      fill: #D2E3FC;\n",
              "    }\n",
              "\n",
              "    [theme=dark] .colab-df-convert:hover {\n",
              "      background-color: #434B5C;\n",
              "      box-shadow: 0px 1px 3px 1px rgba(0, 0, 0, 0.15);\n",
              "      filter: drop-shadow(0px 1px 2px rgba(0, 0, 0, 0.3));\n",
              "      fill: #FFFFFF;\n",
              "    }\n",
              "  </style>\n",
              "\n",
              "      <script>\n",
              "        const buttonEl =\n",
              "          document.querySelector('#df-d0df9c5d-e15f-4a7c-a324-8f381d5d0495 button.colab-df-convert');\n",
              "        buttonEl.style.display =\n",
              "          google.colab.kernel.accessAllowed ? 'block' : 'none';\n",
              "\n",
              "        async function convertToInteractive(key) {\n",
              "          const element = document.querySelector('#df-d0df9c5d-e15f-4a7c-a324-8f381d5d0495');\n",
              "          const dataTable =\n",
              "            await google.colab.kernel.invokeFunction('convertToInteractive',\n",
              "                                                     [key], {});\n",
              "          if (!dataTable) return;\n",
              "\n",
              "          const docLinkHtml = 'Like what you see? Visit the ' +\n",
              "            '<a target=\"_blank\" href=https://colab.research.google.com/notebooks/data_table.ipynb>data table notebook</a>'\n",
              "            + ' to learn more about interactive tables.';\n",
              "          element.innerHTML = '';\n",
              "          dataTable['output_type'] = 'display_data';\n",
              "          await google.colab.output.renderOutput(dataTable, element);\n",
              "          const docLink = document.createElement('div');\n",
              "          docLink.innerHTML = docLinkHtml;\n",
              "          element.appendChild(docLink);\n",
              "        }\n",
              "      </script>\n",
              "    </div>\n",
              "  </div>\n"
            ]
          },
          "metadata": {},
          "execution_count": 511
        }
      ],
      "source": [
        "# verificando o outlier inferior para o nível Sênior\n",
        "df[df['experience_level'] == \"SE\"].sort_values('salary_in_usd', ascending=True).head(1)"
      ]
    },
    {
      "cell_type": "markdown",
      "metadata": {
        "id": "EtD2b5cAAORX"
      },
      "source": [
        "Após verificar esse outlier inferior no conjunto de dados, foi possível observar que o salário foi pago em INR (rupia indiana), o que pode ser um fator que explique o porquê do salário ser tão baixo. Sendo que a rupia indiana é a segunda moeda mais desvalorizada do dataset (1 rupia indiana equivale a apenas 0,012 dólares). No entanto, será analisado se outros salários pagos em IN para o nível Sênior também possuem um baixo valor."
      ]
    },
    {
      "cell_type": "code",
      "execution_count": 512,
      "metadata": {
        "colab": {
          "base_uri": "https://localhost:8080/"
        },
        "id": "BY3wqYTiBc9L",
        "outputId": "6961bd68-ff2c-4eec-9545-66054ab75b17"
      },
      "outputs": [
        {
          "output_type": "execute_result",
          "data": {
            "text/plain": [
              "salary_currency\n",
              "USD    2327\n",
              "EUR      62\n",
              "GBP      28\n",
              "CAD      10\n",
              "INR      10\n",
              "HUF       0\n",
              "PLN       0\n",
              "dtype: int64"
            ]
          },
          "metadata": {},
          "execution_count": 512
        }
      ],
      "source": [
        "# verificando se existem outros salários Sênior que também são pagos em INR\n",
        "df[df['experience_level'] == 'SE'].value_counts('salary_currency')"
      ]
    },
    {
      "cell_type": "markdown",
      "metadata": {
        "id": "estiCNyeBqpb"
      },
      "source": [
        "Acima, é possível observar que, no conjunto de dados, também existem outras amostras de salários do nível Sênior pagos em INR."
      ]
    },
    {
      "cell_type": "code",
      "execution_count": 606,
      "metadata": {
        "colab": {
          "base_uri": "https://localhost:8080/",
          "height": 363
        },
        "id": "2EyLTYkh-mLH",
        "outputId": "3a5ee183-5438-4a10-cdae-1c66a1d0d5cb"
      },
      "outputs": [
        {
          "output_type": "execute_result",
          "data": {
            "text/plain": [
              "      work_year experience_level employment_type  \\\n",
              "988        2023               SE              FT   \n",
              "3650       2021               SE              FT   \n",
              "2655       2022               SE              FT   \n",
              "3489       2021               SE              FT   \n",
              "1738       2021               SE              FT   \n",
              "3649       2021               SE              FT   \n",
              "1868       2022               SE              FT   \n",
              "3639       2021               SE              FT   \n",
              "3754       2021               SE              FT   \n",
              "2966       2022               SE              FT   \n",
              "\n",
              "                           job_title   salary salary_currency  salary_in_usd  \\\n",
              "988                     Data Analyst  1300000             INR          15806   \n",
              "3650       Machine Learning Engineer  1799997             INR          24342   \n",
              "2655        Principal Data Architect  3000000             INR          38154   \n",
              "3489             Lead Data Scientist  3000000             INR          40570   \n",
              "1738                  Data Scientist  4000000             INR          54094   \n",
              "3649            Data Science Manager  4000000             INR          54094   \n",
              "1868             Lead Data Scientist  4460000             INR          56723   \n",
              "3639       Machine Learning Engineer  4900000             INR          66265   \n",
              "3754            Data Science Manager  7000000             INR          94665   \n",
              "2966  Lead Machine Learning Engineer  7500000             INR          95386   \n",
              "\n",
              "     employee_residence  remote_ratio company_location company_size  \n",
              "988                  IN           100               IN            S  \n",
              "3650                 IN           100               IN            L  \n",
              "2655                 IN           100               IN            L  \n",
              "3489                 IN            50               IN            L  \n",
              "1738                 IN           100               IN            L  \n",
              "3649                 IN            50               US            L  \n",
              "1868                 IN             0               IN            L  \n",
              "3639                 IN             0               IN            L  \n",
              "3754                 IN            50               IN            L  \n",
              "2966                 IN            50               IN            L  "
            ],
            "text/html": [
              "\n",
              "\n",
              "  <div id=\"df-cb786da7-95b3-4f85-ab71-b5d756eacdf5\">\n",
              "    <div class=\"colab-df-container\">\n",
              "      <div>\n",
              "<style scoped>\n",
              "    .dataframe tbody tr th:only-of-type {\n",
              "        vertical-align: middle;\n",
              "    }\n",
              "\n",
              "    .dataframe tbody tr th {\n",
              "        vertical-align: top;\n",
              "    }\n",
              "\n",
              "    .dataframe thead th {\n",
              "        text-align: right;\n",
              "    }\n",
              "</style>\n",
              "<table border=\"1\" class=\"dataframe\">\n",
              "  <thead>\n",
              "    <tr style=\"text-align: right;\">\n",
              "      <th></th>\n",
              "      <th>work_year</th>\n",
              "      <th>experience_level</th>\n",
              "      <th>employment_type</th>\n",
              "      <th>job_title</th>\n",
              "      <th>salary</th>\n",
              "      <th>salary_currency</th>\n",
              "      <th>salary_in_usd</th>\n",
              "      <th>employee_residence</th>\n",
              "      <th>remote_ratio</th>\n",
              "      <th>company_location</th>\n",
              "      <th>company_size</th>\n",
              "    </tr>\n",
              "  </thead>\n",
              "  <tbody>\n",
              "    <tr>\n",
              "      <th>988</th>\n",
              "      <td>2023</td>\n",
              "      <td>SE</td>\n",
              "      <td>FT</td>\n",
              "      <td>Data Analyst</td>\n",
              "      <td>1300000</td>\n",
              "      <td>INR</td>\n",
              "      <td>15806</td>\n",
              "      <td>IN</td>\n",
              "      <td>100</td>\n",
              "      <td>IN</td>\n",
              "      <td>S</td>\n",
              "    </tr>\n",
              "    <tr>\n",
              "      <th>3650</th>\n",
              "      <td>2021</td>\n",
              "      <td>SE</td>\n",
              "      <td>FT</td>\n",
              "      <td>Machine Learning Engineer</td>\n",
              "      <td>1799997</td>\n",
              "      <td>INR</td>\n",
              "      <td>24342</td>\n",
              "      <td>IN</td>\n",
              "      <td>100</td>\n",
              "      <td>IN</td>\n",
              "      <td>L</td>\n",
              "    </tr>\n",
              "    <tr>\n",
              "      <th>2655</th>\n",
              "      <td>2022</td>\n",
              "      <td>SE</td>\n",
              "      <td>FT</td>\n",
              "      <td>Principal Data Architect</td>\n",
              "      <td>3000000</td>\n",
              "      <td>INR</td>\n",
              "      <td>38154</td>\n",
              "      <td>IN</td>\n",
              "      <td>100</td>\n",
              "      <td>IN</td>\n",
              "      <td>L</td>\n",
              "    </tr>\n",
              "    <tr>\n",
              "      <th>3489</th>\n",
              "      <td>2021</td>\n",
              "      <td>SE</td>\n",
              "      <td>FT</td>\n",
              "      <td>Lead Data Scientist</td>\n",
              "      <td>3000000</td>\n",
              "      <td>INR</td>\n",
              "      <td>40570</td>\n",
              "      <td>IN</td>\n",
              "      <td>50</td>\n",
              "      <td>IN</td>\n",
              "      <td>L</td>\n",
              "    </tr>\n",
              "    <tr>\n",
              "      <th>1738</th>\n",
              "      <td>2021</td>\n",
              "      <td>SE</td>\n",
              "      <td>FT</td>\n",
              "      <td>Data Scientist</td>\n",
              "      <td>4000000</td>\n",
              "      <td>INR</td>\n",
              "      <td>54094</td>\n",
              "      <td>IN</td>\n",
              "      <td>100</td>\n",
              "      <td>IN</td>\n",
              "      <td>L</td>\n",
              "    </tr>\n",
              "    <tr>\n",
              "      <th>3649</th>\n",
              "      <td>2021</td>\n",
              "      <td>SE</td>\n",
              "      <td>FT</td>\n",
              "      <td>Data Science Manager</td>\n",
              "      <td>4000000</td>\n",
              "      <td>INR</td>\n",
              "      <td>54094</td>\n",
              "      <td>IN</td>\n",
              "      <td>50</td>\n",
              "      <td>US</td>\n",
              "      <td>L</td>\n",
              "    </tr>\n",
              "    <tr>\n",
              "      <th>1868</th>\n",
              "      <td>2022</td>\n",
              "      <td>SE</td>\n",
              "      <td>FT</td>\n",
              "      <td>Lead Data Scientist</td>\n",
              "      <td>4460000</td>\n",
              "      <td>INR</td>\n",
              "      <td>56723</td>\n",
              "      <td>IN</td>\n",
              "      <td>0</td>\n",
              "      <td>IN</td>\n",
              "      <td>L</td>\n",
              "    </tr>\n",
              "    <tr>\n",
              "      <th>3639</th>\n",
              "      <td>2021</td>\n",
              "      <td>SE</td>\n",
              "      <td>FT</td>\n",
              "      <td>Machine Learning Engineer</td>\n",
              "      <td>4900000</td>\n",
              "      <td>INR</td>\n",
              "      <td>66265</td>\n",
              "      <td>IN</td>\n",
              "      <td>0</td>\n",
              "      <td>IN</td>\n",
              "      <td>L</td>\n",
              "    </tr>\n",
              "    <tr>\n",
              "      <th>3754</th>\n",
              "      <td>2021</td>\n",
              "      <td>SE</td>\n",
              "      <td>FT</td>\n",
              "      <td>Data Science Manager</td>\n",
              "      <td>7000000</td>\n",
              "      <td>INR</td>\n",
              "      <td>94665</td>\n",
              "      <td>IN</td>\n",
              "      <td>50</td>\n",
              "      <td>IN</td>\n",
              "      <td>L</td>\n",
              "    </tr>\n",
              "    <tr>\n",
              "      <th>2966</th>\n",
              "      <td>2022</td>\n",
              "      <td>SE</td>\n",
              "      <td>FT</td>\n",
              "      <td>Lead Machine Learning Engineer</td>\n",
              "      <td>7500000</td>\n",
              "      <td>INR</td>\n",
              "      <td>95386</td>\n",
              "      <td>IN</td>\n",
              "      <td>50</td>\n",
              "      <td>IN</td>\n",
              "      <td>L</td>\n",
              "    </tr>\n",
              "  </tbody>\n",
              "</table>\n",
              "</div>\n",
              "      <button class=\"colab-df-convert\" onclick=\"convertToInteractive('df-cb786da7-95b3-4f85-ab71-b5d756eacdf5')\"\n",
              "              title=\"Convert this dataframe to an interactive table.\"\n",
              "              style=\"display:none;\">\n",
              "\n",
              "  <svg xmlns=\"http://www.w3.org/2000/svg\" height=\"24px\"viewBox=\"0 0 24 24\"\n",
              "       width=\"24px\">\n",
              "    <path d=\"M0 0h24v24H0V0z\" fill=\"none\"/>\n",
              "    <path d=\"M18.56 5.44l.94 2.06.94-2.06 2.06-.94-2.06-.94-.94-2.06-.94 2.06-2.06.94zm-11 1L8.5 8.5l.94-2.06 2.06-.94-2.06-.94L8.5 2.5l-.94 2.06-2.06.94zm10 10l.94 2.06.94-2.06 2.06-.94-2.06-.94-.94-2.06-.94 2.06-2.06.94z\"/><path d=\"M17.41 7.96l-1.37-1.37c-.4-.4-.92-.59-1.43-.59-.52 0-1.04.2-1.43.59L10.3 9.45l-7.72 7.72c-.78.78-.78 2.05 0 2.83L4 21.41c.39.39.9.59 1.41.59.51 0 1.02-.2 1.41-.59l7.78-7.78 2.81-2.81c.8-.78.8-2.07 0-2.86zM5.41 20L4 18.59l7.72-7.72 1.47 1.35L5.41 20z\"/>\n",
              "  </svg>\n",
              "      </button>\n",
              "\n",
              "\n",
              "\n",
              "    <div id=\"df-b2450a3b-f17b-4445-9caf-acd5d5d52194\">\n",
              "      <button class=\"colab-df-quickchart\" onclick=\"quickchart('df-b2450a3b-f17b-4445-9caf-acd5d5d52194')\"\n",
              "              title=\"Suggest charts.\"\n",
              "              style=\"display:none;\">\n",
              "\n",
              "<svg xmlns=\"http://www.w3.org/2000/svg\" height=\"24px\"viewBox=\"0 0 24 24\"\n",
              "     width=\"24px\">\n",
              "    <g>\n",
              "        <path d=\"M19 3H5c-1.1 0-2 .9-2 2v14c0 1.1.9 2 2 2h14c1.1 0 2-.9 2-2V5c0-1.1-.9-2-2-2zM9 17H7v-7h2v7zm4 0h-2V7h2v10zm4 0h-2v-4h2v4z\"/>\n",
              "    </g>\n",
              "</svg>\n",
              "      </button>\n",
              "    </div>\n",
              "\n",
              "<style>\n",
              "  .colab-df-quickchart {\n",
              "    background-color: #E8F0FE;\n",
              "    border: none;\n",
              "    border-radius: 50%;\n",
              "    cursor: pointer;\n",
              "    display: none;\n",
              "    fill: #1967D2;\n",
              "    height: 32px;\n",
              "    padding: 0 0 0 0;\n",
              "    width: 32px;\n",
              "  }\n",
              "\n",
              "  .colab-df-quickchart:hover {\n",
              "    background-color: #E2EBFA;\n",
              "    box-shadow: 0px 1px 2px rgba(60, 64, 67, 0.3), 0px 1px 3px 1px rgba(60, 64, 67, 0.15);\n",
              "    fill: #174EA6;\n",
              "  }\n",
              "\n",
              "  [theme=dark] .colab-df-quickchart {\n",
              "    background-color: #3B4455;\n",
              "    fill: #D2E3FC;\n",
              "  }\n",
              "\n",
              "  [theme=dark] .colab-df-quickchart:hover {\n",
              "    background-color: #434B5C;\n",
              "    box-shadow: 0px 1px 3px 1px rgba(0, 0, 0, 0.15);\n",
              "    filter: drop-shadow(0px 1px 2px rgba(0, 0, 0, 0.3));\n",
              "    fill: #FFFFFF;\n",
              "  }\n",
              "</style>\n",
              "\n",
              "    <script>\n",
              "      async function quickchart(key) {\n",
              "        const containerElement = document.querySelector('#' + key);\n",
              "        const charts = await google.colab.kernel.invokeFunction(\n",
              "            'suggestCharts', [key], {});\n",
              "      }\n",
              "    </script>\n",
              "\n",
              "      <script>\n",
              "\n",
              "function displayQuickchartButton(domScope) {\n",
              "  let quickchartButtonEl =\n",
              "    domScope.querySelector('#df-b2450a3b-f17b-4445-9caf-acd5d5d52194 button.colab-df-quickchart');\n",
              "  quickchartButtonEl.style.display =\n",
              "    google.colab.kernel.accessAllowed ? 'block' : 'none';\n",
              "}\n",
              "\n",
              "        displayQuickchartButton(document);\n",
              "      </script>\n",
              "      <style>\n",
              "    .colab-df-container {\n",
              "      display:flex;\n",
              "      flex-wrap:wrap;\n",
              "      gap: 12px;\n",
              "    }\n",
              "\n",
              "    .colab-df-convert {\n",
              "      background-color: #E8F0FE;\n",
              "      border: none;\n",
              "      border-radius: 50%;\n",
              "      cursor: pointer;\n",
              "      display: none;\n",
              "      fill: #1967D2;\n",
              "      height: 32px;\n",
              "      padding: 0 0 0 0;\n",
              "      width: 32px;\n",
              "    }\n",
              "\n",
              "    .colab-df-convert:hover {\n",
              "      background-color: #E2EBFA;\n",
              "      box-shadow: 0px 1px 2px rgba(60, 64, 67, 0.3), 0px 1px 3px 1px rgba(60, 64, 67, 0.15);\n",
              "      fill: #174EA6;\n",
              "    }\n",
              "\n",
              "    [theme=dark] .colab-df-convert {\n",
              "      background-color: #3B4455;\n",
              "      fill: #D2E3FC;\n",
              "    }\n",
              "\n",
              "    [theme=dark] .colab-df-convert:hover {\n",
              "      background-color: #434B5C;\n",
              "      box-shadow: 0px 1px 3px 1px rgba(0, 0, 0, 0.15);\n",
              "      filter: drop-shadow(0px 1px 2px rgba(0, 0, 0, 0.3));\n",
              "      fill: #FFFFFF;\n",
              "    }\n",
              "  </style>\n",
              "\n",
              "      <script>\n",
              "        const buttonEl =\n",
              "          document.querySelector('#df-cb786da7-95b3-4f85-ab71-b5d756eacdf5 button.colab-df-convert');\n",
              "        buttonEl.style.display =\n",
              "          google.colab.kernel.accessAllowed ? 'block' : 'none';\n",
              "\n",
              "        async function convertToInteractive(key) {\n",
              "          const element = document.querySelector('#df-cb786da7-95b3-4f85-ab71-b5d756eacdf5');\n",
              "          const dataTable =\n",
              "            await google.colab.kernel.invokeFunction('convertToInteractive',\n",
              "                                                     [key], {});\n",
              "          if (!dataTable) return;\n",
              "\n",
              "          const docLinkHtml = 'Like what you see? Visit the ' +\n",
              "            '<a target=\"_blank\" href=https://colab.research.google.com/notebooks/data_table.ipynb>data table notebook</a>'\n",
              "            + ' to learn more about interactive tables.';\n",
              "          element.innerHTML = '';\n",
              "          dataTable['output_type'] = 'display_data';\n",
              "          await google.colab.output.renderOutput(dataTable, element);\n",
              "          const docLink = document.createElement('div');\n",
              "          docLink.innerHTML = docLinkHtml;\n",
              "          element.appendChild(docLink);\n",
              "        }\n",
              "      </script>\n",
              "    </div>\n",
              "  </div>\n"
            ]
          },
          "metadata": {},
          "execution_count": 606
        }
      ],
      "source": [
        "# verificando os dados que possuem nível Sênior e com salário pago em INR\n",
        "df[(df['experience_level']==\"SE\") & (df['salary_currency']=='INR')].sort_values('salary_in_usd', ascending=True)"
      ]
    },
    {
      "cell_type": "markdown",
      "metadata": {
        "id": "WM82peXFCXVi"
      },
      "source": [
        "Porém, no dataframe acima, é possível observar que o outlier inferior no nível Sênior, é o único salário pago em INR e pago por uma pequena empresa. Sendo que as outras 9 empresas que também pagam em INR para os níveis Sênior, são grandes empresas.\n",
        "\n",
        "E como essa pequena empresa é residente na Índia, será analisado a distribuição de salários (pagos em INR) de empresas residentes na Índia, agrupados pelo tamanho da empresa e pelo nível de experiência, para verificar se empresas menores realmente tendem a pagar menos."
      ]
    },
    {
      "cell_type": "code",
      "execution_count": 514,
      "metadata": {
        "colab": {
          "base_uri": "https://localhost:8080/",
          "height": 495
        },
        "id": "R0SZ4kdn6APX",
        "outputId": "442c829d-ca28-4463-b074-6c275da520d1"
      },
      "outputs": [
        {
          "output_type": "execute_result",
          "data": {
            "text/plain": [
              "<Axes: title={'center': 'salary_in_usd'}, xlabel='[company_size, experience_level]'>"
            ]
          },
          "metadata": {},
          "execution_count": 514
        },
        {
          "output_type": "display_data",
          "data": {
            "text/plain": [
              "<Figure size 640x480 with 1 Axes>"
            ],
            "image/png": "[encoded data removed]"
          },
          "metadata": {}
        }
      ],
      "source": [
        "# reordenando as categorias para uma melhor visualização no boxplot\n",
        "df['company_size'] = df['company_size'].cat.reorder_categories(['S', 'M', 'L'])\n",
        "\n",
        "# verificando a distribuição dos salários na Índia (pagos em INR) para diferentes níveis de experiência e diferentes tamanhos de empresas\n",
        "df[(df['company_location']=='IN') & (df['salary_currency']=='INR')].boxplot(by=['company_size','experience_level'], column='salary_in_usd')"
      ]
    },
    {
      "cell_type": "markdown",
      "metadata": {
        "id": "sDtt7iHQ8as5"
      },
      "source": [
        "A partir do gráfico acima, observa-se que empresas pequenas na Índia (que pagam em INR), tendem a pagar um salário menor.\n",
        "\n",
        "Sendo assim, este outlier referente aos salários do nível Sênior, será mantido no dataset, uma vez que ele pode ser justificado pelo fato da empresa pagar em INR, além de ser uma pequena empresa residente na Índia.\n",
        "\n",
        "O próximo passo, será verificar os 3 outliers (superiores) discrepantes no nível Pleno (MI):"
      ]
    },
    {
      "cell_type": "code",
      "execution_count": 515,
      "metadata": {
        "colab": {
          "base_uri": "https://localhost:8080/",
          "height": 143
        },
        "id": "MXHzNAUTSKvS",
        "outputId": "d5de04c6-4cc6-46a5-9d68-488c9264e59d"
      },
      "outputs": [
        {
          "output_type": "execute_result",
          "data": {
            "text/plain": [
              "      work_year experience_level employment_type  \\\n",
              "3522       2020               MI              FT   \n",
              "2011       2022               MI              FT   \n",
              "3747       2021               MI              FT   \n",
              "\n",
              "                               job_title  salary salary_currency  \\\n",
              "3522                  Research Scientist  450000             USD   \n",
              "2011                        Data Analyst  350000             GBP   \n",
              "3747  Applied Machine Learning Scientist  423000             USD   \n",
              "\n",
              "      salary_in_usd employee_residence  remote_ratio company_location  \\\n",
              "3522         450000                 US             0               US   \n",
              "2011         430967                 GB             0               GB   \n",
              "3747         423000                 US            50               US   \n",
              "\n",
              "     company_size  \n",
              "3522            M  \n",
              "2011            M  \n",
              "3747            L  "
            ],
            "text/html": [
              "\n",
              "\n",
              "  <div id=\"df-cc847ae8-3375-474c-81a9-d2243fef9cca\">\n",
              "    <div class=\"colab-df-container\">\n",
              "      <div>\n",
              "<style scoped>\n",
              "    .dataframe tbody tr th:only-of-type {\n",
              "        vertical-align: middle;\n",
              "    }\n",
              "\n",
              "    .dataframe tbody tr th {\n",
              "        vertical-align: top;\n",
              "    }\n",
              "\n",
              "    .dataframe thead th {\n",
              "        text-align: right;\n",
              "    }\n",
              "</style>\n",
              "<table border=\"1\" class=\"dataframe\">\n",
              "  <thead>\n",
              "    <tr style=\"text-align: right;\">\n",
              "      <th></th>\n",
              "      <th>work_year</th>\n",
              "      <th>experience_level</th>\n",
              "      <th>employment_type</th>\n",
              "      <th>job_title</th>\n",
              "      <th>salary</th>\n",
              "      <th>salary_currency</th>\n",
              "      <th>salary_in_usd</th>\n",
              "      <th>employee_residence</th>\n",
              "      <th>remote_ratio</th>\n",
              "      <th>company_location</th>\n",
              "      <th>company_size</th>\n",
              "    </tr>\n",
              "  </thead>\n",
              "  <tbody>\n",
              "    <tr>\n",
              "      <th>3522</th>\n",
              "      <td>2020</td>\n",
              "      <td>MI</td>\n",
              "      <td>FT</td>\n",
              "      <td>Research Scientist</td>\n",
              "      <td>450000</td>\n",
              "      <td>USD</td>\n",
              "      <td>450000</td>\n",
              "      <td>US</td>\n",
              "      <td>0</td>\n",
              "      <td>US</td>\n",
              "      <td>M</td>\n",
              "    </tr>\n",
              "    <tr>\n",
              "      <th>2011</th>\n",
              "      <td>2022</td>\n",
              "      <td>MI</td>\n",
              "      <td>FT</td>\n",
              "      <td>Data Analyst</td>\n",
              "      <td>350000</td>\n",
              "      <td>GBP</td>\n",
              "      <td>430967</td>\n",
              "      <td>GB</td>\n",
              "      <td>0</td>\n",
              "      <td>GB</td>\n",
              "      <td>M</td>\n",
              "    </tr>\n",
              "    <tr>\n",
              "      <th>3747</th>\n",
              "      <td>2021</td>\n",
              "      <td>MI</td>\n",
              "      <td>FT</td>\n",
              "      <td>Applied Machine Learning Scientist</td>\n",
              "      <td>423000</td>\n",
              "      <td>USD</td>\n",
              "      <td>423000</td>\n",
              "      <td>US</td>\n",
              "      <td>50</td>\n",
              "      <td>US</td>\n",
              "      <td>L</td>\n",
              "    </tr>\n",
              "  </tbody>\n",
              "</table>\n",
              "</div>\n",
              "      <button class=\"colab-df-convert\" onclick=\"convertToInteractive('df-cc847ae8-3375-474c-81a9-d2243fef9cca')\"\n",
              "              title=\"Convert this dataframe to an interactive table.\"\n",
              "              style=\"display:none;\">\n",
              "\n",
              "  <svg xmlns=\"http://www.w3.org/2000/svg\" height=\"24px\"viewBox=\"0 0 24 24\"\n",
              "       width=\"24px\">\n",
              "    <path d=\"M0 0h24v24H0V0z\" fill=\"none\"/>\n",
              "    <path d=\"M18.56 5.44l.94 2.06.94-2.06 2.06-.94-2.06-.94-.94-2.06-.94 2.06-2.06.94zm-11 1L8.5 8.5l.94-2.06 2.06-.94-2.06-.94L8.5 2.5l-.94 2.06-2.06.94zm10 10l.94 2.06.94-2.06 2.06-.94-2.06-.94-.94-2.06-.94 2.06-2.06.94z\"/><path d=\"M17.41 7.96l-1.37-1.37c-.4-.4-.92-.59-1.43-.59-.52 0-1.04.2-1.43.59L10.3 9.45l-7.72 7.72c-.78.78-.78 2.05 0 2.83L4 21.41c.39.39.9.59 1.41.59.51 0 1.02-.2 1.41-.59l7.78-7.78 2.81-2.81c.8-.78.8-2.07 0-2.86zM5.41 20L4 18.59l7.72-7.72 1.47 1.35L5.41 20z\"/>\n",
              "  </svg>\n",
              "      </button>\n",
              "\n",
              "\n",
              "\n",
              "    <div id=\"df-aab33f75-745e-4d92-b8ea-0516863bc56c\">\n",
              "      <button class=\"colab-df-quickchart\" onclick=\"quickchart('df-aab33f75-745e-4d92-b8ea-0516863bc56c')\"\n",
              "              title=\"Suggest charts.\"\n",
              "              style=\"display:none;\">\n",
              "\n",
              "<svg xmlns=\"http://www.w3.org/2000/svg\" height=\"24px\"viewBox=\"0 0 24 24\"\n",
              "     width=\"24px\">\n",
              "    <g>\n",
              "        <path d=\"M19 3H5c-1.1 0-2 .9-2 2v14c0 1.1.9 2 2 2h14c1.1 0 2-.9 2-2V5c0-1.1-.9-2-2-2zM9 17H7v-7h2v7zm4 0h-2V7h2v10zm4 0h-2v-4h2v4z\"/>\n",
              "    </g>\n",
              "</svg>\n",
              "      </button>\n",
              "    </div>\n",
              "\n",
              "<style>\n",
              "  .colab-df-quickchart {\n",
              "    background-color: #E8F0FE;\n",
              "    border: none;\n",
              "    border-radius: 50%;\n",
              "    cursor: pointer;\n",
              "    display: none;\n",
              "    fill: #1967D2;\n",
              "    height: 32px;\n",
              "    padding: 0 0 0 0;\n",
              "    width: 32px;\n",
              "  }\n",
              "\n",
              "  .colab-df-quickchart:hover {\n",
              "    background-color: #E2EBFA;\n",
              "    box-shadow: 0px 1px 2px rgba(60, 64, 67, 0.3), 0px 1px 3px 1px rgba(60, 64, 67, 0.15);\n",
              "    fill: #174EA6;\n",
              "  }\n",
              "\n",
              "  [theme=dark] .colab-df-quickchart {\n",
              "    background-color: #3B4455;\n",
              "    fill: #D2E3FC;\n",
              "  }\n",
              "\n",
              "  [theme=dark] .colab-df-quickchart:hover {\n",
              "    background-color: #434B5C;\n",
              "    box-shadow: 0px 1px 3px 1px rgba(0, 0, 0, 0.15);\n",
              "    filter: drop-shadow(0px 1px 2px rgba(0, 0, 0, 0.3));\n",
              "    fill: #FFFFFF;\n",
              "  }\n",
              "</style>\n",
              "\n",
              "    <script>\n",
              "      async function quickchart(key) {\n",
              "        const containerElement = document.querySelector('#' + key);\n",
              "        const charts = await google.colab.kernel.invokeFunction(\n",
              "            'suggestCharts', [key], {});\n",
              "      }\n",
              "    </script>\n",
              "\n",
              "      <script>\n",
              "\n",
              "function displayQuickchartButton(domScope) {\n",
              "  let quickchartButtonEl =\n",
              "    domScope.querySelector('#df-aab33f75-745e-4d92-b8ea-0516863bc56c button.colab-df-quickchart');\n",
              "  quickchartButtonEl.style.display =\n",
              "    google.colab.kernel.accessAllowed ? 'block' : 'none';\n",
              "}\n",
              "\n",
              "        displayQuickchartButton(document);\n",
              "      </script>\n",
              "      <style>\n",
              "    .colab-df-container {\n",
              "      display:flex;\n",
              "      flex-wrap:wrap;\n",
              "      gap: 12px;\n",
              "    }\n",
              "\n",
              "    .colab-df-convert {\n",
              "      background-color: #E8F0FE;\n",
              "      border: none;\n",
              "      border-radius: 50%;\n",
              "      cursor: pointer;\n",
              "      display: none;\n",
              "      fill: #1967D2;\n",
              "      height: 32px;\n",
              "      padding: 0 0 0 0;\n",
              "      width: 32px;\n",
              "    }\n",
              "\n",
              "    .colab-df-convert:hover {\n",
              "      background-color: #E2EBFA;\n",
              "      box-shadow: 0px 1px 2px rgba(60, 64, 67, 0.3), 0px 1px 3px 1px rgba(60, 64, 67, 0.15);\n",
              "      fill: #174EA6;\n",
              "    }\n",
              "\n",
              "    [theme=dark] .colab-df-convert {\n",
              "      background-color: #3B4455;\n",
              "      fill: #D2E3FC;\n",
              "    }\n",
              "\n",
              "    [theme=dark] .colab-df-convert:hover {\n",
              "      background-color: #434B5C;\n",
              "      box-shadow: 0px 1px 3px 1px rgba(0, 0, 0, 0.15);\n",
              "      filter: drop-shadow(0px 1px 2px rgba(0, 0, 0, 0.3));\n",
              "      fill: #FFFFFF;\n",
              "    }\n",
              "  </style>\n",
              "\n",
              "      <script>\n",
              "        const buttonEl =\n",
              "          document.querySelector('#df-cc847ae8-3375-474c-81a9-d2243fef9cca button.colab-df-convert');\n",
              "        buttonEl.style.display =\n",
              "          google.colab.kernel.accessAllowed ? 'block' : 'none';\n",
              "\n",
              "        async function convertToInteractive(key) {\n",
              "          const element = document.querySelector('#df-cc847ae8-3375-474c-81a9-d2243fef9cca');\n",
              "          const dataTable =\n",
              "            await google.colab.kernel.invokeFunction('convertToInteractive',\n",
              "                                                     [key], {});\n",
              "          if (!dataTable) return;\n",
              "\n",
              "          const docLinkHtml = 'Like what you see? Visit the ' +\n",
              "            '<a target=\"_blank\" href=https://colab.research.google.com/notebooks/data_table.ipynb>data table notebook</a>'\n",
              "            + ' to learn more about interactive tables.';\n",
              "          element.innerHTML = '';\n",
              "          dataTable['output_type'] = 'display_data';\n",
              "          await google.colab.output.renderOutput(dataTable, element);\n",
              "          const docLink = document.createElement('div');\n",
              "          docLink.innerHTML = docLinkHtml;\n",
              "          element.appendChild(docLink);\n",
              "        }\n",
              "      </script>\n",
              "    </div>\n",
              "  </div>\n"
            ]
          },
          "metadata": {},
          "execution_count": 515
        }
      ],
      "source": [
        "# verificando os outliers superiores para o nível Pleno\n",
        "df[df['experience_level'] == 'MI'].sort_values('salary_in_usd', ascending=False).head(3)"
      ]
    },
    {
      "cell_type": "markdown",
      "metadata": {
        "id": "vAzhpJDbgX6k"
      },
      "source": [
        "Analisando os dados acima, é possível verificar que os salários dos 3 outliers foram pagos em GBP (que é a moeda mais valorizada do dataset) e em USD (a 3º moeda mais valorizada do dataset), o que pode ser um fator que explique o alto salário pago.\n",
        "\n",
        "Além disso, também será investigado os salários para nível Pleno referentes aos cargos: Research Scientist, Data Analyst e Applied Machine Learning Scientist."
      ]
    },
    {
      "cell_type": "code",
      "execution_count": 516,
      "metadata": {
        "colab": {
          "base_uri": "https://localhost:8080/",
          "height": 430
        },
        "id": "M7F9JrronQg8",
        "outputId": "0de6e1e2-e9d2-41ef-e8ba-443e2ad2d34a"
      },
      "outputs": [
        {
          "output_type": "display_data",
          "data": {
            "text/plain": [
              "<Figure size 640x480 with 1 Axes>"
            ],
            "image/png": "[encoded data removed]"
          },
          "metadata": {}
        }
      ],
      "source": [
        "# separando apenas os salários pagos em GBP para o nível pleno\n",
        "GBP = df[df['salary_currency'] == 'GBP']\n",
        "GBP_MI = GBP[GBP['experience_level'] == 'MI']['salary_in_usd']\n",
        "\n",
        "# separando apenas os salários pagos em USD para o nível pleno\n",
        "USD = df[df['salary_currency'] == 'USD']\n",
        "USD_MI = USD[USD['experience_level'] == 'MI']['salary_in_usd']\n",
        "\n",
        "# verificando o boxplot para salários pagos em GBP e USD para o nível pleno\n",
        "pyplot.boxplot([GBP_MI, USD_MI], labels=(\"GBP\", \"USD\"))\n",
        "pass"
      ]
    },
    {
      "cell_type": "markdown",
      "metadata": {
        "id": "aqLU5UFGqLT5"
      },
      "source": [
        "A partir do gráfico acima, é possível observar que, os demais salários pagos em GBP e USD para o nível Pleno, estão bem distantes destes 3 outliers. No entanto, ainda será verificado os cargos em questão."
      ]
    },
    {
      "cell_type": "code",
      "execution_count": 517,
      "metadata": {
        "colab": {
          "base_uri": "https://localhost:8080/",
          "height": 446
        },
        "id": "UyXOmpqWrZic",
        "outputId": "31e2a94f-629b-43e2-89bd-1d9b2bcc0ba5"
      },
      "outputs": [
        {
          "output_type": "display_data",
          "data": {
            "text/plain": [
              "<Figure size 640x480 with 1 Axes>"
            ],
            "image/png": "[encoded data removed]"
          },
          "metadata": {}
        }
      ],
      "source": [
        "# separando apenas os salários pagos em GBP para o nível pleno\n",
        "GBP = df[df['salary_currency'] == 'GBP']\n",
        "GBP_MI = GBP[GBP['experience_level'] == 'MI']\n",
        "\n",
        "# separando apenas os salários pagos em GBP para o cargo o Data Analyst no nível pleno\n",
        "GBP_MI1 = GBP_MI[GBP_MI['job_title'] == 'Data Analyst']['salary_in_usd']\n",
        "\n",
        "# separando apenas os salários pagos em USD para o nível pleno\n",
        "USD = df[df['salary_currency'] == 'USD']\n",
        "USD_MI = USD[USD['experience_level'] == 'MI']\n",
        "\n",
        "# separando apenas os salários pagos em USD para o cargo o Research Scientist no nível pleno\n",
        "USD_MI1 = USD_MI[USD_MI['job_title'] == 'Research Scientist']['salary_in_usd']\n",
        "\n",
        "# separando apenas os salários pagos em USD para o cargo o Applied Machine Learning Scientist no nível pleno\n",
        "USD_MI2 = USD_MI[USD_MI['job_title'] == 'Applied Machine Learning Scientist']['salary_in_usd']\n",
        "\n",
        "# verificando o boxplot para salários pagos em GBP e USD para os cargos em questão no nível pleno\n",
        "pyplot.boxplot([GBP_MI1, USD_MI1, USD_MI2], labels=(\"GBP\\nData Analyst\", \"USD\\nResearch Scientist\", \"USD\\nApplied ML Scientist\" ))\n",
        "pass"
      ]
    },
    {
      "cell_type": "markdown",
      "metadata": {
        "id": "e45oqedhwA8e"
      },
      "source": [
        "Verificando o gráfico acima, é possível observar que mesmo analisando os salários em um contexto muito específico (filtrando por moeda e cargo), ainda assim, os dados permanecem muito distante dos demais.\n",
        "\n",
        "Logo, não foi possível encontrar nenhum fator que explique o porquê de 3 salários do nível Pleno (MI) serem maiores que o maior outlier do nível Executivo (EX). Sendo assim, estes 3 outliers serão excluidos do dataset."
      ]
    },
    {
      "cell_type": "code",
      "execution_count": 518,
      "metadata": {
        "colab": {
          "base_uri": "https://localhost:8080/"
        },
        "id": "aqHjo-TwyIIZ",
        "outputId": "123f8e53-f32d-45c4-e6a8-997ba7dcd528"
      },
      "outputs": [
        {
          "output_type": "execute_result",
          "data": {
            "text/plain": [
              "845    340000\n",
              "190    300000\n",
              "325    280700\n",
              "Name: salary_in_usd, dtype: int64"
            ]
          },
          "metadata": {},
          "execution_count": 518
        }
      ],
      "source": [
        "# excluindo as linhas do dataframe referentes aos 3 outliers\n",
        "maxMI = df[df['experience_level'] == 'MI']['salary_in_usd'].sort_values(ascending=False).head(3).index\n",
        "df = df.drop(maxMI)\n",
        "\n",
        "# verificando o valor dos 3 maiores salários para o nível pleno\n",
        "df[df['experience_level'] == 'MI']['salary_in_usd'].sort_values(ascending=False).head(3)"
      ]
    },
    {
      "cell_type": "markdown",
      "metadata": {
        "id": "cZTJSCDiN4yg"
      },
      "source": [
        "##### **2.4.3 - SALÁRIO PARA EMPRESAS DE DIFERENTES PAÍSES (BIVARIADO)**\n",
        "\n",
        "Agora, será verificado a distribuição dos salários (em dólar) para empresas de diferentes países."
      ]
    },
    {
      "cell_type": "code",
      "execution_count": 519,
      "metadata": {
        "colab": {
          "base_uri": "https://localhost:8080/",
          "height": 495
        },
        "id": "j5QZcg8gFJxb",
        "outputId": "12a9bf06-88f5-4eab-cfb6-a75f2bf258ec"
      },
      "outputs": [
        {
          "output_type": "execute_result",
          "data": {
            "text/plain": [
              "<Axes: title={'center': 'salary_in_usd'}, xlabel='company_location'>"
            ]
          },
          "metadata": {},
          "execution_count": 519
        },
        {
          "output_type": "display_data",
          "data": {
            "text/plain": [
              "<Figure size 640x480 with 1 Axes>"
            ],
            "image/png": "[encoded data removed]"
          },
          "metadata": {}
        }
      ],
      "source": [
        "# reordenando as categorias para uma melhor visualização no boxplot\n",
        "df['company_location'] = df['company_location'].cat.reorder_categories([\"US\", \"CA\", \"GB\", \"DE\", \"ES\", \"IN\"])\n",
        "\n",
        "# verificando a distribuição dos salários para diferentes países\n",
        "df.boxplot(column='salary_in_usd', by='company_location')"
      ]
    },
    {
      "cell_type": "markdown",
      "metadata": {
        "id": "XFroSeTN3RKJ"
      },
      "source": [
        "A partir do gráfico acima, é possível observar que os Estados Unidos (US) é o país com o maior número de outliers. No entanto, em seu boxplot, não há nenhum outlier superior que esteja muito distante dos demais. Porém, existe um outlier inferior, que será analisado mais a fundo, uma vez que outliers inferiores não é algo muito comum quando se trata de salários.\n",
        "\n",
        "Já no boxplot referente a empresas da Índia (IN), existe um outlier superior muito discrepante dos demais. Além disso, o boxplot referente à Alemanha (DE) e o boxplot referente a Espanha (ES), também possuem um outlier que está um pouco distante dos demais.\n",
        "\n",
        "Primeiramente, será verificado o outlier inferior referente ao boxplot dos Estados Unidos (US):"
      ]
    },
    {
      "cell_type": "code",
      "execution_count": 520,
      "metadata": {
        "colab": {
          "base_uri": "https://localhost:8080/",
          "height": 81
        },
        "id": "FAYEBxL744qh",
        "outputId": "af3bbf8b-ca7e-4029-f766-c6929aeb1e10"
      },
      "outputs": [
        {
          "output_type": "execute_result",
          "data": {
            "text/plain": [
              "      work_year experience_level employment_type       job_title  salary  \\\n",
              "3667       2021               MI              FT  Data Scientist  420000   \n",
              "\n",
              "     salary_currency  salary_in_usd employee_residence  remote_ratio  \\\n",
              "3667             INR           5679                 IN           100   \n",
              "\n",
              "     company_location company_size  \n",
              "3667               US            S  "
            ],
            "text/html": [
              "\n",
              "\n",
              "  <div id=\"df-74b167df-c5ef-4df7-bfcc-88c057643e3b\">\n",
              "    <div class=\"colab-df-container\">\n",
              "      <div>\n",
              "<style scoped>\n",
              "    .dataframe tbody tr th:only-of-type {\n",
              "        vertical-align: middle;\n",
              "    }\n",
              "\n",
              "    .dataframe tbody tr th {\n",
              "        vertical-align: top;\n",
              "    }\n",
              "\n",
              "    .dataframe thead th {\n",
              "        text-align: right;\n",
              "    }\n",
              "</style>\n",
              "<table border=\"1\" class=\"dataframe\">\n",
              "  <thead>\n",
              "    <tr style=\"text-align: right;\">\n",
              "      <th></th>\n",
              "      <th>work_year</th>\n",
              "      <th>experience_level</th>\n",
              "      <th>employment_type</th>\n",
              "      <th>job_title</th>\n",
              "      <th>salary</th>\n",
              "      <th>salary_currency</th>\n",
              "      <th>salary_in_usd</th>\n",
              "      <th>employee_residence</th>\n",
              "      <th>remote_ratio</th>\n",
              "      <th>company_location</th>\n",
              "      <th>company_size</th>\n",
              "    </tr>\n",
              "  </thead>\n",
              "  <tbody>\n",
              "    <tr>\n",
              "      <th>3667</th>\n",
              "      <td>2021</td>\n",
              "      <td>MI</td>\n",
              "      <td>FT</td>\n",
              "      <td>Data Scientist</td>\n",
              "      <td>420000</td>\n",
              "      <td>INR</td>\n",
              "      <td>5679</td>\n",
              "      <td>IN</td>\n",
              "      <td>100</td>\n",
              "      <td>US</td>\n",
              "      <td>S</td>\n",
              "    </tr>\n",
              "  </tbody>\n",
              "</table>\n",
              "</div>\n",
              "      <button class=\"colab-df-convert\" onclick=\"convertToInteractive('df-74b167df-c5ef-4df7-bfcc-88c057643e3b')\"\n",
              "              title=\"Convert this dataframe to an interactive table.\"\n",
              "              style=\"display:none;\">\n",
              "\n",
              "  <svg xmlns=\"http://www.w3.org/2000/svg\" height=\"24px\"viewBox=\"0 0 24 24\"\n",
              "       width=\"24px\">\n",
              "    <path d=\"M0 0h24v24H0V0z\" fill=\"none\"/>\n",
              "    <path d=\"M18.56 5.44l.94 2.06.94-2.06 2.06-.94-2.06-.94-.94-2.06-.94 2.06-2.06.94zm-11 1L8.5 8.5l.94-2.06 2.06-.94-2.06-.94L8.5 2.5l-.94 2.06-2.06.94zm10 10l.94 2.06.94-2.06 2.06-.94-2.06-.94-.94-2.06-.94 2.06-2.06.94z\"/><path d=\"M17.41 7.96l-1.37-1.37c-.4-.4-.92-.59-1.43-.59-.52 0-1.04.2-1.43.59L10.3 9.45l-7.72 7.72c-.78.78-.78 2.05 0 2.83L4 21.41c.39.39.9.59 1.41.59.51 0 1.02-.2 1.41-.59l7.78-7.78 2.81-2.81c.8-.78.8-2.07 0-2.86zM5.41 20L4 18.59l7.72-7.72 1.47 1.35L5.41 20z\"/>\n",
              "  </svg>\n",
              "      </button>\n",
              "\n",
              "\n",
              "\n",
              "    <div id=\"df-6cecacd9-a3a0-46ed-a956-7281468decd4\">\n",
              "      <button class=\"colab-df-quickchart\" onclick=\"quickchart('df-6cecacd9-a3a0-46ed-a956-7281468decd4')\"\n",
              "              title=\"Suggest charts.\"\n",
              "              style=\"display:none;\">\n",
              "\n",
              "<svg xmlns=\"http://www.w3.org/2000/svg\" height=\"24px\"viewBox=\"0 0 24 24\"\n",
              "     width=\"24px\">\n",
              "    <g>\n",
              "        <path d=\"M19 3H5c-1.1 0-2 .9-2 2v14c0 1.1.9 2 2 2h14c1.1 0 2-.9 2-2V5c0-1.1-.9-2-2-2zM9 17H7v-7h2v7zm4 0h-2V7h2v10zm4 0h-2v-4h2v4z\"/>\n",
              "    </g>\n",
              "</svg>\n",
              "      </button>\n",
              "    </div>\n",
              "\n",
              "<style>\n",
              "  .colab-df-quickchart {\n",
              "    background-color: #E8F0FE;\n",
              "    border: none;\n",
              "    border-radius: 50%;\n",
              "    cursor: pointer;\n",
              "    display: none;\n",
              "    fill: #1967D2;\n",
              "    height: 32px;\n",
              "    padding: 0 0 0 0;\n",
              "    width: 32px;\n",
              "  }\n",
              "\n",
              "  .colab-df-quickchart:hover {\n",
              "    background-color: #E2EBFA;\n",
              "    box-shadow: 0px 1px 2px rgba(60, 64, 67, 0.3), 0px 1px 3px 1px rgba(60, 64, 67, 0.15);\n",
              "    fill: #174EA6;\n",
              "  }\n",
              "\n",
              "  [theme=dark] .colab-df-quickchart {\n",
              "    background-color: #3B4455;\n",
              "    fill: #D2E3FC;\n",
              "  }\n",
              "\n",
              "  [theme=dark] .colab-df-quickchart:hover {\n",
              "    background-color: #434B5C;\n",
              "    box-shadow: 0px 1px 3px 1px rgba(0, 0, 0, 0.15);\n",
              "    filter: drop-shadow(0px 1px 2px rgba(0, 0, 0, 0.3));\n",
              "    fill: #FFFFFF;\n",
              "  }\n",
              "</style>\n",
              "\n",
              "    <script>\n",
              "      async function quickchart(key) {\n",
              "        const containerElement = document.querySelector('#' + key);\n",
              "        const charts = await google.colab.kernel.invokeFunction(\n",
              "            'suggestCharts', [key], {});\n",
              "      }\n",
              "    </script>\n",
              "\n",
              "      <script>\n",
              "\n",
              "function displayQuickchartButton(domScope) {\n",
              "  let quickchartButtonEl =\n",
              "    domScope.querySelector('#df-6cecacd9-a3a0-46ed-a956-7281468decd4 button.colab-df-quickchart');\n",
              "  quickchartButtonEl.style.display =\n",
              "    google.colab.kernel.accessAllowed ? 'block' : 'none';\n",
              "}\n",
              "\n",
              "        displayQuickchartButton(document);\n",
              "      </script>\n",
              "      <style>\n",
              "    .colab-df-container {\n",
              "      display:flex;\n",
              "      flex-wrap:wrap;\n",
              "      gap: 12px;\n",
              "    }\n",
              "\n",
              "    .colab-df-convert {\n",
              "      background-color: #E8F0FE;\n",
              "      border: none;\n",
              "      border-radius: 50%;\n",
              "      cursor: pointer;\n",
              "      display: none;\n",
              "      fill: #1967D2;\n",
              "      height: 32px;\n",
              "      padding: 0 0 0 0;\n",
              "      width: 32px;\n",
              "    }\n",
              "\n",
              "    .colab-df-convert:hover {\n",
              "      background-color: #E2EBFA;\n",
              "      box-shadow: 0px 1px 2px rgba(60, 64, 67, 0.3), 0px 1px 3px 1px rgba(60, 64, 67, 0.15);\n",
              "      fill: #174EA6;\n",
              "    }\n",
              "\n",
              "    [theme=dark] .colab-df-convert {\n",
              "      background-color: #3B4455;\n",
              "      fill: #D2E3FC;\n",
              "    }\n",
              "\n",
              "    [theme=dark] .colab-df-convert:hover {\n",
              "      background-color: #434B5C;\n",
              "      box-shadow: 0px 1px 3px 1px rgba(0, 0, 0, 0.15);\n",
              "      filter: drop-shadow(0px 1px 2px rgba(0, 0, 0, 0.3));\n",
              "      fill: #FFFFFF;\n",
              "    }\n",
              "  </style>\n",
              "\n",
              "      <script>\n",
              "        const buttonEl =\n",
              "          document.querySelector('#df-74b167df-c5ef-4df7-bfcc-88c057643e3b button.colab-df-convert');\n",
              "        buttonEl.style.display =\n",
              "          google.colab.kernel.accessAllowed ? 'block' : 'none';\n",
              "\n",
              "        async function convertToInteractive(key) {\n",
              "          const element = document.querySelector('#df-74b167df-c5ef-4df7-bfcc-88c057643e3b');\n",
              "          const dataTable =\n",
              "            await google.colab.kernel.invokeFunction('convertToInteractive',\n",
              "                                                     [key], {});\n",
              "          if (!dataTable) return;\n",
              "\n",
              "          const docLinkHtml = 'Like what you see? Visit the ' +\n",
              "            '<a target=\"_blank\" href=https://colab.research.google.com/notebooks/data_table.ipynb>data table notebook</a>'\n",
              "            + ' to learn more about interactive tables.';\n",
              "          element.innerHTML = '';\n",
              "          dataTable['output_type'] = 'display_data';\n",
              "          await google.colab.output.renderOutput(dataTable, element);\n",
              "          const docLink = document.createElement('div');\n",
              "          docLink.innerHTML = docLinkHtml;\n",
              "          element.appendChild(docLink);\n",
              "        }\n",
              "      </script>\n",
              "    </div>\n",
              "  </div>\n"
            ]
          },
          "metadata": {},
          "execution_count": 520
        }
      ],
      "source": [
        "# verificando o outlier inferior para empresas dos EUA\n",
        "df[df['company_location'] == \"US\"].sort_values('salary_in_usd', ascending=True).head(1)"
      ]
    },
    {
      "cell_type": "markdown",
      "metadata": {
        "id": "2HL5MJAi5kCV"
      },
      "source": [
        "Após verificar esse outlier inferior no conjunto de dados, foi possível observar que o salário foi pago em INR (rupia indiana), o que pode ser explicado pelo fato do cientista de dados residir na Índia.\n",
        "\n",
        "E, como dito anteriormente, essa é a segunda moeda mais desvalorizada no conjunto de dados (1 rupia indiana equivale a apenas 0,012 dólares), logo, esse pode ser um fator que justifique o outlier. Por conta disso, será verificado se outras empresas dos Estados Unidos que pagam em INR, também pagam um baixo valor."
      ]
    },
    {
      "cell_type": "code",
      "execution_count": 521,
      "metadata": {
        "colab": {
          "base_uri": "https://localhost:8080/"
        },
        "id": "d1WzPEPt13Yf",
        "outputId": "9a7d624b-43f2-4979-b8ed-d0af6b3ffd8d"
      },
      "outputs": [
        {
          "output_type": "execute_result",
          "data": {
            "text/plain": [
              "salary_currency\n",
              "USD    3030\n",
              "EUR       4\n",
              "INR       3\n",
              "HUF       1\n",
              "CAD       0\n",
              "GBP       0\n",
              "PLN       0\n",
              "dtype: int64"
            ]
          },
          "metadata": {},
          "execution_count": 521
        }
      ],
      "source": [
        "# verificando se existem outras empresas nos Estados Unidos que também são pagam em INR\n",
        "df[df['company_location'] == 'US'].value_counts('salary_currency')"
      ]
    },
    {
      "cell_type": "markdown",
      "metadata": {
        "id": "i8flYFo7JXxe"
      },
      "source": [
        "Acima, é possível observar que, no conjunto de dados, também existem outras empresas dos Estados Unidos que também pagam em INR."
      ]
    },
    {
      "cell_type": "code",
      "execution_count": 522,
      "metadata": {
        "colab": {
          "base_uri": "https://localhost:8080/",
          "height": 143
        },
        "id": "UY8TPWA43D9L",
        "outputId": "1abee416-fe3e-4912-d537-db60b29332c4"
      },
      "outputs": [
        {
          "output_type": "execute_result",
          "data": {
            "text/plain": [
              "      work_year experience_level employment_type             job_title  \\\n",
              "3667       2021               MI              FT        Data Scientist   \n",
              "1918       2022               MI              FT        Data Scientist   \n",
              "3649       2021               SE              FT  Data Science Manager   \n",
              "\n",
              "       salary salary_currency  salary_in_usd employee_residence  remote_ratio  \\\n",
              "3667   420000             INR           5679                 IN           100   \n",
              "1918  2500000             INR          31795                 IN           100   \n",
              "3649  4000000             INR          54094                 IN            50   \n",
              "\n",
              "     company_location company_size  \n",
              "3667               US            S  \n",
              "1918               US            M  \n",
              "3649               US            L  "
            ],
            "text/html": [
              "\n",
              "\n",
              "  <div id=\"df-851d685d-7cb3-4c79-82b6-4af5c46affa0\">\n",
              "    <div class=\"colab-df-container\">\n",
              "      <div>\n",
              "<style scoped>\n",
              "    .dataframe tbody tr th:only-of-type {\n",
              "        vertical-align: middle;\n",
              "    }\n",
              "\n",
              "    .dataframe tbody tr th {\n",
              "        vertical-align: top;\n",
              "    }\n",
              "\n",
              "    .dataframe thead th {\n",
              "        text-align: right;\n",
              "    }\n",
              "</style>\n",
              "<table border=\"1\" class=\"dataframe\">\n",
              "  <thead>\n",
              "    <tr style=\"text-align: right;\">\n",
              "      <th></th>\n",
              "      <th>work_year</th>\n",
              "      <th>experience_level</th>\n",
              "      <th>employment_type</th>\n",
              "      <th>job_title</th>\n",
              "      <th>salary</th>\n",
              "      <th>salary_currency</th>\n",
              "      <th>salary_in_usd</th>\n",
              "      <th>employee_residence</th>\n",
              "      <th>remote_ratio</th>\n",
              "      <th>company_location</th>\n",
              "      <th>company_size</th>\n",
              "    </tr>\n",
              "  </thead>\n",
              "  <tbody>\n",
              "    <tr>\n",
              "      <th>3667</th>\n",
              "      <td>2021</td>\n",
              "      <td>MI</td>\n",
              "      <td>FT</td>\n",
              "      <td>Data Scientist</td>\n",
              "      <td>420000</td>\n",
              "      <td>INR</td>\n",
              "      <td>5679</td>\n",
              "      <td>IN</td>\n",
              "      <td>100</td>\n",
              "      <td>US</td>\n",
              "      <td>S</td>\n",
              "    </tr>\n",
              "    <tr>\n",
              "      <th>1918</th>\n",
              "      <td>2022</td>\n",
              "      <td>MI</td>\n",
              "      <td>FT</td>\n",
              "      <td>Data Scientist</td>\n",
              "      <td>2500000</td>\n",
              "      <td>INR</td>\n",
              "      <td>31795</td>\n",
              "      <td>IN</td>\n",
              "      <td>100</td>\n",
              "      <td>US</td>\n",
              "      <td>M</td>\n",
              "    </tr>\n",
              "    <tr>\n",
              "      <th>3649</th>\n",
              "      <td>2021</td>\n",
              "      <td>SE</td>\n",
              "      <td>FT</td>\n",
              "      <td>Data Science Manager</td>\n",
              "      <td>4000000</td>\n",
              "      <td>INR</td>\n",
              "      <td>54094</td>\n",
              "      <td>IN</td>\n",
              "      <td>50</td>\n",
              "      <td>US</td>\n",
              "      <td>L</td>\n",
              "    </tr>\n",
              "  </tbody>\n",
              "</table>\n",
              "</div>\n",
              "      <button class=\"colab-df-convert\" onclick=\"convertToInteractive('df-851d685d-7cb3-4c79-82b6-4af5c46affa0')\"\n",
              "              title=\"Convert this dataframe to an interactive table.\"\n",
              "              style=\"display:none;\">\n",
              "\n",
              "  <svg xmlns=\"http://www.w3.org/2000/svg\" height=\"24px\"viewBox=\"0 0 24 24\"\n",
              "       width=\"24px\">\n",
              "    <path d=\"M0 0h24v24H0V0z\" fill=\"none\"/>\n",
              "    <path d=\"M18.56 5.44l.94 2.06.94-2.06 2.06-.94-2.06-.94-.94-2.06-.94 2.06-2.06.94zm-11 1L8.5 8.5l.94-2.06 2.06-.94-2.06-.94L8.5 2.5l-.94 2.06-2.06.94zm10 10l.94 2.06.94-2.06 2.06-.94-2.06-.94-.94-2.06-.94 2.06-2.06.94z\"/><path d=\"M17.41 7.96l-1.37-1.37c-.4-.4-.92-.59-1.43-.59-.52 0-1.04.2-1.43.59L10.3 9.45l-7.72 7.72c-.78.78-.78 2.05 0 2.83L4 21.41c.39.39.9.59 1.41.59.51 0 1.02-.2 1.41-.59l7.78-7.78 2.81-2.81c.8-.78.8-2.07 0-2.86zM5.41 20L4 18.59l7.72-7.72 1.47 1.35L5.41 20z\"/>\n",
              "  </svg>\n",
              "      </button>\n",
              "\n",
              "\n",
              "\n",
              "    <div id=\"df-3116a268-0ecf-4124-8f9e-d087cf50753f\">\n",
              "      <button class=\"colab-df-quickchart\" onclick=\"quickchart('df-3116a268-0ecf-4124-8f9e-d087cf50753f')\"\n",
              "              title=\"Suggest charts.\"\n",
              "              style=\"display:none;\">\n",
              "\n",
              "<svg xmlns=\"http://www.w3.org/2000/svg\" height=\"24px\"viewBox=\"0 0 24 24\"\n",
              "     width=\"24px\">\n",
              "    <g>\n",
              "        <path d=\"M19 3H5c-1.1 0-2 .9-2 2v14c0 1.1.9 2 2 2h14c1.1 0 2-.9 2-2V5c0-1.1-.9-2-2-2zM9 17H7v-7h2v7zm4 0h-2V7h2v10zm4 0h-2v-4h2v4z\"/>\n",
              "    </g>\n",
              "</svg>\n",
              "      </button>\n",
              "    </div>\n",
              "\n",
              "<style>\n",
              "  .colab-df-quickchart {\n",
              "    background-color: #E8F0FE;\n",
              "    border: none;\n",
              "    border-radius: 50%;\n",
              "    cursor: pointer;\n",
              "    display: none;\n",
              "    fill: #1967D2;\n",
              "    height: 32px;\n",
              "    padding: 0 0 0 0;\n",
              "    width: 32px;\n",
              "  }\n",
              "\n",
              "  .colab-df-quickchart:hover {\n",
              "    background-color: #E2EBFA;\n",
              "    box-shadow: 0px 1px 2px rgba(60, 64, 67, 0.3), 0px 1px 3px 1px rgba(60, 64, 67, 0.15);\n",
              "    fill: #174EA6;\n",
              "  }\n",
              "\n",
              "  [theme=dark] .colab-df-quickchart {\n",
              "    background-color: #3B4455;\n",
              "    fill: #D2E3FC;\n",
              "  }\n",
              "\n",
              "  [theme=dark] .colab-df-quickchart:hover {\n",
              "    background-color: #434B5C;\n",
              "    box-shadow: 0px 1px 3px 1px rgba(0, 0, 0, 0.15);\n",
              "    filter: drop-shadow(0px 1px 2px rgba(0, 0, 0, 0.3));\n",
              "    fill: #FFFFFF;\n",
              "  }\n",
              "</style>\n",
              "\n",
              "    <script>\n",
              "      async function quickchart(key) {\n",
              "        const containerElement = document.querySelector('#' + key);\n",
              "        const charts = await google.colab.kernel.invokeFunction(\n",
              "            'suggestCharts', [key], {});\n",
              "      }\n",
              "    </script>\n",
              "\n",
              "      <script>\n",
              "\n",
              "function displayQuickchartButton(domScope) {\n",
              "  let quickchartButtonEl =\n",
              "    domScope.querySelector('#df-3116a268-0ecf-4124-8f9e-d087cf50753f button.colab-df-quickchart');\n",
              "  quickchartButtonEl.style.display =\n",
              "    google.colab.kernel.accessAllowed ? 'block' : 'none';\n",
              "}\n",
              "\n",
              "        displayQuickchartButton(document);\n",
              "      </script>\n",
              "      <style>\n",
              "    .colab-df-container {\n",
              "      display:flex;\n",
              "      flex-wrap:wrap;\n",
              "      gap: 12px;\n",
              "    }\n",
              "\n",
              "    .colab-df-convert {\n",
              "      background-color: #E8F0FE;\n",
              "      border: none;\n",
              "      border-radius: 50%;\n",
              "      cursor: pointer;\n",
              "      display: none;\n",
              "      fill: #1967D2;\n",
              "      height: 32px;\n",
              "      padding: 0 0 0 0;\n",
              "      width: 32px;\n",
              "    }\n",
              "\n",
              "    .colab-df-convert:hover {\n",
              "      background-color: #E2EBFA;\n",
              "      box-shadow: 0px 1px 2px rgba(60, 64, 67, 0.3), 0px 1px 3px 1px rgba(60, 64, 67, 0.15);\n",
              "      fill: #174EA6;\n",
              "    }\n",
              "\n",
              "    [theme=dark] .colab-df-convert {\n",
              "      background-color: #3B4455;\n",
              "      fill: #D2E3FC;\n",
              "    }\n",
              "\n",
              "    [theme=dark] .colab-df-convert:hover {\n",
              "      background-color: #434B5C;\n",
              "      box-shadow: 0px 1px 3px 1px rgba(0, 0, 0, 0.15);\n",
              "      filter: drop-shadow(0px 1px 2px rgba(0, 0, 0, 0.3));\n",
              "      fill: #FFFFFF;\n",
              "    }\n",
              "  </style>\n",
              "\n",
              "      <script>\n",
              "        const buttonEl =\n",
              "          document.querySelector('#df-851d685d-7cb3-4c79-82b6-4af5c46affa0 button.colab-df-convert');\n",
              "        buttonEl.style.display =\n",
              "          google.colab.kernel.accessAllowed ? 'block' : 'none';\n",
              "\n",
              "        async function convertToInteractive(key) {\n",
              "          const element = document.querySelector('#df-851d685d-7cb3-4c79-82b6-4af5c46affa0');\n",
              "          const dataTable =\n",
              "            await google.colab.kernel.invokeFunction('convertToInteractive',\n",
              "                                                     [key], {});\n",
              "          if (!dataTable) return;\n",
              "\n",
              "          const docLinkHtml = 'Like what you see? Visit the ' +\n",
              "            '<a target=\"_blank\" href=https://colab.research.google.com/notebooks/data_table.ipynb>data table notebook</a>'\n",
              "            + ' to learn more about interactive tables.';\n",
              "          element.innerHTML = '';\n",
              "          dataTable['output_type'] = 'display_data';\n",
              "          await google.colab.output.renderOutput(dataTable, element);\n",
              "          const docLink = document.createElement('div');\n",
              "          docLink.innerHTML = docLinkHtml;\n",
              "          element.appendChild(docLink);\n",
              "        }\n",
              "      </script>\n",
              "    </div>\n",
              "  </div>\n"
            ]
          },
          "metadata": {},
          "execution_count": 522
        }
      ],
      "source": [
        "# verificando as demais empresas dos Estados Unidos que também pagam em INR\n",
        "df[(df['company_location']==\"US\") & (df['salary_currency']=='INR')].sort_values('salary_in_usd', ascending=True)"
      ]
    },
    {
      "cell_type": "markdown",
      "metadata": {
        "id": "A7Q-DHrpKroA"
      },
      "source": [
        "A partir dos dados acima, observa-se que o valor é bem discrepante dos demais, mesmo se tratando de salários pagos em INR por empresas residentes nos Estados Unidos.\n",
        "\n",
        "No entanto, pode ser que a empresa tenha optado por contratar cientistas de dados indianos e seguir uma média salarial parecida com as empresas que residem na Índia. Sendo assim, será verificado os demais salários pagos em INR presentes no dataset."
      ]
    },
    {
      "cell_type": "code",
      "execution_count": 523,
      "metadata": {
        "colab": {
          "base_uri": "https://localhost:8080/",
          "height": 363
        },
        "id": "oNWLJz-e4DgA",
        "outputId": "84afcb69-544d-4962-e039-e837228c860b"
      },
      "outputs": [
        {
          "output_type": "execute_result",
          "data": {
            "text/plain": [
              "      work_year experience_level employment_type  \\\n",
              "3537       2021               MI              PT   \n",
              "2578       2021               EN              FT   \n",
              "3667       2021               MI              FT   \n",
              "3685       2020               EN              FT   \n",
              "3023       2022               MI              FT   \n",
              "3689       2020               MI              FT   \n",
              "3593       2020               EN              FT   \n",
              "2872       2022               EN              FT   \n",
              "2800       2022               EN              FT   \n",
              "3494       2021               MI              FT   \n",
              "\n",
              "                          job_title  salary salary_currency  salary_in_usd  \\\n",
              "3537  3D Computer Vision Researcher  400000             INR           5409   \n",
              "2578             Power BI Developer  400000             INR           5409   \n",
              "3667                 Data Scientist  420000             INR           5679   \n",
              "3685        Data Science Consultant  423000             INR           5707   \n",
              "3023                   Data Analyst  450000             INR           5723   \n",
              "3689           Product Data Analyst  450000             INR           6072   \n",
              "3593                   Data Analyst  450000             INR           6072   \n",
              "2872                   Data Analyst  500000             INR           6359   \n",
              "2800                BI Data Analyst  633000             INR           8050   \n",
              "3494                 Data Scientist  700000             INR           9466   \n",
              "\n",
              "     employee_residence  remote_ratio company_location company_size  \n",
              "3537                 IN            50               IN            M  \n",
              "2578                 IN            50               IN            L  \n",
              "3667                 IN           100               US            S  \n",
              "3685                 IN            50               IN            M  \n",
              "3023                 IN           100               IN            S  \n",
              "3689                 IN           100               IN            L  \n",
              "3593                 IN             0               IN            S  \n",
              "2872                 FR           100               IN            L  \n",
              "2800                 IN           100               IN            M  \n",
              "3494                 IN             0               IN            S  "
            ],
            "text/html": [
              "\n",
              "\n",
              "  <div id=\"df-af948acf-4492-4867-8434-0e897e3c59cc\">\n",
              "    <div class=\"colab-df-container\">\n",
              "      <div>\n",
              "<style scoped>\n",
              "    .dataframe tbody tr th:only-of-type {\n",
              "        vertical-align: middle;\n",
              "    }\n",
              "\n",
              "    .dataframe tbody tr th {\n",
              "        vertical-align: top;\n",
              "    }\n",
              "\n",
              "    .dataframe thead th {\n",
              "        text-align: right;\n",
              "    }\n",
              "</style>\n",
              "<table border=\"1\" class=\"dataframe\">\n",
              "  <thead>\n",
              "    <tr style=\"text-align: right;\">\n",
              "      <th></th>\n",
              "      <th>work_year</th>\n",
              "      <th>experience_level</th>\n",
              "      <th>employment_type</th>\n",
              "      <th>job_title</th>\n",
              "      <th>salary</th>\n",
              "      <th>salary_currency</th>\n",
              "      <th>salary_in_usd</th>\n",
              "      <th>employee_residence</th>\n",
              "      <th>remote_ratio</th>\n",
              "      <th>company_location</th>\n",
              "      <th>company_size</th>\n",
              "    </tr>\n",
              "  </thead>\n",
              "  <tbody>\n",
              "    <tr>\n",
              "      <th>3537</th>\n",
              "      <td>2021</td>\n",
              "      <td>MI</td>\n",
              "      <td>PT</td>\n",
              "      <td>3D Computer Vision Researcher</td>\n",
              "      <td>400000</td>\n",
              "      <td>INR</td>\n",
              "      <td>5409</td>\n",
              "      <td>IN</td>\n",
              "      <td>50</td>\n",
              "      <td>IN</td>\n",
              "      <td>M</td>\n",
              "    </tr>\n",
              "    <tr>\n",
              "      <th>2578</th>\n",
              "      <td>2021</td>\n",
              "      <td>EN</td>\n",
              "      <td>FT</td>\n",
              "      <td>Power BI Developer</td>\n",
              "      <td>400000</td>\n",
              "      <td>INR</td>\n",
              "      <td>5409</td>\n",
              "      <td>IN</td>\n",
              "      <td>50</td>\n",
              "      <td>IN</td>\n",
              "      <td>L</td>\n",
              "    </tr>\n",
              "    <tr>\n",
              "      <th>3667</th>\n",
              "      <td>2021</td>\n",
              "      <td>MI</td>\n",
              "      <td>FT</td>\n",
              "      <td>Data Scientist</td>\n",
              "      <td>420000</td>\n",
              "      <td>INR</td>\n",
              "      <td>5679</td>\n",
              "      <td>IN</td>\n",
              "      <td>100</td>\n",
              "      <td>US</td>\n",
              "      <td>S</td>\n",
              "    </tr>\n",
              "    <tr>\n",
              "      <th>3685</th>\n",
              "      <td>2020</td>\n",
              "      <td>EN</td>\n",
              "      <td>FT</td>\n",
              "      <td>Data Science Consultant</td>\n",
              "      <td>423000</td>\n",
              "      <td>INR</td>\n",
              "      <td>5707</td>\n",
              "      <td>IN</td>\n",
              "      <td>50</td>\n",
              "      <td>IN</td>\n",
              "      <td>M</td>\n",
              "    </tr>\n",
              "    <tr>\n",
              "      <th>3023</th>\n",
              "      <td>2022</td>\n",
              "      <td>MI</td>\n",
              "      <td>FT</td>\n",
              "      <td>Data Analyst</td>\n",
              "      <td>450000</td>\n",
              "      <td>INR</td>\n",
              "      <td>5723</td>\n",
              "      <td>IN</td>\n",
              "      <td>100</td>\n",
              "      <td>IN</td>\n",
              "      <td>S</td>\n",
              "    </tr>\n",
              "    <tr>\n",
              "      <th>3689</th>\n",
              "      <td>2020</td>\n",
              "      <td>MI</td>\n",
              "      <td>FT</td>\n",
              "      <td>Product Data Analyst</td>\n",
              "      <td>450000</td>\n",
              "      <td>INR</td>\n",
              "      <td>6072</td>\n",
              "      <td>IN</td>\n",
              "      <td>100</td>\n",
              "      <td>IN</td>\n",
              "      <td>L</td>\n",
              "    </tr>\n",
              "    <tr>\n",
              "      <th>3593</th>\n",
              "      <td>2020</td>\n",
              "      <td>EN</td>\n",
              "      <td>FT</td>\n",
              "      <td>Data Analyst</td>\n",
              "      <td>450000</td>\n",
              "      <td>INR</td>\n",
              "      <td>6072</td>\n",
              "      <td>IN</td>\n",
              "      <td>0</td>\n",
              "      <td>IN</td>\n",
              "      <td>S</td>\n",
              "    </tr>\n",
              "    <tr>\n",
              "      <th>2872</th>\n",
              "      <td>2022</td>\n",
              "      <td>EN</td>\n",
              "      <td>FT</td>\n",
              "      <td>Data Analyst</td>\n",
              "      <td>500000</td>\n",
              "      <td>INR</td>\n",
              "      <td>6359</td>\n",
              "      <td>FR</td>\n",
              "      <td>100</td>\n",
              "      <td>IN</td>\n",
              "      <td>L</td>\n",
              "    </tr>\n",
              "    <tr>\n",
              "      <th>2800</th>\n",
              "      <td>2022</td>\n",
              "      <td>EN</td>\n",
              "      <td>FT</td>\n",
              "      <td>BI Data Analyst</td>\n",
              "      <td>633000</td>\n",
              "      <td>INR</td>\n",
              "      <td>8050</td>\n",
              "      <td>IN</td>\n",
              "      <td>100</td>\n",
              "      <td>IN</td>\n",
              "      <td>M</td>\n",
              "    </tr>\n",
              "    <tr>\n",
              "      <th>3494</th>\n",
              "      <td>2021</td>\n",
              "      <td>MI</td>\n",
              "      <td>FT</td>\n",
              "      <td>Data Scientist</td>\n",
              "      <td>700000</td>\n",
              "      <td>INR</td>\n",
              "      <td>9466</td>\n",
              "      <td>IN</td>\n",
              "      <td>0</td>\n",
              "      <td>IN</td>\n",
              "      <td>S</td>\n",
              "    </tr>\n",
              "  </tbody>\n",
              "</table>\n",
              "</div>\n",
              "      <button class=\"colab-df-convert\" onclick=\"convertToInteractive('df-af948acf-4492-4867-8434-0e897e3c59cc')\"\n",
              "              title=\"Convert this dataframe to an interactive table.\"\n",
              "              style=\"display:none;\">\n",
              "\n",
              "  <svg xmlns=\"http://www.w3.org/2000/svg\" height=\"24px\"viewBox=\"0 0 24 24\"\n",
              "       width=\"24px\">\n",
              "    <path d=\"M0 0h24v24H0V0z\" fill=\"none\"/>\n",
              "    <path d=\"M18.56 5.44l.94 2.06.94-2.06 2.06-.94-2.06-.94-.94-2.06-.94 2.06-2.06.94zm-11 1L8.5 8.5l.94-2.06 2.06-.94-2.06-.94L8.5 2.5l-.94 2.06-2.06.94zm10 10l.94 2.06.94-2.06 2.06-.94-2.06-.94-.94-2.06-.94 2.06-2.06.94z\"/><path d=\"M17.41 7.96l-1.37-1.37c-.4-.4-.92-.59-1.43-.59-.52 0-1.04.2-1.43.59L10.3 9.45l-7.72 7.72c-.78.78-.78 2.05 0 2.83L4 21.41c.39.39.9.59 1.41.59.51 0 1.02-.2 1.41-.59l7.78-7.78 2.81-2.81c.8-.78.8-2.07 0-2.86zM5.41 20L4 18.59l7.72-7.72 1.47 1.35L5.41 20z\"/>\n",
              "  </svg>\n",
              "      </button>\n",
              "\n",
              "\n",
              "\n",
              "    <div id=\"df-b8949329-d95d-4538-aaf5-ca68128d7f44\">\n",
              "      <button class=\"colab-df-quickchart\" onclick=\"quickchart('df-b8949329-d95d-4538-aaf5-ca68128d7f44')\"\n",
              "              title=\"Suggest charts.\"\n",
              "              style=\"display:none;\">\n",
              "\n",
              "<svg xmlns=\"http://www.w3.org/2000/svg\" height=\"24px\"viewBox=\"0 0 24 24\"\n",
              "     width=\"24px\">\n",
              "    <g>\n",
              "        <path d=\"M19 3H5c-1.1 0-2 .9-2 2v14c0 1.1.9 2 2 2h14c1.1 0 2-.9 2-2V5c0-1.1-.9-2-2-2zM9 17H7v-7h2v7zm4 0h-2V7h2v10zm4 0h-2v-4h2v4z\"/>\n",
              "    </g>\n",
              "</svg>\n",
              "      </button>\n",
              "    </div>\n",
              "\n",
              "<style>\n",
              "  .colab-df-quickchart {\n",
              "    background-color: #E8F0FE;\n",
              "    border: none;\n",
              "    border-radius: 50%;\n",
              "    cursor: pointer;\n",
              "    display: none;\n",
              "    fill: #1967D2;\n",
              "    height: 32px;\n",
              "    padding: 0 0 0 0;\n",
              "    width: 32px;\n",
              "  }\n",
              "\n",
              "  .colab-df-quickchart:hover {\n",
              "    background-color: #E2EBFA;\n",
              "    box-shadow: 0px 1px 2px rgba(60, 64, 67, 0.3), 0px 1px 3px 1px rgba(60, 64, 67, 0.15);\n",
              "    fill: #174EA6;\n",
              "  }\n",
              "\n",
              "  [theme=dark] .colab-df-quickchart {\n",
              "    background-color: #3B4455;\n",
              "    fill: #D2E3FC;\n",
              "  }\n",
              "\n",
              "  [theme=dark] .colab-df-quickchart:hover {\n",
              "    background-color: #434B5C;\n",
              "    box-shadow: 0px 1px 3px 1px rgba(0, 0, 0, 0.15);\n",
              "    filter: drop-shadow(0px 1px 2px rgba(0, 0, 0, 0.3));\n",
              "    fill: #FFFFFF;\n",
              "  }\n",
              "</style>\n",
              "\n",
              "    <script>\n",
              "      async function quickchart(key) {\n",
              "        const containerElement = document.querySelector('#' + key);\n",
              "        const charts = await google.colab.kernel.invokeFunction(\n",
              "            'suggestCharts', [key], {});\n",
              "      }\n",
              "    </script>\n",
              "\n",
              "      <script>\n",
              "\n",
              "function displayQuickchartButton(domScope) {\n",
              "  let quickchartButtonEl =\n",
              "    domScope.querySelector('#df-b8949329-d95d-4538-aaf5-ca68128d7f44 button.colab-df-quickchart');\n",
              "  quickchartButtonEl.style.display =\n",
              "    google.colab.kernel.accessAllowed ? 'block' : 'none';\n",
              "}\n",
              "\n",
              "        displayQuickchartButton(document);\n",
              "      </script>\n",
              "      <style>\n",
              "    .colab-df-container {\n",
              "      display:flex;\n",
              "      flex-wrap:wrap;\n",
              "      gap: 12px;\n",
              "    }\n",
              "\n",
              "    .colab-df-convert {\n",
              "      background-color: #E8F0FE;\n",
              "      border: none;\n",
              "      border-radius: 50%;\n",
              "      cursor: pointer;\n",
              "      display: none;\n",
              "      fill: #1967D2;\n",
              "      height: 32px;\n",
              "      padding: 0 0 0 0;\n",
              "      width: 32px;\n",
              "    }\n",
              "\n",
              "    .colab-df-convert:hover {\n",
              "      background-color: #E2EBFA;\n",
              "      box-shadow: 0px 1px 2px rgba(60, 64, 67, 0.3), 0px 1px 3px 1px rgba(60, 64, 67, 0.15);\n",
              "      fill: #174EA6;\n",
              "    }\n",
              "\n",
              "    [theme=dark] .colab-df-convert {\n",
              "      background-color: #3B4455;\n",
              "      fill: #D2E3FC;\n",
              "    }\n",
              "\n",
              "    [theme=dark] .colab-df-convert:hover {\n",
              "      background-color: #434B5C;\n",
              "      box-shadow: 0px 1px 3px 1px rgba(0, 0, 0, 0.15);\n",
              "      filter: drop-shadow(0px 1px 2px rgba(0, 0, 0, 0.3));\n",
              "      fill: #FFFFFF;\n",
              "    }\n",
              "  </style>\n",
              "\n",
              "      <script>\n",
              "        const buttonEl =\n",
              "          document.querySelector('#df-af948acf-4492-4867-8434-0e897e3c59cc button.colab-df-convert');\n",
              "        buttonEl.style.display =\n",
              "          google.colab.kernel.accessAllowed ? 'block' : 'none';\n",
              "\n",
              "        async function convertToInteractive(key) {\n",
              "          const element = document.querySelector('#df-af948acf-4492-4867-8434-0e897e3c59cc');\n",
              "          const dataTable =\n",
              "            await google.colab.kernel.invokeFunction('convertToInteractive',\n",
              "                                                     [key], {});\n",
              "          if (!dataTable) return;\n",
              "\n",
              "          const docLinkHtml = 'Like what you see? Visit the ' +\n",
              "            '<a target=\"_blank\" href=https://colab.research.google.com/notebooks/data_table.ipynb>data table notebook</a>'\n",
              "            + ' to learn more about interactive tables.';\n",
              "          element.innerHTML = '';\n",
              "          dataTable['output_type'] = 'display_data';\n",
              "          await google.colab.output.renderOutput(dataTable, element);\n",
              "          const docLink = document.createElement('div');\n",
              "          docLink.innerHTML = docLinkHtml;\n",
              "          element.appendChild(docLink);\n",
              "        }\n",
              "      </script>\n",
              "    </div>\n",
              "  </div>\n"
            ]
          },
          "metadata": {},
          "execution_count": 523
        }
      ],
      "source": [
        "# verificando os demais salários pagos em INR\n",
        "df[df['salary_currency']=='INR'].sort_values('salary_in_usd',ascending=True).head(10)"
      ]
    },
    {
      "cell_type": "markdown",
      "metadata": {
        "id": "YZmX-fQGI-Xr"
      },
      "source": [
        "Acima, é possível observar que, vários outros salários pagos em INR, se aproximam desse valor. Sendo assim, apesar de ser um outlier inferior, acredita-se que este dado não estaja errado e ele será mantido no dataset.\n",
        "\n",
        "O próximo passo, será verificar os outros 3 outliers superiores mencionados anteriormente: um referente a empresas da Índia, outro referente a empresas da Alemanha e, por fim, um referente a empresas da Espanha.\n",
        "\n",
        "Primeiramente, será verificado o outlier referente às empresas da Índia (IN):"
      ]
    },
    {
      "cell_type": "code",
      "execution_count": 524,
      "metadata": {
        "colab": {
          "base_uri": "https://localhost:8080/",
          "height": 206
        },
        "id": "bhWT_NyIMTGx",
        "outputId": "26b5421e-f0ea-43ab-edff-58b58454e711"
      },
      "outputs": [
        {
          "output_type": "execute_result",
          "data": {
            "text/plain": [
              "      work_year experience_level employment_type  \\\n",
              "83         2022               EN              FT   \n",
              "2966       2022               SE              FT   \n",
              "3754       2021               SE              FT   \n",
              "3192       2022               EX              FT   \n",
              "3639       2021               SE              FT   \n",
              "\n",
              "                           job_title   salary salary_currency  salary_in_usd  \\\n",
              "83                      AI Developer   300000             USD         300000   \n",
              "2966  Lead Machine Learning Engineer  7500000             INR          95386   \n",
              "3754            Data Science Manager  7000000             INR          94665   \n",
              "3192        Head of Machine Learning  6000000             INR          76309   \n",
              "3639       Machine Learning Engineer  4900000             INR          66265   \n",
              "\n",
              "     employee_residence  remote_ratio company_location company_size  \n",
              "83                   IN            50               IN            L  \n",
              "2966                 IN            50               IN            L  \n",
              "3754                 IN            50               IN            L  \n",
              "3192                 IN            50               IN            L  \n",
              "3639                 IN             0               IN            L  "
            ],
            "text/html": [
              "\n",
              "\n",
              "  <div id=\"df-71c0b848-3c90-4cfb-a598-1babf0596c50\">\n",
              "    <div class=\"colab-df-container\">\n",
              "      <div>\n",
              "<style scoped>\n",
              "    .dataframe tbody tr th:only-of-type {\n",
              "        vertical-align: middle;\n",
              "    }\n",
              "\n",
              "    .dataframe tbody tr th {\n",
              "        vertical-align: top;\n",
              "    }\n",
              "\n",
              "    .dataframe thead th {\n",
              "        text-align: right;\n",
              "    }\n",
              "</style>\n",
              "<table border=\"1\" class=\"dataframe\">\n",
              "  <thead>\n",
              "    <tr style=\"text-align: right;\">\n",
              "      <th></th>\n",
              "      <th>work_year</th>\n",
              "      <th>experience_level</th>\n",
              "      <th>employment_type</th>\n",
              "      <th>job_title</th>\n",
              "      <th>salary</th>\n",
              "      <th>salary_currency</th>\n",
              "      <th>salary_in_usd</th>\n",
              "      <th>employee_residence</th>\n",
              "      <th>remote_ratio</th>\n",
              "      <th>company_location</th>\n",
              "      <th>company_size</th>\n",
              "    </tr>\n",
              "  </thead>\n",
              "  <tbody>\n",
              "    <tr>\n",
              "      <th>83</th>\n",
              "      <td>2022</td>\n",
              "      <td>EN</td>\n",
              "      <td>FT</td>\n",
              "      <td>AI Developer</td>\n",
              "      <td>300000</td>\n",
              "      <td>USD</td>\n",
              "      <td>300000</td>\n",
              "      <td>IN</td>\n",
              "      <td>50</td>\n",
              "      <td>IN</td>\n",
              "      <td>L</td>\n",
              "    </tr>\n",
              "    <tr>\n",
              "      <th>2966</th>\n",
              "      <td>2022</td>\n",
              "      <td>SE</td>\n",
              "      <td>FT</td>\n",
              "      <td>Lead Machine Learning Engineer</td>\n",
              "      <td>7500000</td>\n",
              "      <td>INR</td>\n",
              "      <td>95386</td>\n",
              "      <td>IN</td>\n",
              "      <td>50</td>\n",
              "      <td>IN</td>\n",
              "      <td>L</td>\n",
              "    </tr>\n",
              "    <tr>\n",
              "      <th>3754</th>\n",
              "      <td>2021</td>\n",
              "      <td>SE</td>\n",
              "      <td>FT</td>\n",
              "      <td>Data Science Manager</td>\n",
              "      <td>7000000</td>\n",
              "      <td>INR</td>\n",
              "      <td>94665</td>\n",
              "      <td>IN</td>\n",
              "      <td>50</td>\n",
              "      <td>IN</td>\n",
              "      <td>L</td>\n",
              "    </tr>\n",
              "    <tr>\n",
              "      <th>3192</th>\n",
              "      <td>2022</td>\n",
              "      <td>EX</td>\n",
              "      <td>FT</td>\n",
              "      <td>Head of Machine Learning</td>\n",
              "      <td>6000000</td>\n",
              "      <td>INR</td>\n",
              "      <td>76309</td>\n",
              "      <td>IN</td>\n",
              "      <td>50</td>\n",
              "      <td>IN</td>\n",
              "      <td>L</td>\n",
              "    </tr>\n",
              "    <tr>\n",
              "      <th>3639</th>\n",
              "      <td>2021</td>\n",
              "      <td>SE</td>\n",
              "      <td>FT</td>\n",
              "      <td>Machine Learning Engineer</td>\n",
              "      <td>4900000</td>\n",
              "      <td>INR</td>\n",
              "      <td>66265</td>\n",
              "      <td>IN</td>\n",
              "      <td>0</td>\n",
              "      <td>IN</td>\n",
              "      <td>L</td>\n",
              "    </tr>\n",
              "  </tbody>\n",
              "</table>\n",
              "</div>\n",
              "      <button class=\"colab-df-convert\" onclick=\"convertToInteractive('df-71c0b848-3c90-4cfb-a598-1babf0596c50')\"\n",
              "              title=\"Convert this dataframe to an interactive table.\"\n",
              "              style=\"display:none;\">\n",
              "\n",
              "  <svg xmlns=\"http://www.w3.org/2000/svg\" height=\"24px\"viewBox=\"0 0 24 24\"\n",
              "       width=\"24px\">\n",
              "    <path d=\"M0 0h24v24H0V0z\" fill=\"none\"/>\n",
              "    <path d=\"M18.56 5.44l.94 2.06.94-2.06 2.06-.94-2.06-.94-.94-2.06-.94 2.06-2.06.94zm-11 1L8.5 8.5l.94-2.06 2.06-.94-2.06-.94L8.5 2.5l-.94 2.06-2.06.94zm10 10l.94 2.06.94-2.06 2.06-.94-2.06-.94-.94-2.06-.94 2.06-2.06.94z\"/><path d=\"M17.41 7.96l-1.37-1.37c-.4-.4-.92-.59-1.43-.59-.52 0-1.04.2-1.43.59L10.3 9.45l-7.72 7.72c-.78.78-.78 2.05 0 2.83L4 21.41c.39.39.9.59 1.41.59.51 0 1.02-.2 1.41-.59l7.78-7.78 2.81-2.81c.8-.78.8-2.07 0-2.86zM5.41 20L4 18.59l7.72-7.72 1.47 1.35L5.41 20z\"/>\n",
              "  </svg>\n",
              "      </button>\n",
              "\n",
              "\n",
              "\n",
              "    <div id=\"df-d64ef46d-7248-47b5-903b-7e9bd5d3b76b\">\n",
              "      <button class=\"colab-df-quickchart\" onclick=\"quickchart('df-d64ef46d-7248-47b5-903b-7e9bd5d3b76b')\"\n",
              "              title=\"Suggest charts.\"\n",
              "              style=\"display:none;\">\n",
              "\n",
              "<svg xmlns=\"http://www.w3.org/2000/svg\" height=\"24px\"viewBox=\"0 0 24 24\"\n",
              "     width=\"24px\">\n",
              "    <g>\n",
              "        <path d=\"M19 3H5c-1.1 0-2 .9-2 2v14c0 1.1.9 2 2 2h14c1.1 0 2-.9 2-2V5c0-1.1-.9-2-2-2zM9 17H7v-7h2v7zm4 0h-2V7h2v10zm4 0h-2v-4h2v4z\"/>\n",
              "    </g>\n",
              "</svg>\n",
              "      </button>\n",
              "    </div>\n",
              "\n",
              "<style>\n",
              "  .colab-df-quickchart {\n",
              "    background-color: #E8F0FE;\n",
              "    border: none;\n",
              "    border-radius: 50%;\n",
              "    cursor: pointer;\n",
              "    display: none;\n",
              "    fill: #1967D2;\n",
              "    height: 32px;\n",
              "    padding: 0 0 0 0;\n",
              "    width: 32px;\n",
              "  }\n",
              "\n",
              "  .colab-df-quickchart:hover {\n",
              "    background-color: #E2EBFA;\n",
              "    box-shadow: 0px 1px 2px rgba(60, 64, 67, 0.3), 0px 1px 3px 1px rgba(60, 64, 67, 0.15);\n",
              "    fill: #174EA6;\n",
              "  }\n",
              "\n",
              "  [theme=dark] .colab-df-quickchart {\n",
              "    background-color: #3B4455;\n",
              "    fill: #D2E3FC;\n",
              "  }\n",
              "\n",
              "  [theme=dark] .colab-df-quickchart:hover {\n",
              "    background-color: #434B5C;\n",
              "    box-shadow: 0px 1px 3px 1px rgba(0, 0, 0, 0.15);\n",
              "    filter: drop-shadow(0px 1px 2px rgba(0, 0, 0, 0.3));\n",
              "    fill: #FFFFFF;\n",
              "  }\n",
              "</style>\n",
              "\n",
              "    <script>\n",
              "      async function quickchart(key) {\n",
              "        const containerElement = document.querySelector('#' + key);\n",
              "        const charts = await google.colab.kernel.invokeFunction(\n",
              "            'suggestCharts', [key], {});\n",
              "      }\n",
              "    </script>\n",
              "\n",
              "      <script>\n",
              "\n",
              "function displayQuickchartButton(domScope) {\n",
              "  let quickchartButtonEl =\n",
              "    domScope.querySelector('#df-d64ef46d-7248-47b5-903b-7e9bd5d3b76b button.colab-df-quickchart');\n",
              "  quickchartButtonEl.style.display =\n",
              "    google.colab.kernel.accessAllowed ? 'block' : 'none';\n",
              "}\n",
              "\n",
              "        displayQuickchartButton(document);\n",
              "      </script>\n",
              "      <style>\n",
              "    .colab-df-container {\n",
              "      display:flex;\n",
              "      flex-wrap:wrap;\n",
              "      gap: 12px;\n",
              "    }\n",
              "\n",
              "    .colab-df-convert {\n",
              "      background-color: #E8F0FE;\n",
              "      border: none;\n",
              "      border-radius: 50%;\n",
              "      cursor: pointer;\n",
              "      display: none;\n",
              "      fill: #1967D2;\n",
              "      height: 32px;\n",
              "      padding: 0 0 0 0;\n",
              "      width: 32px;\n",
              "    }\n",
              "\n",
              "    .colab-df-convert:hover {\n",
              "      background-color: #E2EBFA;\n",
              "      box-shadow: 0px 1px 2px rgba(60, 64, 67, 0.3), 0px 1px 3px 1px rgba(60, 64, 67, 0.15);\n",
              "      fill: #174EA6;\n",
              "    }\n",
              "\n",
              "    [theme=dark] .colab-df-convert {\n",
              "      background-color: #3B4455;\n",
              "      fill: #D2E3FC;\n",
              "    }\n",
              "\n",
              "    [theme=dark] .colab-df-convert:hover {\n",
              "      background-color: #434B5C;\n",
              "      box-shadow: 0px 1px 3px 1px rgba(0, 0, 0, 0.15);\n",
              "      filter: drop-shadow(0px 1px 2px rgba(0, 0, 0, 0.3));\n",
              "      fill: #FFFFFF;\n",
              "    }\n",
              "  </style>\n",
              "\n",
              "      <script>\n",
              "        const buttonEl =\n",
              "          document.querySelector('#df-71c0b848-3c90-4cfb-a598-1babf0596c50 button.colab-df-convert');\n",
              "        buttonEl.style.display =\n",
              "          google.colab.kernel.accessAllowed ? 'block' : 'none';\n",
              "\n",
              "        async function convertToInteractive(key) {\n",
              "          const element = document.querySelector('#df-71c0b848-3c90-4cfb-a598-1babf0596c50');\n",
              "          const dataTable =\n",
              "            await google.colab.kernel.invokeFunction('convertToInteractive',\n",
              "                                                     [key], {});\n",
              "          if (!dataTable) return;\n",
              "\n",
              "          const docLinkHtml = 'Like what you see? Visit the ' +\n",
              "            '<a target=\"_blank\" href=https://colab.research.google.com/notebooks/data_table.ipynb>data table notebook</a>'\n",
              "            + ' to learn more about interactive tables.';\n",
              "          element.innerHTML = '';\n",
              "          dataTable['output_type'] = 'display_data';\n",
              "          await google.colab.output.renderOutput(dataTable, element);\n",
              "          const docLink = document.createElement('div');\n",
              "          docLink.innerHTML = docLinkHtml;\n",
              "          element.appendChild(docLink);\n",
              "        }\n",
              "      </script>\n",
              "    </div>\n",
              "  </div>\n"
            ]
          },
          "metadata": {},
          "execution_count": 524
        }
      ],
      "source": [
        "# verificando o outlier superior para empresas da Índia\n",
        "df[df['company_location'] == \"IN\"].sort_values('salary_in_usd', ascending=False).head(5)"
      ]
    },
    {
      "cell_type": "markdown",
      "metadata": {
        "id": "3kmWAyAYPP2j"
      },
      "source": [
        "Acima, é possível observar que o salário referente ao outlier foi pago em dólar, o que pode contribuir para o salário ser um pouco maior. No entanto, é algo muito incomum uma empresa residente na Índia (país que possui uma moeda relativamente desvalorizada), pagar o salário em dólar e ainda seguir a média salarial de empresas dos Estados Unidos (média salarial absurdamente maior do que a média salarial paga por empresas residentes na Índia). E como não foi encontrada nenhuma evidência que explique este fato, acredita-se que o dado esteja errado e ele será excluído do dataset."
      ]
    },
    {
      "cell_type": "code",
      "execution_count": 525,
      "metadata": {
        "colab": {
          "base_uri": "https://localhost:8080/"
        },
        "id": "xqFM0wt7QRNy",
        "outputId": "ced4c075-3917-497e-cf31-836884be2246"
      },
      "outputs": [
        {
          "output_type": "execute_result",
          "data": {
            "text/plain": [
              "2966    95386\n",
              "Name: salary_in_usd, dtype: int64"
            ]
          },
          "metadata": {},
          "execution_count": 525
        }
      ],
      "source": [
        "# excluindo a linha do dataframe referentes ao outlier da Índia\n",
        "maxIN = df[df['company_location'] == 'IN']['salary_in_usd'].sort_values(ascending=False).head(1).index\n",
        "df = df.drop(maxIN)\n",
        "\n",
        "# verificando o valor do maior salário em empresas da Índia\n",
        "df[df['company_location'] == 'IN']['salary_in_usd'].sort_values(ascending=False).head(1)"
      ]
    },
    {
      "cell_type": "markdown",
      "metadata": {
        "id": "PNpqOSGDNQee"
      },
      "source": [
        "O próximo passo será verificar o outlier referente às empresas da Alemanha (DE):"
      ]
    },
    {
      "cell_type": "code",
      "execution_count": 526,
      "metadata": {
        "colab": {
          "base_uri": "https://localhost:8080/",
          "height": 206
        },
        "id": "uoZCb7XzPhKT",
        "outputId": "3c6d2184-be30-4563-fdf3-000ce361ea4d"
      },
      "outputs": [
        {
          "output_type": "execute_result",
          "data": {
            "text/plain": [
              "      work_year experience_level employment_type                  job_title  \\\n",
              "21         2023               SE              FT          Research Engineer   \n",
              "1024       2023               SE              FT  Machine Learning Engineer   \n",
              "836        2023               EN              FT               AI Developer   \n",
              "22         2023               SE              FT          Research Engineer   \n",
              "1025       2023               SE              FT  Machine Learning Engineer   \n",
              "\n",
              "      salary salary_currency  salary_in_usd employee_residence  remote_ratio  \\\n",
              "21    275000             USD         275000                 DE             0   \n",
              "1024  275000             USD         275000                 DE             0   \n",
              "836   200000             EUR         214618                 DE           100   \n",
              "22    174000             USD         174000                 DE             0   \n",
              "1025  174000             USD         174000                 DE             0   \n",
              "\n",
              "     company_location company_size  \n",
              "21                 DE            M  \n",
              "1024               DE            M  \n",
              "836                DE            L  \n",
              "22                 DE            M  \n",
              "1025               DE            M  "
            ],
            "text/html": [
              "\n",
              "\n",
              "  <div id=\"df-d9809350-0f30-4ed8-9c85-7a600ae974c9\">\n",
              "    <div class=\"colab-df-container\">\n",
              "      <div>\n",
              "<style scoped>\n",
              "    .dataframe tbody tr th:only-of-type {\n",
              "        vertical-align: middle;\n",
              "    }\n",
              "\n",
              "    .dataframe tbody tr th {\n",
              "        vertical-align: top;\n",
              "    }\n",
              "\n",
              "    .dataframe thead th {\n",
              "        text-align: right;\n",
              "    }\n",
              "</style>\n",
              "<table border=\"1\" class=\"dataframe\">\n",
              "  <thead>\n",
              "    <tr style=\"text-align: right;\">\n",
              "      <th></th>\n",
              "      <th>work_year</th>\n",
              "      <th>experience_level</th>\n",
              "      <th>employment_type</th>\n",
              "      <th>job_title</th>\n",
              "      <th>salary</th>\n",
              "      <th>salary_currency</th>\n",
              "      <th>salary_in_usd</th>\n",
              "      <th>employee_residence</th>\n",
              "      <th>remote_ratio</th>\n",
              "      <th>company_location</th>\n",
              "      <th>company_size</th>\n",
              "    </tr>\n",
              "  </thead>\n",
              "  <tbody>\n",
              "    <tr>\n",
              "      <th>21</th>\n",
              "      <td>2023</td>\n",
              "      <td>SE</td>\n",
              "      <td>FT</td>\n",
              "      <td>Research Engineer</td>\n",
              "      <td>275000</td>\n",
              "      <td>USD</td>\n",
              "      <td>275000</td>\n",
              "      <td>DE</td>\n",
              "      <td>0</td>\n",
              "      <td>DE</td>\n",
              "      <td>M</td>\n",
              "    </tr>\n",
              "    <tr>\n",
              "      <th>1024</th>\n",
              "      <td>2023</td>\n",
              "      <td>SE</td>\n",
              "      <td>FT</td>\n",
              "      <td>Machine Learning Engineer</td>\n",
              "      <td>275000</td>\n",
              "      <td>USD</td>\n",
              "      <td>275000</td>\n",
              "      <td>DE</td>\n",
              "      <td>0</td>\n",
              "      <td>DE</td>\n",
              "      <td>M</td>\n",
              "    </tr>\n",
              "    <tr>\n",
              "      <th>836</th>\n",
              "      <td>2023</td>\n",
              "      <td>EN</td>\n",
              "      <td>FT</td>\n",
              "      <td>AI Developer</td>\n",
              "      <td>200000</td>\n",
              "      <td>EUR</td>\n",
              "      <td>214618</td>\n",
              "      <td>DE</td>\n",
              "      <td>100</td>\n",
              "      <td>DE</td>\n",
              "      <td>L</td>\n",
              "    </tr>\n",
              "    <tr>\n",
              "      <th>22</th>\n",
              "      <td>2023</td>\n",
              "      <td>SE</td>\n",
              "      <td>FT</td>\n",
              "      <td>Research Engineer</td>\n",
              "      <td>174000</td>\n",
              "      <td>USD</td>\n",
              "      <td>174000</td>\n",
              "      <td>DE</td>\n",
              "      <td>0</td>\n",
              "      <td>DE</td>\n",
              "      <td>M</td>\n",
              "    </tr>\n",
              "    <tr>\n",
              "      <th>1025</th>\n",
              "      <td>2023</td>\n",
              "      <td>SE</td>\n",
              "      <td>FT</td>\n",
              "      <td>Machine Learning Engineer</td>\n",
              "      <td>174000</td>\n",
              "      <td>USD</td>\n",
              "      <td>174000</td>\n",
              "      <td>DE</td>\n",
              "      <td>0</td>\n",
              "      <td>DE</td>\n",
              "      <td>M</td>\n",
              "    </tr>\n",
              "  </tbody>\n",
              "</table>\n",
              "</div>\n",
              "      <button class=\"colab-df-convert\" onclick=\"convertToInteractive('df-d9809350-0f30-4ed8-9c85-7a600ae974c9')\"\n",
              "              title=\"Convert this dataframe to an interactive table.\"\n",
              "              style=\"display:none;\">\n",
              "\n",
              "  <svg xmlns=\"http://www.w3.org/2000/svg\" height=\"24px\"viewBox=\"0 0 24 24\"\n",
              "       width=\"24px\">\n",
              "    <path d=\"M0 0h24v24H0V0z\" fill=\"none\"/>\n",
              "    <path d=\"M18.56 5.44l.94 2.06.94-2.06 2.06-.94-2.06-.94-.94-2.06-.94 2.06-2.06.94zm-11 1L8.5 8.5l.94-2.06 2.06-.94-2.06-.94L8.5 2.5l-.94 2.06-2.06.94zm10 10l.94 2.06.94-2.06 2.06-.94-2.06-.94-.94-2.06-.94 2.06-2.06.94z\"/><path d=\"M17.41 7.96l-1.37-1.37c-.4-.4-.92-.59-1.43-.59-.52 0-1.04.2-1.43.59L10.3 9.45l-7.72 7.72c-.78.78-.78 2.05 0 2.83L4 21.41c.39.39.9.59 1.41.59.51 0 1.02-.2 1.41-.59l7.78-7.78 2.81-2.81c.8-.78.8-2.07 0-2.86zM5.41 20L4 18.59l7.72-7.72 1.47 1.35L5.41 20z\"/>\n",
              "  </svg>\n",
              "      </button>\n",
              "\n",
              "\n",
              "\n",
              "    <div id=\"df-5366814a-a3d9-4f82-bc65-cfc1060c6ae9\">\n",
              "      <button class=\"colab-df-quickchart\" onclick=\"quickchart('df-5366814a-a3d9-4f82-bc65-cfc1060c6ae9')\"\n",
              "              title=\"Suggest charts.\"\n",
              "              style=\"display:none;\">\n",
              "\n",
              "<svg xmlns=\"http://www.w3.org/2000/svg\" height=\"24px\"viewBox=\"0 0 24 24\"\n",
              "     width=\"24px\">\n",
              "    <g>\n",
              "        <path d=\"M19 3H5c-1.1 0-2 .9-2 2v14c0 1.1.9 2 2 2h14c1.1 0 2-.9 2-2V5c0-1.1-.9-2-2-2zM9 17H7v-7h2v7zm4 0h-2V7h2v10zm4 0h-2v-4h2v4z\"/>\n",
              "    </g>\n",
              "</svg>\n",
              "      </button>\n",
              "    </div>\n",
              "\n",
              "<style>\n",
              "  .colab-df-quickchart {\n",
              "    background-color: #E8F0FE;\n",
              "    border: none;\n",
              "    border-radius: 50%;\n",
              "    cursor: pointer;\n",
              "    display: none;\n",
              "    fill: #1967D2;\n",
              "    height: 32px;\n",
              "    padding: 0 0 0 0;\n",
              "    width: 32px;\n",
              "  }\n",
              "\n",
              "  .colab-df-quickchart:hover {\n",
              "    background-color: #E2EBFA;\n",
              "    box-shadow: 0px 1px 2px rgba(60, 64, 67, 0.3), 0px 1px 3px 1px rgba(60, 64, 67, 0.15);\n",
              "    fill: #174EA6;\n",
              "  }\n",
              "\n",
              "  [theme=dark] .colab-df-quickchart {\n",
              "    background-color: #3B4455;\n",
              "    fill: #D2E3FC;\n",
              "  }\n",
              "\n",
              "  [theme=dark] .colab-df-quickchart:hover {\n",
              "    background-color: #434B5C;\n",
              "    box-shadow: 0px 1px 3px 1px rgba(0, 0, 0, 0.15);\n",
              "    filter: drop-shadow(0px 1px 2px rgba(0, 0, 0, 0.3));\n",
              "    fill: #FFFFFF;\n",
              "  }\n",
              "</style>\n",
              "\n",
              "    <script>\n",
              "      async function quickchart(key) {\n",
              "        const containerElement = document.querySelector('#' + key);\n",
              "        const charts = await google.colab.kernel.invokeFunction(\n",
              "            'suggestCharts', [key], {});\n",
              "      }\n",
              "    </script>\n",
              "\n",
              "      <script>\n",
              "\n",
              "function displayQuickchartButton(domScope) {\n",
              "  let quickchartButtonEl =\n",
              "    domScope.querySelector('#df-5366814a-a3d9-4f82-bc65-cfc1060c6ae9 button.colab-df-quickchart');\n",
              "  quickchartButtonEl.style.display =\n",
              "    google.colab.kernel.accessAllowed ? 'block' : 'none';\n",
              "}\n",
              "\n",
              "        displayQuickchartButton(document);\n",
              "      </script>\n",
              "      <style>\n",
              "    .colab-df-container {\n",
              "      display:flex;\n",
              "      flex-wrap:wrap;\n",
              "      gap: 12px;\n",
              "    }\n",
              "\n",
              "    .colab-df-convert {\n",
              "      background-color: #E8F0FE;\n",
              "      border: none;\n",
              "      border-radius: 50%;\n",
              "      cursor: pointer;\n",
              "      display: none;\n",
              "      fill: #1967D2;\n",
              "      height: 32px;\n",
              "      padding: 0 0 0 0;\n",
              "      width: 32px;\n",
              "    }\n",
              "\n",
              "    .colab-df-convert:hover {\n",
              "      background-color: #E2EBFA;\n",
              "      box-shadow: 0px 1px 2px rgba(60, 64, 67, 0.3), 0px 1px 3px 1px rgba(60, 64, 67, 0.15);\n",
              "      fill: #174EA6;\n",
              "    }\n",
              "\n",
              "    [theme=dark] .colab-df-convert {\n",
              "      background-color: #3B4455;\n",
              "      fill: #D2E3FC;\n",
              "    }\n",
              "\n",
              "    [theme=dark] .colab-df-convert:hover {\n",
              "      background-color: #434B5C;\n",
              "      box-shadow: 0px 1px 3px 1px rgba(0, 0, 0, 0.15);\n",
              "      filter: drop-shadow(0px 1px 2px rgba(0, 0, 0, 0.3));\n",
              "      fill: #FFFFFF;\n",
              "    }\n",
              "  </style>\n",
              "\n",
              "      <script>\n",
              "        const buttonEl =\n",
              "          document.querySelector('#df-d9809350-0f30-4ed8-9c85-7a600ae974c9 button.colab-df-convert');\n",
              "        buttonEl.style.display =\n",
              "          google.colab.kernel.accessAllowed ? 'block' : 'none';\n",
              "\n",
              "        async function convertToInteractive(key) {\n",
              "          const element = document.querySelector('#df-d9809350-0f30-4ed8-9c85-7a600ae974c9');\n",
              "          const dataTable =\n",
              "            await google.colab.kernel.invokeFunction('convertToInteractive',\n",
              "                                                     [key], {});\n",
              "          if (!dataTable) return;\n",
              "\n",
              "          const docLinkHtml = 'Like what you see? Visit the ' +\n",
              "            '<a target=\"_blank\" href=https://colab.research.google.com/notebooks/data_table.ipynb>data table notebook</a>'\n",
              "            + ' to learn more about interactive tables.';\n",
              "          element.innerHTML = '';\n",
              "          dataTable['output_type'] = 'display_data';\n",
              "          await google.colab.output.renderOutput(dataTable, element);\n",
              "          const docLink = document.createElement('div');\n",
              "          docLink.innerHTML = docLinkHtml;\n",
              "          element.appendChild(docLink);\n",
              "        }\n",
              "      </script>\n",
              "    </div>\n",
              "  </div>\n"
            ]
          },
          "metadata": {},
          "execution_count": 526
        }
      ],
      "source": [
        "# verificando o outlier superior para empresas da Alemanha\n",
        "df[df['company_location'] == \"DE\"].sort_values('salary_in_usd', ascending=False).head(5)"
      ]
    },
    {
      "cell_type": "markdown",
      "metadata": {
        "id": "vb2hIH9MRv9u"
      },
      "source": [
        "A partir dos dados acima, é possível observar que, na verdade, não era apenas um outlier discrepante, e sim 2 outliers sobrepostos para empresas da Alemanha (DE).\n",
        "\n",
        "Além disso, os salários foram pagos em USD, o que pode ser um fator que explique o porquê dos salários serem tão altos. E como a Alemanha é um país que possui uma moeda forte (o euro), é provavél que as empresas consigam pagar próximo ao que as empresas dos Estados Unidos pagam, principalmente quando se trata de um nível Sênior.\n",
        "\n",
        "Logo, por conta desse conjunto de fatores (existir mais de um salário igual a 275 mil, além dos salários serem pagos em USD), acredita-se que estes dados não estajam errados e eles serão mantidos no dataset.\n",
        "\n",
        "O próximo passo será verificar o outlier referente ao boxplot da Espanha (ES):"
      ]
    },
    {
      "cell_type": "code",
      "execution_count": 527,
      "metadata": {
        "colab": {
          "base_uri": "https://localhost:8080/",
          "height": 206
        },
        "id": "HlAp4byUZAbA",
        "outputId": "6f2198ba-34cf-4d6a-93be-a0108e613644"
      },
      "outputs": [
        {
          "output_type": "execute_result",
          "data": {
            "text/plain": [
              "      work_year experience_level employment_type           job_title  salary  \\\n",
              "1249       2023               SE              FT  Research Scientist  253750   \n",
              "1247       2023               SE              FT  Research Scientist  253750   \n",
              "1250       2023               SE              FT  Research Scientist  169200   \n",
              "1248       2023               SE              FT  Research Scientist  169200   \n",
              "1653       2023               MI              FT       Data Engineer   95000   \n",
              "\n",
              "     salary_currency  salary_in_usd employee_residence  remote_ratio  \\\n",
              "1249             USD         253750                 ES             0   \n",
              "1247             USD         253750                 ES             0   \n",
              "1250             USD         169200                 ES             0   \n",
              "1248             USD         169200                 ES             0   \n",
              "1653             USD          95000                 ES           100   \n",
              "\n",
              "     company_location company_size  \n",
              "1249               ES            M  \n",
              "1247               ES            M  \n",
              "1250               ES            M  \n",
              "1248               ES            M  \n",
              "1653               ES            M  "
            ],
            "text/html": [
              "\n",
              "\n",
              "  <div id=\"df-8adbe9e9-6d61-4427-a021-d5541df09b29\">\n",
              "    <div class=\"colab-df-container\">\n",
              "      <div>\n",
              "<style scoped>\n",
              "    .dataframe tbody tr th:only-of-type {\n",
              "        vertical-align: middle;\n",
              "    }\n",
              "\n",
              "    .dataframe tbody tr th {\n",
              "        vertical-align: top;\n",
              "    }\n",
              "\n",
              "    .dataframe thead th {\n",
              "        text-align: right;\n",
              "    }\n",
              "</style>\n",
              "<table border=\"1\" class=\"dataframe\">\n",
              "  <thead>\n",
              "    <tr style=\"text-align: right;\">\n",
              "      <th></th>\n",
              "      <th>work_year</th>\n",
              "      <th>experience_level</th>\n",
              "      <th>employment_type</th>\n",
              "      <th>job_title</th>\n",
              "      <th>salary</th>\n",
              "      <th>salary_currency</th>\n",
              "      <th>salary_in_usd</th>\n",
              "      <th>employee_residence</th>\n",
              "      <th>remote_ratio</th>\n",
              "      <th>company_location</th>\n",
              "      <th>company_size</th>\n",
              "    </tr>\n",
              "  </thead>\n",
              "  <tbody>\n",
              "    <tr>\n",
              "      <th>1249</th>\n",
              "      <td>2023</td>\n",
              "      <td>SE</td>\n",
              "      <td>FT</td>\n",
              "      <td>Research Scientist</td>\n",
              "      <td>253750</td>\n",
              "      <td>USD</td>\n",
              "      <td>253750</td>\n",
              "      <td>ES</td>\n",
              "      <td>0</td>\n",
              "      <td>ES</td>\n",
              "      <td>M</td>\n",
              "    </tr>\n",
              "    <tr>\n",
              "      <th>1247</th>\n",
              "      <td>2023</td>\n",
              "      <td>SE</td>\n",
              "      <td>FT</td>\n",
              "      <td>Research Scientist</td>\n",
              "      <td>253750</td>\n",
              "      <td>USD</td>\n",
              "      <td>253750</td>\n",
              "      <td>ES</td>\n",
              "      <td>0</td>\n",
              "      <td>ES</td>\n",
              "      <td>M</td>\n",
              "    </tr>\n",
              "    <tr>\n",
              "      <th>1250</th>\n",
              "      <td>2023</td>\n",
              "      <td>SE</td>\n",
              "      <td>FT</td>\n",
              "      <td>Research Scientist</td>\n",
              "      <td>169200</td>\n",
              "      <td>USD</td>\n",
              "      <td>169200</td>\n",
              "      <td>ES</td>\n",
              "      <td>0</td>\n",
              "      <td>ES</td>\n",
              "      <td>M</td>\n",
              "    </tr>\n",
              "    <tr>\n",
              "      <th>1248</th>\n",
              "      <td>2023</td>\n",
              "      <td>SE</td>\n",
              "      <td>FT</td>\n",
              "      <td>Research Scientist</td>\n",
              "      <td>169200</td>\n",
              "      <td>USD</td>\n",
              "      <td>169200</td>\n",
              "      <td>ES</td>\n",
              "      <td>0</td>\n",
              "      <td>ES</td>\n",
              "      <td>M</td>\n",
              "    </tr>\n",
              "    <tr>\n",
              "      <th>1653</th>\n",
              "      <td>2023</td>\n",
              "      <td>MI</td>\n",
              "      <td>FT</td>\n",
              "      <td>Data Engineer</td>\n",
              "      <td>95000</td>\n",
              "      <td>USD</td>\n",
              "      <td>95000</td>\n",
              "      <td>ES</td>\n",
              "      <td>100</td>\n",
              "      <td>ES</td>\n",
              "      <td>M</td>\n",
              "    </tr>\n",
              "  </tbody>\n",
              "</table>\n",
              "</div>\n",
              "      <button class=\"colab-df-convert\" onclick=\"convertToInteractive('df-8adbe9e9-6d61-4427-a021-d5541df09b29')\"\n",
              "              title=\"Convert this dataframe to an interactive table.\"\n",
              "              style=\"display:none;\">\n",
              "\n",
              "  <svg xmlns=\"http://www.w3.org/2000/svg\" height=\"24px\"viewBox=\"0 0 24 24\"\n",
              "       width=\"24px\">\n",
              "    <path d=\"M0 0h24v24H0V0z\" fill=\"none\"/>\n",
              "    <path d=\"M18.56 5.44l.94 2.06.94-2.06 2.06-.94-2.06-.94-.94-2.06-.94 2.06-2.06.94zm-11 1L8.5 8.5l.94-2.06 2.06-.94-2.06-.94L8.5 2.5l-.94 2.06-2.06.94zm10 10l.94 2.06.94-2.06 2.06-.94-2.06-.94-.94-2.06-.94 2.06-2.06.94z\"/><path d=\"M17.41 7.96l-1.37-1.37c-.4-.4-.92-.59-1.43-.59-.52 0-1.04.2-1.43.59L10.3 9.45l-7.72 7.72c-.78.78-.78 2.05 0 2.83L4 21.41c.39.39.9.59 1.41.59.51 0 1.02-.2 1.41-.59l7.78-7.78 2.81-2.81c.8-.78.8-2.07 0-2.86zM5.41 20L4 18.59l7.72-7.72 1.47 1.35L5.41 20z\"/>\n",
              "  </svg>\n",
              "      </button>\n",
              "\n",
              "\n",
              "\n",
              "    <div id=\"df-f9ce770a-caf8-4397-8a51-d1c407bafdad\">\n",
              "      <button class=\"colab-df-quickchart\" onclick=\"quickchart('df-f9ce770a-caf8-4397-8a51-d1c407bafdad')\"\n",
              "              title=\"Suggest charts.\"\n",
              "              style=\"display:none;\">\n",
              "\n",
              "<svg xmlns=\"http://www.w3.org/2000/svg\" height=\"24px\"viewBox=\"0 0 24 24\"\n",
              "     width=\"24px\">\n",
              "    <g>\n",
              "        <path d=\"M19 3H5c-1.1 0-2 .9-2 2v14c0 1.1.9 2 2 2h14c1.1 0 2-.9 2-2V5c0-1.1-.9-2-2-2zM9 17H7v-7h2v7zm4 0h-2V7h2v10zm4 0h-2v-4h2v4z\"/>\n",
              "    </g>\n",
              "</svg>\n",
              "      </button>\n",
              "    </div>\n",
              "\n",
              "<style>\n",
              "  .colab-df-quickchart {\n",
              "    background-color: #E8F0FE;\n",
              "    border: none;\n",
              "    border-radius: 50%;\n",
              "    cursor: pointer;\n",
              "    display: none;\n",
              "    fill: #1967D2;\n",
              "    height: 32px;\n",
              "    padding: 0 0 0 0;\n",
              "    width: 32px;\n",
              "  }\n",
              "\n",
              "  .colab-df-quickchart:hover {\n",
              "    background-color: #E2EBFA;\n",
              "    box-shadow: 0px 1px 2px rgba(60, 64, 67, 0.3), 0px 1px 3px 1px rgba(60, 64, 67, 0.15);\n",
              "    fill: #174EA6;\n",
              "  }\n",
              "\n",
              "  [theme=dark] .colab-df-quickchart {\n",
              "    background-color: #3B4455;\n",
              "    fill: #D2E3FC;\n",
              "  }\n",
              "\n",
              "  [theme=dark] .colab-df-quickchart:hover {\n",
              "    background-color: #434B5C;\n",
              "    box-shadow: 0px 1px 3px 1px rgba(0, 0, 0, 0.15);\n",
              "    filter: drop-shadow(0px 1px 2px rgba(0, 0, 0, 0.3));\n",
              "    fill: #FFFFFF;\n",
              "  }\n",
              "</style>\n",
              "\n",
              "    <script>\n",
              "      async function quickchart(key) {\n",
              "        const containerElement = document.querySelector('#' + key);\n",
              "        const charts = await google.colab.kernel.invokeFunction(\n",
              "            'suggestCharts', [key], {});\n",
              "      }\n",
              "    </script>\n",
              "\n",
              "      <script>\n",
              "\n",
              "function displayQuickchartButton(domScope) {\n",
              "  let quickchartButtonEl =\n",
              "    domScope.querySelector('#df-f9ce770a-caf8-4397-8a51-d1c407bafdad button.colab-df-quickchart');\n",
              "  quickchartButtonEl.style.display =\n",
              "    google.colab.kernel.accessAllowed ? 'block' : 'none';\n",
              "}\n",
              "\n",
              "        displayQuickchartButton(document);\n",
              "      </script>\n",
              "      <style>\n",
              "    .colab-df-container {\n",
              "      display:flex;\n",
              "      flex-wrap:wrap;\n",
              "      gap: 12px;\n",
              "    }\n",
              "\n",
              "    .colab-df-convert {\n",
              "      background-color: #E8F0FE;\n",
              "      border: none;\n",
              "      border-radius: 50%;\n",
              "      cursor: pointer;\n",
              "      display: none;\n",
              "      fill: #1967D2;\n",
              "      height: 32px;\n",
              "      padding: 0 0 0 0;\n",
              "      width: 32px;\n",
              "    }\n",
              "\n",
              "    .colab-df-convert:hover {\n",
              "      background-color: #E2EBFA;\n",
              "      box-shadow: 0px 1px 2px rgba(60, 64, 67, 0.3), 0px 1px 3px 1px rgba(60, 64, 67, 0.15);\n",
              "      fill: #174EA6;\n",
              "    }\n",
              "\n",
              "    [theme=dark] .colab-df-convert {\n",
              "      background-color: #3B4455;\n",
              "      fill: #D2E3FC;\n",
              "    }\n",
              "\n",
              "    [theme=dark] .colab-df-convert:hover {\n",
              "      background-color: #434B5C;\n",
              "      box-shadow: 0px 1px 3px 1px rgba(0, 0, 0, 0.15);\n",
              "      filter: drop-shadow(0px 1px 2px rgba(0, 0, 0, 0.3));\n",
              "      fill: #FFFFFF;\n",
              "    }\n",
              "  </style>\n",
              "\n",
              "      <script>\n",
              "        const buttonEl =\n",
              "          document.querySelector('#df-8adbe9e9-6d61-4427-a021-d5541df09b29 button.colab-df-convert');\n",
              "        buttonEl.style.display =\n",
              "          google.colab.kernel.accessAllowed ? 'block' : 'none';\n",
              "\n",
              "        async function convertToInteractive(key) {\n",
              "          const element = document.querySelector('#df-8adbe9e9-6d61-4427-a021-d5541df09b29');\n",
              "          const dataTable =\n",
              "            await google.colab.kernel.invokeFunction('convertToInteractive',\n",
              "                                                     [key], {});\n",
              "          if (!dataTable) return;\n",
              "\n",
              "          const docLinkHtml = 'Like what you see? Visit the ' +\n",
              "            '<a target=\"_blank\" href=https://colab.research.google.com/notebooks/data_table.ipynb>data table notebook</a>'\n",
              "            + ' to learn more about interactive tables.';\n",
              "          element.innerHTML = '';\n",
              "          dataTable['output_type'] = 'display_data';\n",
              "          await google.colab.output.renderOutput(dataTable, element);\n",
              "          const docLink = document.createElement('div');\n",
              "          docLink.innerHTML = docLinkHtml;\n",
              "          element.appendChild(docLink);\n",
              "        }\n",
              "      </script>\n",
              "    </div>\n",
              "  </div>\n"
            ]
          },
          "metadata": {},
          "execution_count": 527
        }
      ],
      "source": [
        "# verificando o outlier superior para empresas da Espanha\n",
        "df[df['company_location'] == \"ES\"].sort_values('salary_in_usd', ascending=False).head(5)"
      ]
    },
    {
      "cell_type": "markdown",
      "metadata": {
        "id": "syvCRjDPZS59"
      },
      "source": [
        "Analisando os dados acima, é possível observar que o outlier em questão, na verdade, eram 2 outliers sobrepostos. Mas, diferentemente dos outliers sobrepostos no boxplot da Alemanha (DE), aqui os outliers possuem valores idênticos em todas as colunas.\n",
        "\n",
        "É possível haver dados com todas as colunas idênticas, no entanto, como se trata de um outlier, é algo muito pouco provável. Somando ao fato deste outlier possuir um valor muito discrepante dos demais, deduz-se que este dado esteja errado e ele será excluído do dataset.\n",
        "\n",
        "Além disso, também foi possível observar mais 2 outliers sobrepostos com o valor de 169,2 mil, que também possuem todas as colunas idênticas. No entanto, como o valor desse outlier não é tão discrepante quanto o outlier anterior, será excluído apenas uma das linhas por acreditar-se que o dado foi apenas duplicado."
      ]
    },
    {
      "cell_type": "code",
      "execution_count": 528,
      "metadata": {
        "colab": {
          "base_uri": "https://localhost:8080/",
          "height": 206
        },
        "id": "I637Z6XSf_QC",
        "outputId": "268640ef-f2ed-4ea1-84e6-85326add4fb8"
      },
      "outputs": [
        {
          "output_type": "execute_result",
          "data": {
            "text/plain": [
              "      work_year experience_level employment_type                 job_title  \\\n",
              "1248       2023               SE              FT        Research Scientist   \n",
              "1653       2023               MI              FT             Data Engineer   \n",
              "0          2023               SE              FT  Principal Data Scientist   \n",
              "3200       2022               MI              FT             Data Engineer   \n",
              "2892       2022               MI              FT             Data Engineer   \n",
              "\n",
              "      salary salary_currency  salary_in_usd employee_residence  remote_ratio  \\\n",
              "1248  169200             USD         169200                 ES             0   \n",
              "1653   95000             USD          95000                 ES           100   \n",
              "0      80000             EUR          85847                 ES           100   \n",
              "3200   80000             EUR          84053                 ES           100   \n",
              "2892   80000             EUR          84053                 ES           100   \n",
              "\n",
              "     company_location company_size  \n",
              "1248               ES            M  \n",
              "1653               ES            M  \n",
              "0                  ES            L  \n",
              "3200               ES            M  \n",
              "2892               ES            M  "
            ],
            "text/html": [
              "\n",
              "\n",
              "  <div id=\"df-490d03c8-0564-4c29-847f-c90cb4b76831\">\n",
              "    <div class=\"colab-df-container\">\n",
              "      <div>\n",
              "<style scoped>\n",
              "    .dataframe tbody tr th:only-of-type {\n",
              "        vertical-align: middle;\n",
              "    }\n",
              "\n",
              "    .dataframe tbody tr th {\n",
              "        vertical-align: top;\n",
              "    }\n",
              "\n",
              "    .dataframe thead th {\n",
              "        text-align: right;\n",
              "    }\n",
              "</style>\n",
              "<table border=\"1\" class=\"dataframe\">\n",
              "  <thead>\n",
              "    <tr style=\"text-align: right;\">\n",
              "      <th></th>\n",
              "      <th>work_year</th>\n",
              "      <th>experience_level</th>\n",
              "      <th>employment_type</th>\n",
              "      <th>job_title</th>\n",
              "      <th>salary</th>\n",
              "      <th>salary_currency</th>\n",
              "      <th>salary_in_usd</th>\n",
              "      <th>employee_residence</th>\n",
              "      <th>remote_ratio</th>\n",
              "      <th>company_location</th>\n",
              "      <th>company_size</th>\n",
              "    </tr>\n",
              "  </thead>\n",
              "  <tbody>\n",
              "    <tr>\n",
              "      <th>1248</th>\n",
              "      <td>2023</td>\n",
              "      <td>SE</td>\n",
              "      <td>FT</td>\n",
              "      <td>Research Scientist</td>\n",
              "      <td>169200</td>\n",
              "      <td>USD</td>\n",
              "      <td>169200</td>\n",
              "      <td>ES</td>\n",
              "      <td>0</td>\n",
              "      <td>ES</td>\n",
              "      <td>M</td>\n",
              "    </tr>\n",
              "    <tr>\n",
              "      <th>1653</th>\n",
              "      <td>2023</td>\n",
              "      <td>MI</td>\n",
              "      <td>FT</td>\n",
              "      <td>Data Engineer</td>\n",
              "      <td>95000</td>\n",
              "      <td>USD</td>\n",
              "      <td>95000</td>\n",
              "      <td>ES</td>\n",
              "      <td>100</td>\n",
              "      <td>ES</td>\n",
              "      <td>M</td>\n",
              "    </tr>\n",
              "    <tr>\n",
              "      <th>0</th>\n",
              "      <td>2023</td>\n",
              "      <td>SE</td>\n",
              "      <td>FT</td>\n",
              "      <td>Principal Data Scientist</td>\n",
              "      <td>80000</td>\n",
              "      <td>EUR</td>\n",
              "      <td>85847</td>\n",
              "      <td>ES</td>\n",
              "      <td>100</td>\n",
              "      <td>ES</td>\n",
              "      <td>L</td>\n",
              "    </tr>\n",
              "    <tr>\n",
              "      <th>3200</th>\n",
              "      <td>2022</td>\n",
              "      <td>MI</td>\n",
              "      <td>FT</td>\n",
              "      <td>Data Engineer</td>\n",
              "      <td>80000</td>\n",
              "      <td>EUR</td>\n",
              "      <td>84053</td>\n",
              "      <td>ES</td>\n",
              "      <td>100</td>\n",
              "      <td>ES</td>\n",
              "      <td>M</td>\n",
              "    </tr>\n",
              "    <tr>\n",
              "      <th>2892</th>\n",
              "      <td>2022</td>\n",
              "      <td>MI</td>\n",
              "      <td>FT</td>\n",
              "      <td>Data Engineer</td>\n",
              "      <td>80000</td>\n",
              "      <td>EUR</td>\n",
              "      <td>84053</td>\n",
              "      <td>ES</td>\n",
              "      <td>100</td>\n",
              "      <td>ES</td>\n",
              "      <td>M</td>\n",
              "    </tr>\n",
              "  </tbody>\n",
              "</table>\n",
              "</div>\n",
              "      <button class=\"colab-df-convert\" onclick=\"convertToInteractive('df-490d03c8-0564-4c29-847f-c90cb4b76831')\"\n",
              "              title=\"Convert this dataframe to an interactive table.\"\n",
              "              style=\"display:none;\">\n",
              "\n",
              "  <svg xmlns=\"http://www.w3.org/2000/svg\" height=\"24px\"viewBox=\"0 0 24 24\"\n",
              "       width=\"24px\">\n",
              "    <path d=\"M0 0h24v24H0V0z\" fill=\"none\"/>\n",
              "    <path d=\"M18.56 5.44l.94 2.06.94-2.06 2.06-.94-2.06-.94-.94-2.06-.94 2.06-2.06.94zm-11 1L8.5 8.5l.94-2.06 2.06-.94-2.06-.94L8.5 2.5l-.94 2.06-2.06.94zm10 10l.94 2.06.94-2.06 2.06-.94-2.06-.94-.94-2.06-.94 2.06-2.06.94z\"/><path d=\"M17.41 7.96l-1.37-1.37c-.4-.4-.92-.59-1.43-.59-.52 0-1.04.2-1.43.59L10.3 9.45l-7.72 7.72c-.78.78-.78 2.05 0 2.83L4 21.41c.39.39.9.59 1.41.59.51 0 1.02-.2 1.41-.59l7.78-7.78 2.81-2.81c.8-.78.8-2.07 0-2.86zM5.41 20L4 18.59l7.72-7.72 1.47 1.35L5.41 20z\"/>\n",
              "  </svg>\n",
              "      </button>\n",
              "\n",
              "\n",
              "\n",
              "    <div id=\"df-346daa1f-22eb-47af-be19-9aa0b50fae2b\">\n",
              "      <button class=\"colab-df-quickchart\" onclick=\"quickchart('df-346daa1f-22eb-47af-be19-9aa0b50fae2b')\"\n",
              "              title=\"Suggest charts.\"\n",
              "              style=\"display:none;\">\n",
              "\n",
              "<svg xmlns=\"http://www.w3.org/2000/svg\" height=\"24px\"viewBox=\"0 0 24 24\"\n",
              "     width=\"24px\">\n",
              "    <g>\n",
              "        <path d=\"M19 3H5c-1.1 0-2 .9-2 2v14c0 1.1.9 2 2 2h14c1.1 0 2-.9 2-2V5c0-1.1-.9-2-2-2zM9 17H7v-7h2v7zm4 0h-2V7h2v10zm4 0h-2v-4h2v4z\"/>\n",
              "    </g>\n",
              "</svg>\n",
              "      </button>\n",
              "    </div>\n",
              "\n",
              "<style>\n",
              "  .colab-df-quickchart {\n",
              "    background-color: #E8F0FE;\n",
              "    border: none;\n",
              "    border-radius: 50%;\n",
              "    cursor: pointer;\n",
              "    display: none;\n",
              "    fill: #1967D2;\n",
              "    height: 32px;\n",
              "    padding: 0 0 0 0;\n",
              "    width: 32px;\n",
              "  }\n",
              "\n",
              "  .colab-df-quickchart:hover {\n",
              "    background-color: #E2EBFA;\n",
              "    box-shadow: 0px 1px 2px rgba(60, 64, 67, 0.3), 0px 1px 3px 1px rgba(60, 64, 67, 0.15);\n",
              "    fill: #174EA6;\n",
              "  }\n",
              "\n",
              "  [theme=dark] .colab-df-quickchart {\n",
              "    background-color: #3B4455;\n",
              "    fill: #D2E3FC;\n",
              "  }\n",
              "\n",
              "  [theme=dark] .colab-df-quickchart:hover {\n",
              "    background-color: #434B5C;\n",
              "    box-shadow: 0px 1px 3px 1px rgba(0, 0, 0, 0.15);\n",
              "    filter: drop-shadow(0px 1px 2px rgba(0, 0, 0, 0.3));\n",
              "    fill: #FFFFFF;\n",
              "  }\n",
              "</style>\n",
              "\n",
              "    <script>\n",
              "      async function quickchart(key) {\n",
              "        const containerElement = document.querySelector('#' + key);\n",
              "        const charts = await google.colab.kernel.invokeFunction(\n",
              "            'suggestCharts', [key], {});\n",
              "      }\n",
              "    </script>\n",
              "\n",
              "      <script>\n",
              "\n",
              "function displayQuickchartButton(domScope) {\n",
              "  let quickchartButtonEl =\n",
              "    domScope.querySelector('#df-346daa1f-22eb-47af-be19-9aa0b50fae2b button.colab-df-quickchart');\n",
              "  quickchartButtonEl.style.display =\n",
              "    google.colab.kernel.accessAllowed ? 'block' : 'none';\n",
              "}\n",
              "\n",
              "        displayQuickchartButton(document);\n",
              "      </script>\n",
              "      <style>\n",
              "    .colab-df-container {\n",
              "      display:flex;\n",
              "      flex-wrap:wrap;\n",
              "      gap: 12px;\n",
              "    }\n",
              "\n",
              "    .colab-df-convert {\n",
              "      background-color: #E8F0FE;\n",
              "      border: none;\n",
              "      border-radius: 50%;\n",
              "      cursor: pointer;\n",
              "      display: none;\n",
              "      fill: #1967D2;\n",
              "      height: 32px;\n",
              "      padding: 0 0 0 0;\n",
              "      width: 32px;\n",
              "    }\n",
              "\n",
              "    .colab-df-convert:hover {\n",
              "      background-color: #E2EBFA;\n",
              "      box-shadow: 0px 1px 2px rgba(60, 64, 67, 0.3), 0px 1px 3px 1px rgba(60, 64, 67, 0.15);\n",
              "      fill: #174EA6;\n",
              "    }\n",
              "\n",
              "    [theme=dark] .colab-df-convert {\n",
              "      background-color: #3B4455;\n",
              "      fill: #D2E3FC;\n",
              "    }\n",
              "\n",
              "    [theme=dark] .colab-df-convert:hover {\n",
              "      background-color: #434B5C;\n",
              "      box-shadow: 0px 1px 3px 1px rgba(0, 0, 0, 0.15);\n",
              "      filter: drop-shadow(0px 1px 2px rgba(0, 0, 0, 0.3));\n",
              "      fill: #FFFFFF;\n",
              "    }\n",
              "  </style>\n",
              "\n",
              "      <script>\n",
              "        const buttonEl =\n",
              "          document.querySelector('#df-490d03c8-0564-4c29-847f-c90cb4b76831 button.colab-df-convert');\n",
              "        buttonEl.style.display =\n",
              "          google.colab.kernel.accessAllowed ? 'block' : 'none';\n",
              "\n",
              "        async function convertToInteractive(key) {\n",
              "          const element = document.querySelector('#df-490d03c8-0564-4c29-847f-c90cb4b76831');\n",
              "          const dataTable =\n",
              "            await google.colab.kernel.invokeFunction('convertToInteractive',\n",
              "                                                     [key], {});\n",
              "          if (!dataTable) return;\n",
              "\n",
              "          const docLinkHtml = 'Like what you see? Visit the ' +\n",
              "            '<a target=\"_blank\" href=https://colab.research.google.com/notebooks/data_table.ipynb>data table notebook</a>'\n",
              "            + ' to learn more about interactive tables.';\n",
              "          element.innerHTML = '';\n",
              "          dataTable['output_type'] = 'display_data';\n",
              "          await google.colab.output.renderOutput(dataTable, element);\n",
              "          const docLink = document.createElement('div');\n",
              "          docLink.innerHTML = docLinkHtml;\n",
              "          element.appendChild(docLink);\n",
              "        }\n",
              "      </script>\n",
              "    </div>\n",
              "  </div>\n"
            ]
          },
          "metadata": {},
          "execution_count": 528
        }
      ],
      "source": [
        "# excluindo as 3 linhas do dataframe referentes aos dados da Espanha\n",
        "maxES = df[df['company_location'] == 'ES']['salary_in_usd'].sort_values(ascending=False).head(3).index\n",
        "df = df.drop(maxES)\n",
        "\n",
        "# verificando os maiores valores da Espanha novamente\n",
        "df[df['company_location'] == \"ES\"].sort_values('salary_in_usd', ascending=False).head(5)"
      ]
    },
    {
      "cell_type": "markdown",
      "metadata": {
        "id": "cdt9GTzFN_eR"
      },
      "source": [
        "##### **2.4.4 - SALÁRIO PAGO EM DIFERENTES MOEDAS (BIVARIADO)**\n",
        "\n",
        "Neste subtópico, será verificado a distribuição dos salários (em dólar) pagos em diferentes moedas."
      ]
    },
    {
      "cell_type": "code",
      "execution_count": 529,
      "metadata": {
        "colab": {
          "base_uri": "https://localhost:8080/",
          "height": 495
        },
        "id": "l_sGK4frFCFq",
        "outputId": "5bf74245-6aa0-4ed7-e8a7-1bdf4dba5042"
      },
      "outputs": [
        {
          "output_type": "execute_result",
          "data": {
            "text/plain": [
              "<Axes: title={'center': 'salary_in_usd'}, xlabel='salary_currency'>"
            ]
          },
          "metadata": {},
          "execution_count": 529
        },
        {
          "output_type": "display_data",
          "data": {
            "text/plain": [
              "<Figure size 640x480 with 1 Axes>"
            ],
            "image/png": "[encoded data removed]"
          },
          "metadata": {}
        }
      ],
      "source": [
        "# reordenando as categorias para uma melhor visualização no boxplot\n",
        "df['salary_currency'] = df['salary_currency'].cat.reorder_categories([\"USD\", \"CAD\", \"GBP\", \"EUR\", \"HUF\", \"PLN\", \"INR\"])\n",
        "\n",
        "# verificando a distribuição dos salários de nível Sênior pago em diferentes moedas\n",
        "df.boxplot(column='salary_in_usd', by='salary_currency')"
      ]
    },
    {
      "cell_type": "markdown",
      "metadata": {
        "id": "foX30F6pJpXL"
      },
      "source": [
        "No gráfico acima, é possível observar que não existem outliers inferiores, e há apenas um outlier superior distante dos demais (no boxplot do EUR). Por conta disso, esse outlier será analisado de forma mais detalhada."
      ]
    },
    {
      "cell_type": "code",
      "execution_count": 530,
      "metadata": {
        "colab": {
          "base_uri": "https://localhost:8080/",
          "height": 363
        },
        "id": "K-XEawfVr7Od",
        "outputId": "306b78cb-9fd7-40d1-a4c1-87791301b1d4"
      },
      "outputs": [
        {
          "output_type": "execute_result",
          "data": {
            "text/plain": [
              "      work_year experience_level employment_type                 job_title  \\\n",
              "836        2023               EN              FT              AI Developer   \n",
              "3725       2021               SE              FT  Principal Data Scientist   \n",
              "3483       2022               SE              FT  Principal Data Scientist   \n",
              "3726       2020               SE              FT  Principal Data Scientist   \n",
              "3643       2021               EX              FT  Director of Data Science   \n",
              "3515       2021               EX              FT  Director of Data Science   \n",
              "2686       2022               MI              FT        Research Scientist   \n",
              "805        2023               SE              FT  Deep Learning Researcher   \n",
              "3683       2020               SE              FT         Big Data Engineer   \n",
              "1022       2023               SE              FT         Research Engineer   \n",
              "\n",
              "      salary salary_currency  salary_in_usd employee_residence  remote_ratio  \\\n",
              "836   200000             EUR         214618                 DE           100   \n",
              "3725  147000             EUR         173762                 DE           100   \n",
              "3483  148000             EUR         155499                 DE           100   \n",
              "3726  130000             EUR         148261                 DE           100   \n",
              "3643  120000             EUR         141846                 DE             0   \n",
              "3515  110000             EUR         130026                 DE            50   \n",
              "2686  120000             EUR         126080                 DE             0   \n",
              "805   115000             EUR         123405                 DE             0   \n",
              "3683  100000             EUR         114047                 PL           100   \n",
              "1022  100000             EUR         107309                 DE           100   \n",
              "\n",
              "     company_location company_size  \n",
              "836                DE            L  \n",
              "3725               DE            M  \n",
              "3483               DE            M  \n",
              "3726               DE            M  \n",
              "3643               DE            L  \n",
              "3515               DE            M  \n",
              "2686               DE            S  \n",
              "805                DE            L  \n",
              "3683               GB            S  \n",
              "1022               DE            S  "
            ],
            "text/html": [
              "\n",
              "\n",
              "  <div id=\"df-1f2552a6-030d-42a9-9710-3186c5f4fd98\">\n",
              "    <div class=\"colab-df-container\">\n",
              "      <div>\n",
              "<style scoped>\n",
              "    .dataframe tbody tr th:only-of-type {\n",
              "        vertical-align: middle;\n",
              "    }\n",
              "\n",
              "    .dataframe tbody tr th {\n",
              "        vertical-align: top;\n",
              "    }\n",
              "\n",
              "    .dataframe thead th {\n",
              "        text-align: right;\n",
              "    }\n",
              "</style>\n",
              "<table border=\"1\" class=\"dataframe\">\n",
              "  <thead>\n",
              "    <tr style=\"text-align: right;\">\n",
              "      <th></th>\n",
              "      <th>work_year</th>\n",
              "      <th>experience_level</th>\n",
              "      <th>employment_type</th>\n",
              "      <th>job_title</th>\n",
              "      <th>salary</th>\n",
              "      <th>salary_currency</th>\n",
              "      <th>salary_in_usd</th>\n",
              "      <th>employee_residence</th>\n",
              "      <th>remote_ratio</th>\n",
              "      <th>company_location</th>\n",
              "      <th>company_size</th>\n",
              "    </tr>\n",
              "  </thead>\n",
              "  <tbody>\n",
              "    <tr>\n",
              "      <th>836</th>\n",
              "      <td>2023</td>\n",
              "      <td>EN</td>\n",
              "      <td>FT</td>\n",
              "      <td>AI Developer</td>\n",
              "      <td>200000</td>\n",
              "      <td>EUR</td>\n",
              "      <td>214618</td>\n",
              "      <td>DE</td>\n",
              "      <td>100</td>\n",
              "      <td>DE</td>\n",
              "      <td>L</td>\n",
              "    </tr>\n",
              "    <tr>\n",
              "      <th>3725</th>\n",
              "      <td>2021</td>\n",
              "      <td>SE</td>\n",
              "      <td>FT</td>\n",
              "      <td>Principal Data Scientist</td>\n",
              "      <td>147000</td>\n",
              "      <td>EUR</td>\n",
              "      <td>173762</td>\n",
              "      <td>DE</td>\n",
              "      <td>100</td>\n",
              "      <td>DE</td>\n",
              "      <td>M</td>\n",
              "    </tr>\n",
              "    <tr>\n",
              "      <th>3483</th>\n",
              "      <td>2022</td>\n",
              "      <td>SE</td>\n",
              "      <td>FT</td>\n",
              "      <td>Principal Data Scientist</td>\n",
              "      <td>148000</td>\n",
              "      <td>EUR</td>\n",
              "      <td>155499</td>\n",
              "      <td>DE</td>\n",
              "      <td>100</td>\n",
              "      <td>DE</td>\n",
              "      <td>M</td>\n",
              "    </tr>\n",
              "    <tr>\n",
              "      <th>3726</th>\n",
              "      <td>2020</td>\n",
              "      <td>SE</td>\n",
              "      <td>FT</td>\n",
              "      <td>Principal Data Scientist</td>\n",
              "      <td>130000</td>\n",
              "      <td>EUR</td>\n",
              "      <td>148261</td>\n",
              "      <td>DE</td>\n",
              "      <td>100</td>\n",
              "      <td>DE</td>\n",
              "      <td>M</td>\n",
              "    </tr>\n",
              "    <tr>\n",
              "      <th>3643</th>\n",
              "      <td>2021</td>\n",
              "      <td>EX</td>\n",
              "      <td>FT</td>\n",
              "      <td>Director of Data Science</td>\n",
              "      <td>120000</td>\n",
              "      <td>EUR</td>\n",
              "      <td>141846</td>\n",
              "      <td>DE</td>\n",
              "      <td>0</td>\n",
              "      <td>DE</td>\n",
              "      <td>L</td>\n",
              "    </tr>\n",
              "    <tr>\n",
              "      <th>3515</th>\n",
              "      <td>2021</td>\n",
              "      <td>EX</td>\n",
              "      <td>FT</td>\n",
              "      <td>Director of Data Science</td>\n",
              "      <td>110000</td>\n",
              "      <td>EUR</td>\n",
              "      <td>130026</td>\n",
              "      <td>DE</td>\n",
              "      <td>50</td>\n",
              "      <td>DE</td>\n",
              "      <td>M</td>\n",
              "    </tr>\n",
              "    <tr>\n",
              "      <th>2686</th>\n",
              "      <td>2022</td>\n",
              "      <td>MI</td>\n",
              "      <td>FT</td>\n",
              "      <td>Research Scientist</td>\n",
              "      <td>120000</td>\n",
              "      <td>EUR</td>\n",
              "      <td>126080</td>\n",
              "      <td>DE</td>\n",
              "      <td>0</td>\n",
              "      <td>DE</td>\n",
              "      <td>S</td>\n",
              "    </tr>\n",
              "    <tr>\n",
              "      <th>805</th>\n",
              "      <td>2023</td>\n",
              "      <td>SE</td>\n",
              "      <td>FT</td>\n",
              "      <td>Deep Learning Researcher</td>\n",
              "      <td>115000</td>\n",
              "      <td>EUR</td>\n",
              "      <td>123405</td>\n",
              "      <td>DE</td>\n",
              "      <td>0</td>\n",
              "      <td>DE</td>\n",
              "      <td>L</td>\n",
              "    </tr>\n",
              "    <tr>\n",
              "      <th>3683</th>\n",
              "      <td>2020</td>\n",
              "      <td>SE</td>\n",
              "      <td>FT</td>\n",
              "      <td>Big Data Engineer</td>\n",
              "      <td>100000</td>\n",
              "      <td>EUR</td>\n",
              "      <td>114047</td>\n",
              "      <td>PL</td>\n",
              "      <td>100</td>\n",
              "      <td>GB</td>\n",
              "      <td>S</td>\n",
              "    </tr>\n",
              "    <tr>\n",
              "      <th>1022</th>\n",
              "      <td>2023</td>\n",
              "      <td>SE</td>\n",
              "      <td>FT</td>\n",
              "      <td>Research Engineer</td>\n",
              "      <td>100000</td>\n",
              "      <td>EUR</td>\n",
              "      <td>107309</td>\n",
              "      <td>DE</td>\n",
              "      <td>100</td>\n",
              "      <td>DE</td>\n",
              "      <td>S</td>\n",
              "    </tr>\n",
              "  </tbody>\n",
              "</table>\n",
              "</div>\n",
              "      <button class=\"colab-df-convert\" onclick=\"convertToInteractive('df-1f2552a6-030d-42a9-9710-3186c5f4fd98')\"\n",
              "              title=\"Convert this dataframe to an interactive table.\"\n",
              "              style=\"display:none;\">\n",
              "\n",
              "  <svg xmlns=\"http://www.w3.org/2000/svg\" height=\"24px\"viewBox=\"0 0 24 24\"\n",
              "       width=\"24px\">\n",
              "    <path d=\"M0 0h24v24H0V0z\" fill=\"none\"/>\n",
              "    <path d=\"M18.56 5.44l.94 2.06.94-2.06 2.06-.94-2.06-.94-.94-2.06-.94 2.06-2.06.94zm-11 1L8.5 8.5l.94-2.06 2.06-.94-2.06-.94L8.5 2.5l-.94 2.06-2.06.94zm10 10l.94 2.06.94-2.06 2.06-.94-2.06-.94-.94-2.06-.94 2.06-2.06.94z\"/><path d=\"M17.41 7.96l-1.37-1.37c-.4-.4-.92-.59-1.43-.59-.52 0-1.04.2-1.43.59L10.3 9.45l-7.72 7.72c-.78.78-.78 2.05 0 2.83L4 21.41c.39.39.9.59 1.41.59.51 0 1.02-.2 1.41-.59l7.78-7.78 2.81-2.81c.8-.78.8-2.07 0-2.86zM5.41 20L4 18.59l7.72-7.72 1.47 1.35L5.41 20z\"/>\n",
              "  </svg>\n",
              "      </button>\n",
              "\n",
              "\n",
              "\n",
              "    <div id=\"df-a48b005e-fc73-407b-9a5d-77295557b3ba\">\n",
              "      <button class=\"colab-df-quickchart\" onclick=\"quickchart('df-a48b005e-fc73-407b-9a5d-77295557b3ba')\"\n",
              "              title=\"Suggest charts.\"\n",
              "              style=\"display:none;\">\n",
              "\n",
              "<svg xmlns=\"http://www.w3.org/2000/svg\" height=\"24px\"viewBox=\"0 0 24 24\"\n",
              "     width=\"24px\">\n",
              "    <g>\n",
              "        <path d=\"M19 3H5c-1.1 0-2 .9-2 2v14c0 1.1.9 2 2 2h14c1.1 0 2-.9 2-2V5c0-1.1-.9-2-2-2zM9 17H7v-7h2v7zm4 0h-2V7h2v10zm4 0h-2v-4h2v4z\"/>\n",
              "    </g>\n",
              "</svg>\n",
              "      </button>\n",
              "    </div>\n",
              "\n",
              "<style>\n",
              "  .colab-df-quickchart {\n",
              "    background-color: #E8F0FE;\n",
              "    border: none;\n",
              "    border-radius: 50%;\n",
              "    cursor: pointer;\n",
              "    display: none;\n",
              "    fill: #1967D2;\n",
              "    height: 32px;\n",
              "    padding: 0 0 0 0;\n",
              "    width: 32px;\n",
              "  }\n",
              "\n",
              "  .colab-df-quickchart:hover {\n",
              "    background-color: #E2EBFA;\n",
              "    box-shadow: 0px 1px 2px rgba(60, 64, 67, 0.3), 0px 1px 3px 1px rgba(60, 64, 67, 0.15);\n",
              "    fill: #174EA6;\n",
              "  }\n",
              "\n",
              "  [theme=dark] .colab-df-quickchart {\n",
              "    background-color: #3B4455;\n",
              "    fill: #D2E3FC;\n",
              "  }\n",
              "\n",
              "  [theme=dark] .colab-df-quickchart:hover {\n",
              "    background-color: #434B5C;\n",
              "    box-shadow: 0px 1px 3px 1px rgba(0, 0, 0, 0.15);\n",
              "    filter: drop-shadow(0px 1px 2px rgba(0, 0, 0, 0.3));\n",
              "    fill: #FFFFFF;\n",
              "  }\n",
              "</style>\n",
              "\n",
              "    <script>\n",
              "      async function quickchart(key) {\n",
              "        const containerElement = document.querySelector('#' + key);\n",
              "        const charts = await google.colab.kernel.invokeFunction(\n",
              "            'suggestCharts', [key], {});\n",
              "      }\n",
              "    </script>\n",
              "\n",
              "      <script>\n",
              "\n",
              "function displayQuickchartButton(domScope) {\n",
              "  let quickchartButtonEl =\n",
              "    domScope.querySelector('#df-a48b005e-fc73-407b-9a5d-77295557b3ba button.colab-df-quickchart');\n",
              "  quickchartButtonEl.style.display =\n",
              "    google.colab.kernel.accessAllowed ? 'block' : 'none';\n",
              "}\n",
              "\n",
              "        displayQuickchartButton(document);\n",
              "      </script>\n",
              "      <style>\n",
              "    .colab-df-container {\n",
              "      display:flex;\n",
              "      flex-wrap:wrap;\n",
              "      gap: 12px;\n",
              "    }\n",
              "\n",
              "    .colab-df-convert {\n",
              "      background-color: #E8F0FE;\n",
              "      border: none;\n",
              "      border-radius: 50%;\n",
              "      cursor: pointer;\n",
              "      display: none;\n",
              "      fill: #1967D2;\n",
              "      height: 32px;\n",
              "      padding: 0 0 0 0;\n",
              "      width: 32px;\n",
              "    }\n",
              "\n",
              "    .colab-df-convert:hover {\n",
              "      background-color: #E2EBFA;\n",
              "      box-shadow: 0px 1px 2px rgba(60, 64, 67, 0.3), 0px 1px 3px 1px rgba(60, 64, 67, 0.15);\n",
              "      fill: #174EA6;\n",
              "    }\n",
              "\n",
              "    [theme=dark] .colab-df-convert {\n",
              "      background-color: #3B4455;\n",
              "      fill: #D2E3FC;\n",
              "    }\n",
              "\n",
              "    [theme=dark] .colab-df-convert:hover {\n",
              "      background-color: #434B5C;\n",
              "      box-shadow: 0px 1px 3px 1px rgba(0, 0, 0, 0.15);\n",
              "      filter: drop-shadow(0px 1px 2px rgba(0, 0, 0, 0.3));\n",
              "      fill: #FFFFFF;\n",
              "    }\n",
              "  </style>\n",
              "\n",
              "      <script>\n",
              "        const buttonEl =\n",
              "          document.querySelector('#df-1f2552a6-030d-42a9-9710-3186c5f4fd98 button.colab-df-convert');\n",
              "        buttonEl.style.display =\n",
              "          google.colab.kernel.accessAllowed ? 'block' : 'none';\n",
              "\n",
              "        async function convertToInteractive(key) {\n",
              "          const element = document.querySelector('#df-1f2552a6-030d-42a9-9710-3186c5f4fd98');\n",
              "          const dataTable =\n",
              "            await google.colab.kernel.invokeFunction('convertToInteractive',\n",
              "                                                     [key], {});\n",
              "          if (!dataTable) return;\n",
              "\n",
              "          const docLinkHtml = 'Like what you see? Visit the ' +\n",
              "            '<a target=\"_blank\" href=https://colab.research.google.com/notebooks/data_table.ipynb>data table notebook</a>'\n",
              "            + ' to learn more about interactive tables.';\n",
              "          element.innerHTML = '';\n",
              "          dataTable['output_type'] = 'display_data';\n",
              "          await google.colab.output.renderOutput(dataTable, element);\n",
              "          const docLink = document.createElement('div');\n",
              "          docLink.innerHTML = docLinkHtml;\n",
              "          element.appendChild(docLink);\n",
              "        }\n",
              "      </script>\n",
              "    </div>\n",
              "  </div>\n"
            ]
          },
          "metadata": {},
          "execution_count": 530
        }
      ],
      "source": [
        "# verificando o outlier referente aos salários pagos em EUR\n",
        "df[df['salary_currency'] == 'EUR'].sort_values('salary_in_usd', ascending=False).head(10)"
      ]
    },
    {
      "cell_type": "markdown",
      "metadata": {
        "id": "x4yCg4HZuTRl"
      },
      "source": [
        "Visualizando o outlier do boxplot referente ao euro (EUR), é possível observar que o nível do cientista de dados é Júnior (EN). O que é muito estranho: um nível Júnior ganhar um salário muito maior que vários níveis Sênior (SE) e Executivo (EX). E, além de um nível Júnior ser o maior dos outliers, só há este nível Júnior entre os outliers.\n",
        "\n",
        "Outro fator importante é que, tanto este outlier quanto os demais, são de empresas residentes na Alemanha (DE) e os cientistas de dados também residem na Alemanha. Portanto, não há diferença de país entre os outliers para que seja possível justificar a discrepância entre os valores.\n",
        "\n",
        "Portanto, acredita-se que este dado esteja errado e ele será removido do dataset."
      ]
    },
    {
      "cell_type": "code",
      "execution_count": 531,
      "metadata": {
        "colab": {
          "base_uri": "https://localhost:8080/",
          "height": 206
        },
        "id": "4UFREJkwxrTx",
        "outputId": "18e2681b-4f99-4244-8bac-73b9445f7c08"
      },
      "outputs": [
        {
          "output_type": "execute_result",
          "data": {
            "text/plain": [
              "      work_year experience_level employment_type                 job_title  \\\n",
              "3725       2021               SE              FT  Principal Data Scientist   \n",
              "3483       2022               SE              FT  Principal Data Scientist   \n",
              "3726       2020               SE              FT  Principal Data Scientist   \n",
              "3643       2021               EX              FT  Director of Data Science   \n",
              "3515       2021               EX              FT  Director of Data Science   \n",
              "\n",
              "      salary salary_currency  salary_in_usd employee_residence  remote_ratio  \\\n",
              "3725  147000             EUR         173762                 DE           100   \n",
              "3483  148000             EUR         155499                 DE           100   \n",
              "3726  130000             EUR         148261                 DE           100   \n",
              "3643  120000             EUR         141846                 DE             0   \n",
              "3515  110000             EUR         130026                 DE            50   \n",
              "\n",
              "     company_location company_size  \n",
              "3725               DE            M  \n",
              "3483               DE            M  \n",
              "3726               DE            M  \n",
              "3643               DE            L  \n",
              "3515               DE            M  "
            ],
            "text/html": [
              "\n",
              "\n",
              "  <div id=\"df-a280e4bb-1a2c-4349-a526-579d635d29b7\">\n",
              "    <div class=\"colab-df-container\">\n",
              "      <div>\n",
              "<style scoped>\n",
              "    .dataframe tbody tr th:only-of-type {\n",
              "        vertical-align: middle;\n",
              "    }\n",
              "\n",
              "    .dataframe tbody tr th {\n",
              "        vertical-align: top;\n",
              "    }\n",
              "\n",
              "    .dataframe thead th {\n",
              "        text-align: right;\n",
              "    }\n",
              "</style>\n",
              "<table border=\"1\" class=\"dataframe\">\n",
              "  <thead>\n",
              "    <tr style=\"text-align: right;\">\n",
              "      <th></th>\n",
              "      <th>work_year</th>\n",
              "      <th>experience_level</th>\n",
              "      <th>employment_type</th>\n",
              "      <th>job_title</th>\n",
              "      <th>salary</th>\n",
              "      <th>salary_currency</th>\n",
              "      <th>salary_in_usd</th>\n",
              "      <th>employee_residence</th>\n",
              "      <th>remote_ratio</th>\n",
              "      <th>company_location</th>\n",
              "      <th>company_size</th>\n",
              "    </tr>\n",
              "  </thead>\n",
              "  <tbody>\n",
              "    <tr>\n",
              "      <th>3725</th>\n",
              "      <td>2021</td>\n",
              "      <td>SE</td>\n",
              "      <td>FT</td>\n",
              "      <td>Principal Data Scientist</td>\n",
              "      <td>147000</td>\n",
              "      <td>EUR</td>\n",
              "      <td>173762</td>\n",
              "      <td>DE</td>\n",
              "      <td>100</td>\n",
              "      <td>DE</td>\n",
              "      <td>M</td>\n",
              "    </tr>\n",
              "    <tr>\n",
              "      <th>3483</th>\n",
              "      <td>2022</td>\n",
              "      <td>SE</td>\n",
              "      <td>FT</td>\n",
              "      <td>Principal Data Scientist</td>\n",
              "      <td>148000</td>\n",
              "      <td>EUR</td>\n",
              "      <td>155499</td>\n",
              "      <td>DE</td>\n",
              "      <td>100</td>\n",
              "      <td>DE</td>\n",
              "      <td>M</td>\n",
              "    </tr>\n",
              "    <tr>\n",
              "      <th>3726</th>\n",
              "      <td>2020</td>\n",
              "      <td>SE</td>\n",
              "      <td>FT</td>\n",
              "      <td>Principal Data Scientist</td>\n",
              "      <td>130000</td>\n",
              "      <td>EUR</td>\n",
              "      <td>148261</td>\n",
              "      <td>DE</td>\n",
              "      <td>100</td>\n",
              "      <td>DE</td>\n",
              "      <td>M</td>\n",
              "    </tr>\n",
              "    <tr>\n",
              "      <th>3643</th>\n",
              "      <td>2021</td>\n",
              "      <td>EX</td>\n",
              "      <td>FT</td>\n",
              "      <td>Director of Data Science</td>\n",
              "      <td>120000</td>\n",
              "      <td>EUR</td>\n",
              "      <td>141846</td>\n",
              "      <td>DE</td>\n",
              "      <td>0</td>\n",
              "      <td>DE</td>\n",
              "      <td>L</td>\n",
              "    </tr>\n",
              "    <tr>\n",
              "      <th>3515</th>\n",
              "      <td>2021</td>\n",
              "      <td>EX</td>\n",
              "      <td>FT</td>\n",
              "      <td>Director of Data Science</td>\n",
              "      <td>110000</td>\n",
              "      <td>EUR</td>\n",
              "      <td>130026</td>\n",
              "      <td>DE</td>\n",
              "      <td>50</td>\n",
              "      <td>DE</td>\n",
              "      <td>M</td>\n",
              "    </tr>\n",
              "  </tbody>\n",
              "</table>\n",
              "</div>\n",
              "      <button class=\"colab-df-convert\" onclick=\"convertToInteractive('df-a280e4bb-1a2c-4349-a526-579d635d29b7')\"\n",
              "              title=\"Convert this dataframe to an interactive table.\"\n",
              "              style=\"display:none;\">\n",
              "\n",
              "  <svg xmlns=\"http://www.w3.org/2000/svg\" height=\"24px\"viewBox=\"0 0 24 24\"\n",
              "       width=\"24px\">\n",
              "    <path d=\"M0 0h24v24H0V0z\" fill=\"none\"/>\n",
              "    <path d=\"M18.56 5.44l.94 2.06.94-2.06 2.06-.94-2.06-.94-.94-2.06-.94 2.06-2.06.94zm-11 1L8.5 8.5l.94-2.06 2.06-.94-2.06-.94L8.5 2.5l-.94 2.06-2.06.94zm10 10l.94 2.06.94-2.06 2.06-.94-2.06-.94-.94-2.06-.94 2.06-2.06.94z\"/><path d=\"M17.41 7.96l-1.37-1.37c-.4-.4-.92-.59-1.43-.59-.52 0-1.04.2-1.43.59L10.3 9.45l-7.72 7.72c-.78.78-.78 2.05 0 2.83L4 21.41c.39.39.9.59 1.41.59.51 0 1.02-.2 1.41-.59l7.78-7.78 2.81-2.81c.8-.78.8-2.07 0-2.86zM5.41 20L4 18.59l7.72-7.72 1.47 1.35L5.41 20z\"/>\n",
              "  </svg>\n",
              "      </button>\n",
              "\n",
              "\n",
              "\n",
              "    <div id=\"df-98161ca4-7743-47b4-8a88-60b25c319514\">\n",
              "      <button class=\"colab-df-quickchart\" onclick=\"quickchart('df-98161ca4-7743-47b4-8a88-60b25c319514')\"\n",
              "              title=\"Suggest charts.\"\n",
              "              style=\"display:none;\">\n",
              "\n",
              "<svg xmlns=\"http://www.w3.org/2000/svg\" height=\"24px\"viewBox=\"0 0 24 24\"\n",
              "     width=\"24px\">\n",
              "    <g>\n",
              "        <path d=\"M19 3H5c-1.1 0-2 .9-2 2v14c0 1.1.9 2 2 2h14c1.1 0 2-.9 2-2V5c0-1.1-.9-2-2-2zM9 17H7v-7h2v7zm4 0h-2V7h2v10zm4 0h-2v-4h2v4z\"/>\n",
              "    </g>\n",
              "</svg>\n",
              "      </button>\n",
              "    </div>\n",
              "\n",
              "<style>\n",
              "  .colab-df-quickchart {\n",
              "    background-color: #E8F0FE;\n",
              "    border: none;\n",
              "    border-radius: 50%;\n",
              "    cursor: pointer;\n",
              "    display: none;\n",
              "    fill: #1967D2;\n",
              "    height: 32px;\n",
              "    padding: 0 0 0 0;\n",
              "    width: 32px;\n",
              "  }\n",
              "\n",
              "  .colab-df-quickchart:hover {\n",
              "    background-color: #E2EBFA;\n",
              "    box-shadow: 0px 1px 2px rgba(60, 64, 67, 0.3), 0px 1px 3px 1px rgba(60, 64, 67, 0.15);\n",
              "    fill: #174EA6;\n",
              "  }\n",
              "\n",
              "  [theme=dark] .colab-df-quickchart {\n",
              "    background-color: #3B4455;\n",
              "    fill: #D2E3FC;\n",
              "  }\n",
              "\n",
              "  [theme=dark] .colab-df-quickchart:hover {\n",
              "    background-color: #434B5C;\n",
              "    box-shadow: 0px 1px 3px 1px rgba(0, 0, 0, 0.15);\n",
              "    filter: drop-shadow(0px 1px 2px rgba(0, 0, 0, 0.3));\n",
              "    fill: #FFFFFF;\n",
              "  }\n",
              "</style>\n",
              "\n",
              "    <script>\n",
              "      async function quickchart(key) {\n",
              "        const containerElement = document.querySelector('#' + key);\n",
              "        const charts = await google.colab.kernel.invokeFunction(\n",
              "            'suggestCharts', [key], {});\n",
              "      }\n",
              "    </script>\n",
              "\n",
              "      <script>\n",
              "\n",
              "function displayQuickchartButton(domScope) {\n",
              "  let quickchartButtonEl =\n",
              "    domScope.querySelector('#df-98161ca4-7743-47b4-8a88-60b25c319514 button.colab-df-quickchart');\n",
              "  quickchartButtonEl.style.display =\n",
              "    google.colab.kernel.accessAllowed ? 'block' : 'none';\n",
              "}\n",
              "\n",
              "        displayQuickchartButton(document);\n",
              "      </script>\n",
              "      <style>\n",
              "    .colab-df-container {\n",
              "      display:flex;\n",
              "      flex-wrap:wrap;\n",
              "      gap: 12px;\n",
              "    }\n",
              "\n",
              "    .colab-df-convert {\n",
              "      background-color: #E8F0FE;\n",
              "      border: none;\n",
              "      border-radius: 50%;\n",
              "      cursor: pointer;\n",
              "      display: none;\n",
              "      fill: #1967D2;\n",
              "      height: 32px;\n",
              "      padding: 0 0 0 0;\n",
              "      width: 32px;\n",
              "    }\n",
              "\n",
              "    .colab-df-convert:hover {\n",
              "      background-color: #E2EBFA;\n",
              "      box-shadow: 0px 1px 2px rgba(60, 64, 67, 0.3), 0px 1px 3px 1px rgba(60, 64, 67, 0.15);\n",
              "      fill: #174EA6;\n",
              "    }\n",
              "\n",
              "    [theme=dark] .colab-df-convert {\n",
              "      background-color: #3B4455;\n",
              "      fill: #D2E3FC;\n",
              "    }\n",
              "\n",
              "    [theme=dark] .colab-df-convert:hover {\n",
              "      background-color: #434B5C;\n",
              "      box-shadow: 0px 1px 3px 1px rgba(0, 0, 0, 0.15);\n",
              "      filter: drop-shadow(0px 1px 2px rgba(0, 0, 0, 0.3));\n",
              "      fill: #FFFFFF;\n",
              "    }\n",
              "  </style>\n",
              "\n",
              "      <script>\n",
              "        const buttonEl =\n",
              "          document.querySelector('#df-a280e4bb-1a2c-4349-a526-579d635d29b7 button.colab-df-convert');\n",
              "        buttonEl.style.display =\n",
              "          google.colab.kernel.accessAllowed ? 'block' : 'none';\n",
              "\n",
              "        async function convertToInteractive(key) {\n",
              "          const element = document.querySelector('#df-a280e4bb-1a2c-4349-a526-579d635d29b7');\n",
              "          const dataTable =\n",
              "            await google.colab.kernel.invokeFunction('convertToInteractive',\n",
              "                                                     [key], {});\n",
              "          if (!dataTable) return;\n",
              "\n",
              "          const docLinkHtml = 'Like what you see? Visit the ' +\n",
              "            '<a target=\"_blank\" href=https://colab.research.google.com/notebooks/data_table.ipynb>data table notebook</a>'\n",
              "            + ' to learn more about interactive tables.';\n",
              "          element.innerHTML = '';\n",
              "          dataTable['output_type'] = 'display_data';\n",
              "          await google.colab.output.renderOutput(dataTable, element);\n",
              "          const docLink = document.createElement('div');\n",
              "          docLink.innerHTML = docLinkHtml;\n",
              "          element.appendChild(docLink);\n",
              "        }\n",
              "      </script>\n",
              "    </div>\n",
              "  </div>\n"
            ]
          },
          "metadata": {},
          "execution_count": 531
        }
      ],
      "source": [
        "# excluindo as 3 linhas do dataframe referentes aos dados da Espanha\n",
        "maxEUR = df[df['salary_currency'] == 'EUR']['salary_in_usd'].sort_values(ascending=False).head(1).index\n",
        "df = df.drop(maxEUR)\n",
        "\n",
        "# verificando os maiores valores da Espanha novamente\n",
        "df[df['salary_currency'] == \"EUR\"].sort_values('salary_in_usd', ascending=False).head(5)"
      ]
    },
    {
      "cell_type": "markdown",
      "metadata": {
        "id": "uvgdXnudSQBJ"
      },
      "source": [
        "### **2.5 - NORMALIZAÇÃO E DISCRETIZAÇÃO DOS DADOS**\n",
        "\n",
        "Agora, será criado um dataframe contendo os dados normalizados, para auxiliar nas análises que serão realizadas posteriormente.\n",
        "\n",
        "Para a normalização, será utilizada a técnica do mínimo e máximo."
      ]
    },
    {
      "cell_type": "code",
      "execution_count": 532,
      "metadata": {
        "id": "c8YJp683Bbh-"
      },
      "outputs": [],
      "source": [
        "# copiando o dataframe para a variável dfNorm\n",
        "dfNorm = df.copy()\n",
        "\n",
        "# modificando cada categoria no dataframe para o seu respectivo código\n",
        "dfNorm['experience_level'] = dfNorm['experience_level'].cat.codes\n",
        "dfNorm['employment_type'] = dfNorm['employment_type'].cat.codes\n",
        "dfNorm['job_title'] = dfNorm['job_title'].cat.codes\n",
        "dfNorm['salary_currency'] = dfNorm['salary_currency'].cat.codes\n",
        "dfNorm['employee_residence'] = dfNorm['employee_residence'].cat.codes\n",
        "dfNorm['company_location'] = dfNorm['company_location'].cat.codes\n",
        "dfNorm['company_size'] = dfNorm['company_size'].cat.codes\n",
        "\n",
        "# normalizando min-max\n",
        "dfNorm = (dfNorm-dfNorm.min())/(dfNorm.max()-dfNorm.min())"
      ]
    },
    {
      "cell_type": "markdown",
      "source": [
        "Abaixo, será feita uma discretização do salário com 10 bins com um mesmo intervalo."
      ],
      "metadata": {
        "id": "WjeyaU0-Et5L"
      }
    },
    {
      "cell_type": "code",
      "source": [
        "pandas.cut(df['salary_in_usd'],10).value_counts()"
      ],
      "metadata": {
        "colab": {
          "base_uri": "https://localhost:8080/"
        },
        "id": "tZpgwpqZE9Jh",
        "outputId": "ee7097f1-0bc2-4abe-b5e0-e669091d3edb"
      },
      "execution_count": 604,
      "outputs": [
        {
          "output_type": "execute_result",
          "data": {
            "text/plain": [
              "(128586.3, 169645.4]    1006\n",
              "(87527.2, 128586.3]      813\n",
              "(169645.4, 210704.5]     649\n",
              "(46468.1, 87527.2]       482\n",
              "(210704.5, 251763.6]     260\n",
              "(4998.409, 46468.1]      130\n",
              "(251763.6, 292822.7]      83\n",
              "(292822.7, 333881.8]      42\n",
              "(333881.8, 374940.9]       9\n",
              "(374940.9, 416000.0]       8\n",
              "Name: salary_in_usd, dtype: int64"
            ]
          },
          "metadata": {},
          "execution_count": 604
        }
      ]
    },
    {
      "cell_type": "markdown",
      "source": [
        "Acima, é possível observar que os salários que possuem maior frequência, está no intervalo entre 128,5 mil e 169,6 mil.\n",
        "\n",
        "Por fim, será feita uma discretização dos salários com 10 bins, mas com uma quantidade de frequência próxima entre os intervalos."
      ],
      "metadata": {
        "id": "B6gAxdjrFmB-"
      }
    },
    {
      "cell_type": "code",
      "source": [
        "pandas.qcut(df['salary_in_usd'],10).value_counts()"
      ],
      "metadata": {
        "colab": {
          "base_uri": "https://localhost:8080/"
        },
        "id": "_axmBFZRFXT9",
        "outputId": "4e378d4a-281b-4a93-93a1-2baef074ed9e"
      },
      "execution_count": 603,
      "outputs": [
        {
          "output_type": "execute_result",
          "data": {
            "text/plain": [
              "(126032.0, 140000.0]    410\n",
              "(150000.0, 170000.0]    375\n",
              "(93918.2, 110000.0]     368\n",
              "(5408.999, 67750.7]     349\n",
              "(67750.7, 93918.2]      348\n",
              "(220000.0, 416000.0]    344\n",
              "(190000.0, 220000.0]    334\n",
              "(110000.0, 126032.0]    328\n",
              "(170000.0, 190000.0]    328\n",
              "(140000.0, 150000.0]    298\n",
              "Name: salary_in_usd, dtype: int64"
            ]
          },
          "metadata": {},
          "execution_count": 603
        }
      ]
    },
    {
      "cell_type": "markdown",
      "metadata": {
        "id": "LHmqkgT54nZk"
      },
      "source": [
        "## **3 - ESTATÍSTICAS DESCRITIVAS DOS DADOS**"
      ]
    },
    {
      "cell_type": "markdown",
      "metadata": {
        "id": "oqqIuMPMT2Qn"
      },
      "source": [
        "Primeiramente, os dados serão analisados de um modo mais geral."
      ]
    },
    {
      "cell_type": "code",
      "execution_count": 533,
      "metadata": {
        "colab": {
          "base_uri": "https://localhost:8080/",
          "height": 586
        },
        "id": "wBeEjquN7jUV",
        "outputId": "132b2aef-20c7-461e-c4d6-640fb9f1dd86"
      },
      "outputs": [
        {
          "output_type": "execute_result",
          "data": {
            "text/plain": [
              "count      3482.000000\n",
              "mean     142619.830844\n",
              "std       59957.702194\n",
              "min        5409.000000\n",
              "25%      100907.000000\n",
              "50%      140000.000000\n",
              "75%      180000.000000\n",
              "max      416000.000000\n",
              "Name: salary_in_usd, dtype: float64"
            ]
          },
          "metadata": {},
          "execution_count": 533
        },
        {
          "output_type": "display_data",
          "data": {
            "text/plain": [
              "<Figure size 640x480 with 1 Axes>"
            ],
            "image/png": "[encoded data removed]"
          },
          "metadata": {}
        }
      ],
      "source": [
        "# verificando a distribuição dos salários através de um boxplot\n",
        "df.boxplot(column='salary_in_usd')\n",
        "\n",
        "# medidas descritivas do salário\n",
        "df['salary_in_usd'].describe()"
      ]
    },
    {
      "cell_type": "markdown",
      "metadata": {
        "id": "o9sshmEscCCE"
      },
      "source": [
        "Através do boxplot e das medidas descritivas geradas acima, é possível observar que a mediana dos salários é igual a 140 mil dólares, enquanto a média é igual a 142,6 mil dólares. E como é possível observar vários outliers presentes no boxplot, a mediana irá descrever melhor os dados, uma vez que ela é mais robusta a outliers do que a média. Além disso, também é possível observar que a distribuição possui um alto desvio padrão, igual a 59,9 mil dólares.\n",
        "\n",
        "A seguir será analisado a distribuição dos salários por meio de um histograma."
      ]
    },
    {
      "cell_type": "code",
      "execution_count": 534,
      "metadata": {
        "colab": {
          "base_uri": "https://localhost:8080/",
          "height": 465
        },
        "id": "7gOMg2ifUZQa",
        "outputId": "ee405978-f706-4ded-dbd5-eda3f5838ca4"
      },
      "outputs": [
        {
          "output_type": "stream",
          "name": "stdout",
          "text": [
            "Assimetria: 0.514272549101603\n",
            "Curtose: 0.6918079267485635\n"
          ]
        },
        {
          "output_type": "display_data",
          "data": {
            "text/plain": [
              "<Figure size 640x480 with 1 Axes>"
            ],
            "image/png": "[encoded data removed]"
          },
          "metadata": {}
        }
      ],
      "source": [
        "# verificando a distribuição do salário através de um histograma\n",
        "df['salary_in_usd'].hist(bins=15)\n",
        "\n",
        "# verificando a assimetria e a curtose\n",
        "print(\"Assimetria:\", df['salary_in_usd'].skew())\n",
        "print(\"Curtose:\", df['salary_in_usd'].kurtosis())"
      ]
    },
    {
      "cell_type": "markdown",
      "metadata": {
        "id": "lyADwsywX4wO"
      },
      "source": [
        "Através do histograma e dos valores de curtose e assimetria gerados acima, é possível observar que a distribuição dos salários tem uma forte assimetria à direita (assimetria > 0). Além disso, a distribuição é mais alta e afunilada que a distribuição normal (curtose > 0).\n",
        "\n",
        "O próximo passo será analisar os salários separados por nível de experiência."
      ]
    },
    {
      "cell_type": "code",
      "execution_count": 535,
      "metadata": {
        "colab": {
          "base_uri": "https://localhost:8080/",
          "height": 877
        },
        "id": "62QoRWUfeJ-u",
        "outputId": "90e71477-6fdd-4272-deb1-fc082a56596b"
      },
      "outputs": [
        {
          "output_type": "stream",
          "name": "stdout",
          "text": [
            "Mediana\n",
            " experience_level\n",
            "EN     76833.0\n",
            "MI    105000.0\n",
            "SE    148900.0\n",
            "EX    200000.0\n",
            "Name: salary_in_usd, dtype: float64\n",
            "\n",
            "Média\n",
            " experience_level\n",
            "EN     86506.522088\n",
            "MI    110661.797101\n",
            "SE    154947.444947\n",
            "EX    197829.412844\n",
            "Name: salary_in_usd, dtype: float64\n",
            "\n",
            "Desvio Padrão\n",
            " experience_level\n",
            "MI    49657.583560\n",
            "EN    50172.985150\n",
            "SE    55416.419929\n",
            "EX    69926.252194\n",
            "Name: salary_in_usd, dtype: float64\n"
          ]
        },
        {
          "output_type": "display_data",
          "data": {
            "text/plain": [
              "<Figure size 640x480 with 1 Axes>"
            ],
            "image/png": "[encoded data removed]"
          },
          "metadata": {}
        }
      ],
      "source": [
        "# verificando a distribuição dos salários para diferentes níveis de experiência\n",
        "df.boxplot(column='salary_in_usd', by='experience_level')\n",
        "\n",
        "# verificando a mediana para cada nível de experiência\n",
        "print(\"Mediana\\n\", df.groupby('experience_level')['salary_in_usd'].median().sort_values(ascending=True))\n",
        "\n",
        "# verificando a média para cada nível de experiência\n",
        "print(\"\\nMédia\\n\", df.groupby('experience_level')['salary_in_usd'].mean().sort_values(ascending=True))\n",
        "\n",
        "# verificando o desvio padrão para cada nível de experiência\n",
        "print(\"\\nDesvio Padrão\\n\", df.groupby('experience_level')['salary_in_usd'].std().sort_values(ascending=True))"
      ]
    },
    {
      "cell_type": "markdown",
      "metadata": {
        "id": "I9rGWCBseU8F"
      },
      "source": [
        "Observando o gráfico e as medidas descritivas geradas acima, é possível observar que a mediana dos salários do nível Júnior (EN) é aquela que possui o menor valor, 76,8 mil dólares, em seguida, vem a mediana do nível Pleno (MI), 105 mil dólares. Posteriormente, vem a mediana do nível Sênior (SE), 148,9 mil dólares, e por fim, a mediana do nível Executivo (EX), 200 mil dólares, possuindo o maior valor. Esses valores das medianas estão dentro da lógica, já que o nível Júnior é o nível de menor experiência e, a medida que o nível de experiência vai aumentando, espera-se que o salário também aumente.\n",
        "\n",
        "Além disso, também é possível observar que o nível de experiência Executivo é aquele que possui uma maior variabilidade de salário, com desvio padrão igual a 69,9 mil dólares. Enquanto isso, o nível Pleno é o nível com o menor desvio padrão, igual a 49,6 mil dólares.\n",
        "\n",
        "A seguir, será analisado os salários separados pelo país onde residem as empresas."
      ]
    },
    {
      "cell_type": "code",
      "execution_count": 536,
      "metadata": {
        "colab": {
          "base_uri": "https://localhost:8080/",
          "height": 981
        },
        "id": "NMeDK6gpo1oN",
        "outputId": "59e1c1c3-4b98-4ce9-d7ff-f9cff68481d1"
      },
      "outputs": [
        {
          "output_type": "stream",
          "name": "stdout",
          "text": [
            "Mediana\n",
            " company_location\n",
            "US    145000.0\n",
            "CA    120000.0\n",
            "GB     78990.0\n",
            "DE     71897.0\n",
            "ES     47280.0\n",
            "IN     18238.0\n",
            "Name: salary_in_usd, dtype: float64\n",
            "\n",
            "Média\n",
            " company_location\n",
            "US    151634.598091\n",
            "CA    131917.689655\n",
            "DE     85991.909091\n",
            "GB     84877.906433\n",
            "ES     50869.689189\n",
            "IN     25464.368421\n",
            "Name: salary_in_usd, dtype: float64\n",
            "\n",
            "Desvio Padrão\n",
            " company_location\n",
            "CA    61182.471960\n",
            "US    55557.345478\n",
            "DE    52704.719640\n",
            "GB    34563.390684\n",
            "ES    21173.592450\n",
            "IN    20483.240345\n",
            "Name: salary_in_usd, dtype: float64\n"
          ]
        },
        {
          "output_type": "display_data",
          "data": {
            "text/plain": [
              "<Figure size 640x480 with 1 Axes>"
            ],
            "image/png": "[encoded data removed]"
          },
          "metadata": {}
        }
      ],
      "source": [
        "# verificando a distribuição dos salários para diferentes países (de residência da empresa)\n",
        "df.boxplot(column='salary_in_usd', by='company_location')\n",
        "\n",
        "# verificando a mediana para cada país (de residência da empresa)\n",
        "print(\"Mediana\\n\", df.groupby('company_location')['salary_in_usd'].median().sort_values(ascending=False))\n",
        "\n",
        "# verificando a média para cada país (de residência da empresa)\n",
        "print(\"\\nMédia\\n\", df.groupby('company_location')['salary_in_usd'].mean().sort_values(ascending=False))\n",
        "\n",
        "# verificando o desvio padrão para cada país (de residência da empresa)\n",
        "print(\"\\nDesvio Padrão\\n\", df.groupby('company_location')['salary_in_usd'].std().sort_values(ascending=False))"
      ]
    },
    {
      "cell_type": "markdown",
      "metadata": {
        "id": "i-OUZiapsSVf"
      },
      "source": [
        "Observando o gráfico e as medidas descritivas geradas acima, é possível observar que a mediana dos salários de empresas dos Estados Unidos (US) é aquela que possui o maior valor, 145 mil dólares, em seguida, vem a mediana de empresas do Canadá (CA), 120 mil dólares. Posteriormente, vem as medianas de empresas do Reino Unido (GB), Alemanha (DE) e Espanha (ES), com valores iguais a 78,9 mil, 71,8 mil e 47,2 mil dólares, respectivamente.\n",
        "\n",
        "Por último, vem a mediana dos salários de empresas residentes na Índia (IN), com valor igual a 25,4 mil dólares. E isto pode ser explicado pelo fato de a Índia possuir a moeda mais fraca dentre os demais países.\n",
        "\n",
        "Além disso, também foi possível observar que o Canáda é o país que possui maior variabilidade entre os salários, com o desvio padrão igual a 61,1 mil dólares. Em seguida, vem os Estados Unidos e a Alemanha, com os desvios padrão iguais a 55,5 mil e 52,7 mil dólares, respectivamente. O país com a menor variabilidade entre os salários é a Índia, com o desvio padrão igual a 20,4 mil dólares.\n",
        "\n",
        "Agora, será analisado os salários agrupados pela moeda em que o salário é pago."
      ]
    },
    {
      "cell_type": "code",
      "execution_count": 537,
      "metadata": {
        "colab": {
          "base_uri": "https://localhost:8080/",
          "height": 1000
        },
        "id": "AtOz9Fdu-YOH",
        "outputId": "2ecdcf39-fb0d-473f-b404-ce4c3abbbab9"
      },
      "outputs": [
        {
          "output_type": "stream",
          "name": "stdout",
          "text": [
            "Mediana\n",
            " salary_currency\n",
            "USD    145000.0\n",
            "CAD     87738.0\n",
            "GBP     77974.0\n",
            "EUR     51508.0\n",
            "HUF     36259.0\n",
            "INR     18021.5\n",
            "PLN     17779.0\n",
            "Name: salary_in_usd, dtype: float64\n",
            "\n",
            "Média\n",
            " salary_currency\n",
            "USD    151551.616496\n",
            "CAD     96707.400000\n",
            "GBP     81983.442308\n",
            "EUR     60267.842520\n",
            "HUF     36259.000000\n",
            "INR     25933.178571\n",
            "PLN     17779.000000\n",
            "Name: salary_in_usd, dtype: float64\n",
            "\n",
            "Desvio Padrão\n",
            " salary_currency\n",
            "USD    55748.525078\n",
            "CAD    40418.226399\n",
            "GBP    30357.952867\n",
            "EUR    28259.632002\n",
            "INR    21156.925341\n",
            "HUF             NaN\n",
            "PLN             NaN\n",
            "Name: salary_in_usd, dtype: float64\n"
          ]
        },
        {
          "output_type": "display_data",
          "data": {
            "text/plain": [
              "<Figure size 640x480 with 1 Axes>"
            ],
            "image/png": "[encoded data removed]"
          },
          "metadata": {}
        }
      ],
      "source": [
        "# verificando a distribuição dos salários para diferentes moedas\n",
        "df.boxplot(column='salary_in_usd', by='salary_currency')\n",
        "\n",
        "# verificando a mediana para cada moeda em que o salário é pago\n",
        "print(\"Mediana\\n\", df.groupby('salary_currency')['salary_in_usd'].median().sort_values(ascending=False))\n",
        "\n",
        "# verificando a média para cada moeda em que o salário é pago\n",
        "print(\"\\nMédia\\n\", df.groupby('salary_currency')['salary_in_usd'].mean().sort_values(ascending=False))\n",
        "\n",
        "# verificando a desvio padrão para cada moeda em que o salário é pago\n",
        "print(\"\\nDesvio Padrão\\n\", df.groupby('salary_currency')['salary_in_usd'].std().sort_values(ascending=False))"
      ]
    },
    {
      "cell_type": "markdown",
      "metadata": {
        "id": "MLngNGJs_anb"
      },
      "source": [
        "Observando o gráfico e as medidas descritivas geradas acima, é possível observar que a mediana dos salários pagos em USD é aquela que possui o maior valor, em seguida, vem a mediana de salário pagos em CAD e, posteriormente, em GBP. Seguindo a mesma sequência do gráfico analisado anteriormente, o que pode ser justificado pelo fato de empresas dos Estados Unidos pagar a maioria dos salários em USD, empresas do Canadá pagar em CAD, empresas do Reino Unido pagar em GBP, etc.\n",
        "\n",
        "O desvio padrão também segue esta mesma lógica, o maior desvio padrão é de salários pagos em USD, enquanto o menor desvio padrão é de salários pagos em INR. Também é importante observar que o desvio padrão das moedas HUF e PLN estão com valores NaN pelo fato de existir apenas uma amostra dessas moedas no dataset.\n",
        "\n",
        "O próximo passo, será analisar os salários separados pelo estilo de trabalho: remoto, híbrido ou presencial."
      ]
    },
    {
      "cell_type": "code",
      "execution_count": 538,
      "metadata": {
        "colab": {
          "base_uri": "https://localhost:8080/",
          "height": 825
        },
        "id": "h00HaiawCWJo",
        "outputId": "433faadb-b05d-439b-e2af-aa2ae7526ba4"
      },
      "outputs": [
        {
          "output_type": "stream",
          "name": "stdout",
          "text": [
            "Mediana\n",
            " remote_ratio\n",
            "0      140000.0\n",
            "100    140000.0\n",
            "50      79833.0\n",
            "Name: salary_in_usd, dtype: float64\n",
            "\n",
            "Média\n",
            " remote_ratio\n",
            "0      146249.952047\n",
            "100    141921.763660\n",
            "50      89562.439252\n",
            "Name: salary_in_usd, dtype: float64\n",
            "\n",
            "Desvio Padrão\n",
            " remote_ratio\n",
            "100    61261.656756\n",
            "50     61085.911827\n",
            "0      57320.904153\n",
            "Name: salary_in_usd, dtype: float64\n"
          ]
        },
        {
          "output_type": "display_data",
          "data": {
            "text/plain": [
              "<Figure size 640x480 with 1 Axes>"
            ],
            "image/png": "[encoded data removed]"
          },
          "metadata": {}
        }
      ],
      "source": [
        "# verificando a distribuição dos salários para diferentes estilos de trabalho\n",
        "df.boxplot(column='salary_in_usd', by='remote_ratio')\n",
        "\n",
        "# verificando a mediana para cada estilo de trabalho\n",
        "print(\"Mediana\\n\", df.groupby('remote_ratio')['salary_in_usd'].median().sort_values(ascending=False))\n",
        "\n",
        "# verificando a média para cada estilo de trabalho\n",
        "print(\"\\nMédia\\n\", df.groupby('remote_ratio')['salary_in_usd'].mean().sort_values(ascending=False))\n",
        "\n",
        "# verificando a desvio padrão para cada estilo de trabalho\n",
        "print(\"\\nDesvio Padrão\\n\", df.groupby('remote_ratio')['salary_in_usd'].std().sort_values(ascending=False))"
      ]
    },
    {
      "cell_type": "markdown",
      "metadata": {
        "id": "WxqYI9drD8v3"
      },
      "source": [
        "Observando o gráfico e os valores gerados acima, é possível concluir que não há diferenças significativas entre salários para empregos remotos (100) e presenciais (0), sendo que a mediana de ambos são idênticas, com valor igual a 140 mil.\n",
        "\n",
        "Além disso, é possível observar que a mediana dos empregos híbridos (50) é igual à 79,8 mil (metade da mediana de empregos remotos e presenciais). No entanto, não faz muito sentido concluir que empregos híbridos pagam menos que remotos e presenciais, uma vez que um emprego híbrido é uma mescla destas duas modalidades de trabalho. Portanto, podemos concluir que isso foi apenas uma coincidência no dataset. Por conta disso, será verificado abaixo se todas as 3 categorias possuem amostras significativas."
      ]
    },
    {
      "cell_type": "code",
      "execution_count": 539,
      "metadata": {
        "colab": {
          "base_uri": "https://localhost:8080/"
        },
        "id": "51isxrulFD8T",
        "outputId": "7b27ff03-5e61-47d1-a8e0-14b7fb287929"
      },
      "outputs": [
        {
          "output_type": "execute_result",
          "data": {
            "text/plain": [
              "remote_ratio\n",
              "0      1856\n",
              "100    1519\n",
              "50      107\n",
              "dtype: int64"
            ]
          },
          "metadata": {},
          "execution_count": 539
        }
      ],
      "source": [
        "# verificando a quantidade de amostras para cada categoria\n",
        "df.value_counts('remote_ratio')"
      ]
    },
    {
      "cell_type": "markdown",
      "metadata": {
        "id": "W24SFzllFh5F"
      },
      "source": [
        "Acima, é possível verificar que o dataset possui poucas amostras para trabalhos híbridos (50), o que pode justificar esta discrepância (sem sentido) entre as modalidades de trabalho. Além disso, também será verificado abaixo, o número de amostras de cada nível de experiência, para as diferentes modalidades de trabalho."
      ]
    },
    {
      "cell_type": "code",
      "execution_count": 540,
      "metadata": {
        "colab": {
          "base_uri": "https://localhost:8080/"
        },
        "id": "UefM983cGqRF",
        "outputId": "fd1953f6-a60b-4ea6-8a5c-57c55616e8bc"
      },
      "outputs": [
        {
          "output_type": "execute_result",
          "data": {
            "text/plain": [
              "remote_ratio  experience_level\n",
              "0             EN                   100\n",
              "              MI                   370\n",
              "              SE                  1333\n",
              "              EX                    53\n",
              "50            EN                    39\n",
              "              MI                    38\n",
              "              SE                    25\n",
              "              EX                     5\n",
              "100           EN                   110\n",
              "              MI                   282\n",
              "              SE                  1076\n",
              "              EX                    51\n",
              "Name: salary_in_usd, dtype: int64"
            ]
          },
          "metadata": {},
          "execution_count": 540
        }
      ],
      "source": [
        "# verificando a quantidade de amostras de cada nível de experiência para as diferentes modalidades de trabalho\n",
        "df.groupby(['remote_ratio','experience_level']).count()['salary_in_usd']"
      ]
    },
    {
      "cell_type": "markdown",
      "metadata": {
        "id": "vV5z37pqH3V0"
      },
      "source": [
        "Acima, é possível observar que a modalidade híbrida, possui o maior número das amostras referentes aos níveis Júnior e Pleno. Em contrapartida, as modalidades presencial e remota, apresentam uma quantidade de amostras absurdamente maior referente ao nível Sênior. O que explica o porquê da modalidade híbrida possuir uma mediana absurdamente menor. Por conta disso, as modalidades de trabalho serão analisadas novamente, mas, agora, agrupando também por nível de experiência."
      ]
    },
    {
      "cell_type": "code",
      "execution_count": 541,
      "metadata": {
        "colab": {
          "base_uri": "https://localhost:8080/",
          "height": 793
        },
        "id": "DgAvtuIkJhKa",
        "outputId": "61ba1464-d8b6-4682-9f31-20a494c4b564"
      },
      "outputs": [
        {
          "output_type": "stream",
          "name": "stderr",
          "text": [
            "<ipython-input-541-70c2efce1234>:13: FutureWarning: The default value of numeric_only in DataFrameGroupBy.median is deprecated. In a future version, numeric_only will default to False. Either specify numeric_only or select only columns which should be valid for the function.\n",
            "  df.groupby(['remote_ratio','experience_level']).median()['salary_in_usd']\n"
          ]
        },
        {
          "output_type": "execute_result",
          "data": {
            "text/plain": [
              "remote_ratio  experience_level\n",
              "0             EN                  120000.0\n",
              "              MI                  111887.5\n",
              "              SE                  146000.0\n",
              "              EX                  182160.0\n",
              "50            EN                   50000.0\n",
              "              MI                   76124.0\n",
              "              SE                  117104.0\n",
              "              EX                  125976.0\n",
              "100           EN                   64600.0\n",
              "              MI                  100000.0\n",
              "              SE                  150000.0\n",
              "              EX                  210914.0\n",
              "Name: salary_in_usd, dtype: float64"
            ]
          },
          "metadata": {},
          "execution_count": 541
        },
        {
          "output_type": "display_data",
          "data": {
            "text/plain": [
              "<Figure size 640x480 with 1 Axes>"
            ],
            "image/png": "[encoded data removed]"
          },
          "metadata": {}
        }
      ],
      "source": [
        "# criando os labels\n",
        "modalidade = ['0', '50', '100']\n",
        "exp = ['EN', 'MI', 'SE', 'EX']\n",
        "labels=[]\n",
        "for i in modalidade:\n",
        "  for j in exp:\n",
        "    labels.append(j+'\\n'+i)\n",
        "\n",
        "# verificando a distribuição dos salários de cada nível de experiência para as diferentes modalidades de trabalho\n",
        "df.boxplot(column='salary_in_usd', by=['remote_ratio', 'experience_level']).set_xticklabels(labels)\n",
        "\n",
        "# calculando a mediana dos salários de cada nível de experiência para as diferentes modalidades de trabalho\n",
        "df.groupby(['remote_ratio','experience_level']).median()['salary_in_usd']"
      ]
    },
    {
      "cell_type": "markdown",
      "metadata": {
        "id": "tiiU-wsIV3ue"
      },
      "source": [
        "A partir do gráfico e dos valores de mediana gerados acima, é possível observar que a diferença entre as medianas das modalidades híbrida (50) e remota (100) diminuíram absurdamente. Além disso, a diferença entre as medianas das modalidades híbrida (50) e presencial (0) também diminuíram um pouco. No entanto, vale mencionar novamente que, a modalidade híbrida possui poucas amostras, logo, pode ser que estes dados não represente muito bem a realidade."
      ]
    },
    {
      "cell_type": "markdown",
      "metadata": {
        "id": "KrCGavbIZE7f"
      },
      "source": [
        "## **4 - TESTES DE HIPÓTESE**\n",
        "\n",
        "Neste tópico serão levantadas algumas hipóteses, as quais serão testadas com testes de hipóteses.\n",
        "\n",
        "Primeiramente, será testado se empresas dos Estados Unidos (US), pagam um maior salário que empresas da Europa (GB, DE e ES) para o nível Pleno (MI).\n",
        "\n",
        "Como são grupos não-pareados, deve ser realizado o *Teste T Não-Pareado* ou o *Teste Man-Whitney*. Para utilizar o *Teste T*, os grupos devem seguir uma distribuição normal e a variância dos grupos devem ser iguais."
      ]
    },
    {
      "cell_type": "code",
      "execution_count": 542,
      "metadata": {
        "colab": {
          "base_uri": "https://localhost:8080/"
        },
        "id": "l65aj16kCyU-",
        "outputId": "5fcc5ebc-cab3-43e7-bc3e-8eae11739a2a"
      },
      "outputs": [
        {
          "output_type": "stream",
          "name": "stdout",
          "text": [
            "Variância Estados Unidos: 2125321346.5824068\n",
            "Variância Europa: 747297532.6851277\n"
          ]
        }
      ],
      "source": [
        "# selecionando apenas empresas dos US e apenas o nível de experiência Pleno\n",
        "US_MI = df[(df['company_location']=='US') & (df['experience_level']=='MI')]['salary_in_usd']\n",
        "\n",
        "# selecionando apenas empresas da Europa e apenas o nível de experiência Pleno\n",
        "EU_MI = df[(df['company_location'].isin(['GB','DE','ES'])) & (df['experience_level']=='MI')]['salary_in_usd']\n",
        "\n",
        "# verificando a variância dos 2 grupos\n",
        "print(\"Variância Estados Unidos:\", US_MI.var())\n",
        "print(\"Variância Europa:\", EU_MI.var())"
      ]
    },
    {
      "cell_type": "markdown",
      "metadata": {
        "id": "mwu8ZHAWm5wy"
      },
      "source": [
        "Acima, é possível verificar que os dois grupos possuem uma grande diferença entre as variâncias e, por conta disso, será realizado o *Teste Man-Whitney*."
      ]
    },
    {
      "cell_type": "code",
      "execution_count": 543,
      "metadata": {
        "colab": {
          "base_uri": "https://localhost:8080/"
        },
        "id": "5cXSD82XnQdN",
        "outputId": "ca1f5ca9-3577-4b8e-8c57-74a301fb9428"
      },
      "outputs": [
        {
          "output_type": "execute_result",
          "data": {
            "text/plain": [
              "MannwhitneyuResult(statistic=64379.0, pvalue=2.916029034655205e-37)"
            ]
          },
          "metadata": {},
          "execution_count": 543
        }
      ],
      "source": [
        "stats.mannwhitneyu(US_MI, EU_MI)"
      ]
    },
    {
      "cell_type": "markdown",
      "metadata": {
        "id": "Q2Pm9pb4slZM"
      },
      "source": [
        "Como o p-valor do teste de hipótese foi muito baixo (menor que 0,05), podemos afirmar que a distribuição dos dois grupos são diferentes, ou seja, existe uma diferença entre os salários pagos nos Estados Unidos e na Europa para o nível Pleno.\n",
        "\n",
        "A seguir será gerado um boxplot para verificar melhor essa diferença entre os salários."
      ]
    },
    {
      "cell_type": "code",
      "execution_count": 544,
      "metadata": {
        "colab": {
          "base_uri": "https://localhost:8080/",
          "height": 430
        },
        "id": "EmKiXzAp_Jsg",
        "outputId": "bf9bb5a7-fd0c-42e1-c648-2f19a20f520d"
      },
      "outputs": [
        {
          "output_type": "display_data",
          "data": {
            "text/plain": [
              "<Figure size 640x480 with 1 Axes>"
            ],
            "image/png": "[encoded data removed]"
          },
          "metadata": {}
        }
      ],
      "source": [
        "# gerando o boxplot\n",
        "pyplot.boxplot([US_MI,EU_MI], labels=['Estados Unidos', 'Europa'])\n",
        "pass"
      ]
    },
    {
      "cell_type": "markdown",
      "metadata": {
        "id": "uojQMKoTBLfS"
      },
      "source": [
        "A partir do gráfico acima, é possível observar que a mediana dos salários de empresas dos Estados Unidos é maior que a mediana dos salários de empresas da Europa. E como o teste de hipótese resultou em distribuições diferentes, é possível afirmar que os salários pagos nos Estados Unidos é maior que os salários pagos na Europa para o nível Pleno.\n",
        "\n",
        "A seguir, também será verificado se empresas dos Estados Unidos pagam um salário mais baixo para cientistas de dados estrangeiros, levando em consideração apenas o nível Pleno.\n",
        "\n",
        "Primeiramente, as variâncias dos grupos serão verificadas."
      ]
    },
    {
      "cell_type": "code",
      "execution_count": 545,
      "metadata": {
        "colab": {
          "base_uri": "https://localhost:8080/"
        },
        "id": "5LlEhm1Xzvbr",
        "outputId": "76ac8493-8b83-4807-8925-c26957f71d08"
      },
      "outputs": [
        {
          "output_type": "stream",
          "name": "stdout",
          "text": [
            "Variância Estados Unidos: 1992453141.4806123\n",
            "Variância Estrangeiros: 2359311197.8\n"
          ]
        }
      ],
      "source": [
        "# selecionando apenas empresas dos US, apenas o nível de experiência Pleno e apenas cientistas de dados dos US\n",
        "US_MI_US = df[(df['company_location']=='US') & (df['experience_level']=='MI') & (df['employee_residence']=='US')]['salary_in_usd']\n",
        "\n",
        "# selecionando apenas empresas dos US, apenas o nível de experiência Pleno e apenas cientistas de dados estrangeiros\n",
        "US_MI_EST = df[(df['company_location']=='US') & (df['experience_level']=='MI') & (df['employee_residence']!='US')]['salary_in_usd']\n",
        "\n",
        "# verificando a variância dos 2 grupos\n",
        "print(\"Variância Estados Unidos:\", US_MI_US.var())\n",
        "print(\"Variância Estrangeiros:\", US_MI_EST.var())"
      ]
    },
    {
      "cell_type": "markdown",
      "metadata": {
        "id": "DVFY9SO10vXV"
      },
      "source": [
        "Acima, é possível verificar que as variâncias dos dois grupos são semelhantes. Agora, será verificado se os grupos seguem uma distribuição normal."
      ]
    },
    {
      "cell_type": "code",
      "execution_count": 546,
      "metadata": {
        "colab": {
          "base_uri": "https://localhost:8080/"
        },
        "id": "kb52kHJx0kGH",
        "outputId": "ecc1c0bd-3860-43c0-ac48-8e17800a8239"
      },
      "outputs": [
        {
          "output_type": "stream",
          "name": "stdout",
          "text": [
            "P-Value Americanos: 2.9583611116379416e-09\n",
            "P-Value Estrangeiros: 0.03340975567698479\n"
          ]
        }
      ],
      "source": [
        "print(\"P-Value Americanos:\", stats.shapiro(US_MI_US).pvalue)\n",
        "print(\"P-Value Estrangeiros:\", stats.shapiro(US_MI_EST).pvalue)"
      ]
    },
    {
      "cell_type": "markdown",
      "metadata": {
        "id": "EStMaeUl2VsU"
      },
      "source": [
        "Acima, é possível observar que nenhum dos 2 grupos seguem uma distribuição normal, logo, o *Teste T Não-Pareado* não poderá ser utilizado. Sendo assim, será utilizado o *Teste Man-Whitney*."
      ]
    },
    {
      "cell_type": "code",
      "execution_count": 547,
      "metadata": {
        "colab": {
          "base_uri": "https://localhost:8080/"
        },
        "id": "m0_aQRZN32Os",
        "outputId": "e3b9bd50-91a8-4d25-e66c-028fd9f26eef"
      },
      "outputs": [
        {
          "output_type": "execute_result",
          "data": {
            "text/plain": [
              "MannwhitneyuResult(statistic=6567.0, pvalue=1.165838887513956e-06)"
            ]
          },
          "metadata": {},
          "execution_count": 547
        }
      ],
      "source": [
        "stats.mannwhitneyu(US_MI_US, US_MI_EST)"
      ]
    },
    {
      "cell_type": "markdown",
      "metadata": {
        "id": "uemvL6v74O9N"
      },
      "source": [
        "Como o p-valor do teste de hipótese foi muito baixo (menor que 0,05), a distribuição dos dois grupos, novamente, são diferentes. Sendo assim, existe uma diferença entre os salários pagos para cientistas de dados dos Estados Unidos e cientistas de dados estrangeiros, para o nível Pleno, em empresas dos Estados Unidos.\n",
        "\n",
        "A seguir será gerado um boxplot para verificar melhor essa diferença entre os salários."
      ]
    },
    {
      "cell_type": "code",
      "execution_count": 548,
      "metadata": {
        "colab": {
          "base_uri": "https://localhost:8080/",
          "height": 430
        },
        "id": "ssIhZOMb47uB",
        "outputId": "cdbedcb2-86a1-4788-e8db-e2ef57f94083"
      },
      "outputs": [
        {
          "output_type": "display_data",
          "data": {
            "text/plain": [
              "<Figure size 640x480 with 1 Axes>"
            ],
            "image/png": "[encoded data removed]"
          },
          "metadata": {}
        }
      ],
      "source": [
        "# gerando o boxplot\n",
        "pyplot.boxplot([US_MI_US,US_MI_EST], labels=['Americanos', 'Estrangeiros'])\n",
        "pass"
      ]
    },
    {
      "cell_type": "markdown",
      "metadata": {
        "id": "12bmCco-9b2G"
      },
      "source": [
        "A partir do gráfico acima, é possível observar que a mediana dos salários pagos para Americanos é maior que a mediana dos salários pagos para Estrangeiros. E, como o teste de hipótese resultou em distribuições diferentes, é possível afirmar que os salários pagos para Americanos é maior que os salários pagos Estrangeiros, quando se trata de empresas residentes nos Estados Unidos e, especificamente, para o nível Pleno"
      ]
    },
    {
      "cell_type": "markdown",
      "metadata": {
        "id": "7dlpE8yc_VIz"
      },
      "source": [
        "# **PROJETO 2** - Salários de Cientistas de Dados"
      ]
    },
    {
      "cell_type": "markdown",
      "metadata": {
        "id": "bn9XQP4-L202"
      },
      "source": [
        "## **1 - ESCOLHER COLUNA PARA PREDIÇÃO**\n",
        "\n",
        "A coluna escolhida para predição será a coluna *salary_in_usd*: coluna que contém os salários pagos convertidos para dólar.\n",
        "\n",
        "Para selecionar as features para predição será utilizada a correlação de *Spearman*."
      ]
    },
    {
      "cell_type": "code",
      "execution_count": 549,
      "metadata": {
        "colab": {
          "base_uri": "https://localhost:8080/"
        },
        "id": "bf8mu9ZUZYPj",
        "outputId": "b3afd117-3edb-4cff-ff51-a9376918a586"
      },
      "outputs": [
        {
          "output_type": "stream",
          "name": "stdout",
          "text": [
            "salary_in_usd         1.000000\n",
            "salary                0.903390\n",
            "salary_currency       0.440976\n",
            "experience_level      0.418623\n",
            "company_location      0.407925\n",
            "employee_residence    0.401160\n",
            "job_title             0.183291\n",
            "work_year             0.162902\n",
            "remote_ratio          0.035263\n",
            "employment_type       0.019488\n",
            "company_size          0.002554\n",
            "Name: salary_in_usd, dtype: float64\n"
          ]
        }
      ],
      "source": [
        "dfCorr = dfNorm.corr('spearman')['salary_in_usd'].abs().sort_values(ascending=False)\n",
        "print(dfCorr)"
      ]
    },
    {
      "cell_type": "markdown",
      "metadata": {
        "id": "STKqAPQqaWmp"
      },
      "source": [
        "Dentre as colunas acima, a própria coluna *salary_in_usd* será excluída. E a coluna *salary* também será excluída, pois esta coluna é a própria coluna *salary_in_usd* em uma outra unidade (podendo estar em euro, rupia indiana, dólar canadense, etc).\n",
        "\n",
        "Observando as correlações das variáveis acima, observa-se que nenhuma variável possui uma forte correlação com a variável *salary_in_usd*. Por conta disso, serão selecionadas as colunas que possuírem uma correlação maior que 0,15."
      ]
    },
    {
      "cell_type": "code",
      "execution_count": 550,
      "metadata": {
        "colab": {
          "base_uri": "https://localhost:8080/"
        },
        "id": "vHljuBFGahCr",
        "outputId": "eb579930-f7f8-4b61-e080-db1b4629b876"
      },
      "outputs": [
        {
          "output_type": "stream",
          "name": "stdout",
          "text": [
            "Index(['salary_currency', 'experience_level', 'company_location',\n",
            "       'employee_residence', 'job_title', 'work_year'],\n",
            "      dtype='object')\n"
          ]
        }
      ],
      "source": [
        "# excluindo a própria coluna salary_in_usd\n",
        "del dfCorr['salary_in_usd']\n",
        "del dfCorr['salary']\n",
        "\n",
        "# excluindo a própria coluna salary_in_usd\n",
        "dfCorr = dfCorr[dfCorr>0.15]\n",
        "\n",
        "features = dfCorr.index\n",
        "print(features)"
      ]
    },
    {
      "cell_type": "markdown",
      "source": [
        "E além das variáveis possuírem uma correlação fraca com *salary_in_usd*, muitas delas possuem uma correlação forte entre si. Logo, é provável que o modelo que será treinado, tenha um baixo desempenho."
      ],
      "metadata": {
        "id": "EPgt6i1CYOA0"
      }
    },
    {
      "cell_type": "code",
      "source": [
        "import seaborn\n",
        "seaborn.heatmap(dfNorm[features].corr('spearman'), annot=True)"
      ],
      "metadata": {
        "colab": {
          "base_uri": "https://localhost:8080/",
          "height": 581
        },
        "id": "rLJU34j3XgN3",
        "outputId": "fb0bc669-8c59-4d63-8f9d-964e181ee98f"
      },
      "execution_count": 551,
      "outputs": [
        {
          "output_type": "execute_result",
          "data": {
            "text/plain": [
              "<Axes: >"
            ]
          },
          "metadata": {},
          "execution_count": 551
        },
        {
          "output_type": "display_data",
          "data": {
            "text/plain": [
              "<Figure size 640x480 with 2 Axes>"
            ],
            "image/png": "[encoded data removed]"
          },
          "metadata": {}
        }
      ]
    },
    {
      "cell_type": "markdown",
      "metadata": {
        "id": "y32Tqk3WSNY_"
      },
      "source": [
        "## **2 - SEPARAÇÃO DOS DADOS (TREINO, VALIDAÇÃO E TESTE)**\n",
        "\n",
        "Abaixo será realizada a separação de um conjunto de dados para treino e validação e outro conjunto de dados para o teste. É importante ressaltar que será utilizado um único conjunto de dados para treino e validação, pois será realizado uma validação cruzada (com 5 folds). Sendo que 85% dos dados serão separados para treino e validação e os outros 15% para teste."
      ]
    },
    {
      "cell_type": "code",
      "execution_count": 552,
      "metadata": {
        "colab": {
          "base_uri": "https://localhost:8080/"
        },
        "id": "lRfliow9THUv",
        "outputId": "6368bfe4-a945-401f-9684-7d7518ffba41"
      },
      "outputs": [
        {
          "output_type": "stream",
          "name": "stdout",
          "text": [
            "Tamanho do Dataset: 3482\n",
            "Tamanho do Conjunto de Treino: 2959\n",
            "Tamanho do Conjunto de Teste: 523\n"
          ]
        }
      ],
      "source": [
        "x = dfNorm[features].values\n",
        "y = dfNorm['salary_in_usd'].values\n",
        "\n",
        "# importando a biblioteca para separação dos dados e a biblioteca para cross-validation\n",
        "from sklearn.model_selection import train_test_split, cross_val_score\n",
        "\n",
        "# separando os dados de treino\n",
        "xTrain, xTest, yTrain, yTest = train_test_split(x, y, test_size=0.15, random_state=0)\n",
        "\n",
        "print('Tamanho do Dataset:', y.size)\n",
        "print('Tamanho do Conjunto de Treino:', yTrain.size)\n",
        "print('Tamanho do Conjunto de Teste:', yTest.size)"
      ]
    },
    {
      "cell_type": "markdown",
      "metadata": {
        "id": "hZzqokRXTL2s"
      },
      "source": [
        "## **3 - ESCOLHA DOS ALGORÍTMOS DE MACHINE LEARNING**\n",
        "\n",
        "Os algorítmos de machine learning escolhidos são: Decision Tree, Random Forest, Regressão Linear e MLP (Multilayer Perceptron)."
      ]
    },
    {
      "cell_type": "code",
      "execution_count": 607,
      "metadata": {
        "id": "rOYV8ZXdgHcB"
      },
      "outputs": [],
      "source": [
        "# DECISION TREE\n",
        "from sklearn.tree import DecisionTreeRegressor\n",
        "\n",
        "# RANDOM FOREST\n",
        "from sklearn.ensemble import RandomForestRegressor\n",
        "\n",
        "# REGRESSÃO LINEAR\n",
        "from sklearn.linear_model import LinearRegression\n",
        "\n",
        "# MLP\n",
        "from tensorflow.python.keras.models import Sequential\n",
        "from tensorflow.python.keras.layers import Dense"
      ]
    },
    {
      "cell_type": "markdown",
      "metadata": {
        "id": "6EORCT-kT3lt"
      },
      "source": [
        "## **4 - ADICIONANDO MLFLOW NO TREINAMENTO DOS MODELOS**"
      ]
    },
    {
      "cell_type": "code",
      "execution_count": 554,
      "metadata": {
        "colab": {
          "base_uri": "https://localhost:8080/"
        },
        "id": "RQKSRcAEXxCY",
        "outputId": "3b0076e3-e8c7-4440-bf4b-d3f50482da08"
      },
      "outputs": [
        {
          "output_type": "stream",
          "name": "stdout",
          "text": [
            "Requirement already satisfied: mlflow in /usr/local/lib/python3.10/dist-packages (2.4.2)\n",
            "Requirement already satisfied: click<9,>=7.0 in /usr/local/lib/python3.10/dist-packages (from mlflow) (8.1.4)\n",
            "Requirement already satisfied: cloudpickle<3 in /usr/local/lib/python3.10/dist-packages (from mlflow) (2.2.1)\n",
            "Requirement already satisfied: databricks-cli<1,>=0.8.7 in /usr/local/lib/python3.10/dist-packages (from mlflow) (0.17.7)\n",
            "Requirement already satisfied: entrypoints<1 in /usr/local/lib/python3.10/dist-packages (from mlflow) (0.4)\n",
            "Requirement already satisfied: gitpython<4,>=2.1.0 in /usr/local/lib/python3.10/dist-packages (from mlflow) (3.1.32)\n",
            "Requirement already satisfied: pyyaml<7,>=5.1 in /usr/local/lib/python3.10/dist-packages (from mlflow) (6.0)\n",
            "Requirement already satisfied: protobuf<5,>=3.12.0 in /usr/local/lib/python3.10/dist-packages (from mlflow) (3.20.3)\n",
            "Requirement already satisfied: pytz<2024 in /usr/local/lib/python3.10/dist-packages (from mlflow) (2022.7.1)\n",
            "Requirement already satisfied: requests<3,>=2.17.3 in /usr/local/lib/python3.10/dist-packages (from mlflow) (2.27.1)\n",
            "Requirement already satisfied: packaging<24 in /usr/local/lib/python3.10/dist-packages (from mlflow) (23.1)\n",
            "Requirement already satisfied: importlib-metadata!=4.7.0,<7,>=3.7.0 in /usr/local/lib/python3.10/dist-packages (from mlflow) (6.8.0)\n",
            "Requirement already satisfied: sqlparse<1,>=0.4.0 in /usr/local/lib/python3.10/dist-packages (from mlflow) (0.4.4)\n",
            "Requirement already satisfied: alembic!=1.10.0,<2 in /usr/local/lib/python3.10/dist-packages (from mlflow) (1.11.1)\n",
            "Requirement already satisfied: docker<7,>=4.0.0 in /usr/local/lib/python3.10/dist-packages (from mlflow) (6.1.3)\n",
            "Requirement already satisfied: Flask<3 in /usr/local/lib/python3.10/dist-packages (from mlflow) (2.2.5)\n",
            "Requirement already satisfied: numpy<2 in /usr/local/lib/python3.10/dist-packages (from mlflow) (1.22.4)\n",
            "Requirement already satisfied: scipy<2 in /usr/local/lib/python3.10/dist-packages (from mlflow) (1.10.1)\n",
            "Requirement already satisfied: pandas<3 in /usr/local/lib/python3.10/dist-packages (from mlflow) (1.5.3)\n",
            "Requirement already satisfied: querystring-parser<2 in /usr/local/lib/python3.10/dist-packages (from mlflow) (1.2.4)\n",
            "Requirement already satisfied: sqlalchemy<3,>=1.4.0 in /usr/local/lib/python3.10/dist-packages (from mlflow) (2.0.18)\n",
            "Requirement already satisfied: scikit-learn<2 in /usr/local/lib/python3.10/dist-packages (from mlflow) (1.2.2)\n",
            "Requirement already satisfied: pyarrow<13,>=4.0.0 in /usr/local/lib/python3.10/dist-packages (from mlflow) (9.0.0)\n",
            "Requirement already satisfied: markdown<4,>=3.3 in /usr/local/lib/python3.10/dist-packages (from mlflow) (3.4.3)\n",
            "Requirement already satisfied: matplotlib<4 in /usr/local/lib/python3.10/dist-packages (from mlflow) (3.7.1)\n",
            "Requirement already satisfied: gunicorn<21 in /usr/local/lib/python3.10/dist-packages (from mlflow) (20.1.0)\n",
            "Requirement already satisfied: Jinja2<4,>=2.11 in /usr/local/lib/python3.10/dist-packages (from mlflow) (3.1.2)\n",
            "Requirement already satisfied: Mako in /usr/local/lib/python3.10/dist-packages (from alembic!=1.10.0,<2->mlflow) (1.2.4)\n",
            "Requirement already satisfied: typing-extensions>=4 in /usr/local/lib/python3.10/dist-packages (from alembic!=1.10.0,<2->mlflow) (4.7.1)\n",
            "Requirement already satisfied: pyjwt>=1.7.0 in /usr/local/lib/python3.10/dist-packages (from databricks-cli<1,>=0.8.7->mlflow) (2.7.0)\n",
            "Requirement already satisfied: oauthlib>=3.1.0 in /usr/local/lib/python3.10/dist-packages (from databricks-cli<1,>=0.8.7->mlflow) (3.2.2)\n",
            "Requirement already satisfied: tabulate>=0.7.7 in /usr/local/lib/python3.10/dist-packages (from databricks-cli<1,>=0.8.7->mlflow) (0.8.10)\n",
            "Requirement already satisfied: six>=1.10.0 in /usr/local/lib/python3.10/dist-packages (from databricks-cli<1,>=0.8.7->mlflow) (1.16.0)\n",
            "Requirement already satisfied: urllib3<2.0.0,>=1.26.7 in /usr/local/lib/python3.10/dist-packages (from databricks-cli<1,>=0.8.7->mlflow) (1.26.16)\n",
            "Requirement already satisfied: websocket-client>=0.32.0 in /usr/local/lib/python3.10/dist-packages (from docker<7,>=4.0.0->mlflow) (1.6.1)\n",
            "Requirement already satisfied: Werkzeug>=2.2.2 in /usr/local/lib/python3.10/dist-packages (from Flask<3->mlflow) (2.3.6)\n",
            "Requirement already satisfied: itsdangerous>=2.0 in /usr/local/lib/python3.10/dist-packages (from Flask<3->mlflow) (2.1.2)\n",
            "Requirement already satisfied: gitdb<5,>=4.0.1 in /usr/local/lib/python3.10/dist-packages (from gitpython<4,>=2.1.0->mlflow) (4.0.10)\n",
            "Requirement already satisfied: setuptools>=3.0 in /usr/local/lib/python3.10/dist-packages (from gunicorn<21->mlflow) (67.7.2)\n",
            "Requirement already satisfied: zipp>=0.5 in /usr/local/lib/python3.10/dist-packages (from importlib-metadata!=4.7.0,<7,>=3.7.0->mlflow) (3.16.0)\n",
            "Requirement already satisfied: MarkupSafe>=2.0 in /usr/local/lib/python3.10/dist-packages (from Jinja2<4,>=2.11->mlflow) (2.1.3)\n",
            "Requirement already satisfied: contourpy>=1.0.1 in /usr/local/lib/python3.10/dist-packages (from matplotlib<4->mlflow) (1.1.0)\n",
            "Requirement already satisfied: cycler>=0.10 in /usr/local/lib/python3.10/dist-packages (from matplotlib<4->mlflow) (0.11.0)\n",
            "Requirement already satisfied: fonttools>=4.22.0 in /usr/local/lib/python3.10/dist-packages (from matplotlib<4->mlflow) (4.40.0)\n",
            "Requirement already satisfied: kiwisolver>=1.0.1 in /usr/local/lib/python3.10/dist-packages (from matplotlib<4->mlflow) (1.4.4)\n",
            "Requirement already satisfied: pillow>=6.2.0 in /usr/local/lib/python3.10/dist-packages (from matplotlib<4->mlflow) (8.4.0)\n",
            "Requirement already satisfied: pyparsing>=2.3.1 in /usr/local/lib/python3.10/dist-packages (from matplotlib<4->mlflow) (3.1.0)\n",
            "Requirement already satisfied: python-dateutil>=2.7 in /usr/local/lib/python3.10/dist-packages (from matplotlib<4->mlflow) (2.8.2)\n",
            "Requirement already satisfied: certifi>=2017.4.17 in /usr/local/lib/python3.10/dist-packages (from requests<3,>=2.17.3->mlflow) (2023.5.7)\n",
            "Requirement already satisfied: charset-normalizer~=2.0.0 in /usr/local/lib/python3.10/dist-packages (from requests<3,>=2.17.3->mlflow) (2.0.12)\n",
            "Requirement already satisfied: idna<4,>=2.5 in /usr/local/lib/python3.10/dist-packages (from requests<3,>=2.17.3->mlflow) (3.4)\n",
            "Requirement already satisfied: joblib>=1.1.1 in /usr/local/lib/python3.10/dist-packages (from scikit-learn<2->mlflow) (1.3.1)\n",
            "Requirement already satisfied: threadpoolctl>=2.0.0 in /usr/local/lib/python3.10/dist-packages (from scikit-learn<2->mlflow) (3.1.0)\n",
            "Requirement already satisfied: greenlet!=0.4.17 in /usr/local/lib/python3.10/dist-packages (from sqlalchemy<3,>=1.4.0->mlflow) (2.0.2)\n",
            "Requirement already satisfied: smmap<6,>=3.0.1 in /usr/local/lib/python3.10/dist-packages (from gitdb<5,>=4.0.1->gitpython<4,>=2.1.0->mlflow) (5.0.0)\n"
          ]
        }
      ],
      "source": [
        "!pip install mlflow"
      ]
    },
    {
      "cell_type": "code",
      "execution_count": 555,
      "metadata": {
        "colab": {
          "base_uri": "https://localhost:8080/"
        },
        "id": "OtrpCidCXyaE",
        "outputId": "291e52d0-d6da-4906-8b6e-a873373235f8"
      },
      "outputs": [
        {
          "output_type": "execute_result",
          "data": {
            "text/plain": [
              "<Experiment: artifact_location='file:///content/mlruns/834281852977682904', creation_time=1689365135202, experiment_id='834281852977682904', last_update_time=1689365135202, lifecycle_stage='active', name='projeto2', tags={}>"
            ]
          },
          "metadata": {},
          "execution_count": 555
        }
      ],
      "source": [
        "import mlflow\n",
        "import mlflow.sklearn\n",
        "import mlflow.keras\n",
        "mlflow.set_experiment(experiment_name='projeto2')"
      ]
    },
    {
      "cell_type": "markdown",
      "metadata": {
        "id": "_AKiiie7k-yx"
      },
      "source": [
        "## **5 - SELEÇÃO DE HIPERPARÂMETROS ATRAVÉS DE UM ALGORÍTMO DE OTIMIZAÇÃO**\n",
        "A ferramenta escolhida para tunagem dos hiperparâmetros foi a biblioteca *scikit-optimize*. A partir desta biblioteca, será utilizada a função *gp_minimize*, que é um algoritmo de otimização Bayesiana."
      ]
    },
    {
      "cell_type": "code",
      "execution_count": 556,
      "metadata": {
        "colab": {
          "base_uri": "https://localhost:8080/"
        },
        "id": "QUHqR1SxYA-B",
        "outputId": "01e5b43d-682c-438f-f408-f764f5c3d164"
      },
      "outputs": [
        {
          "output_type": "stream",
          "name": "stdout",
          "text": [
            "Requirement already satisfied: scikit-optimize in /usr/local/lib/python3.10/dist-packages (0.9.0)\n",
            "Requirement already satisfied: joblib>=0.11 in /usr/local/lib/python3.10/dist-packages (from scikit-optimize) (1.3.1)\n",
            "Requirement already satisfied: pyaml>=16.9 in /usr/local/lib/python3.10/dist-packages (from scikit-optimize) (23.7.0)\n",
            "Requirement already satisfied: numpy>=1.13.3 in /usr/local/lib/python3.10/dist-packages (from scikit-optimize) (1.22.4)\n",
            "Requirement already satisfied: scipy>=0.19.1 in /usr/local/lib/python3.10/dist-packages (from scikit-optimize) (1.10.1)\n",
            "Requirement already satisfied: scikit-learn>=0.20.0 in /usr/local/lib/python3.10/dist-packages (from scikit-optimize) (1.2.2)\n",
            "Requirement already satisfied: PyYAML in /usr/local/lib/python3.10/dist-packages (from pyaml>=16.9->scikit-optimize) (6.0)\n",
            "Requirement already satisfied: threadpoolctl>=2.0.0 in /usr/local/lib/python3.10/dist-packages (from scikit-learn>=0.20.0->scikit-optimize) (3.1.0)\n"
          ]
        }
      ],
      "source": [
        "# importando as métricas que serão analisadas\n",
        "from sklearn.metrics import mean_absolute_error\n",
        "\n",
        "# instalando e importando o algorítmo de otimização\n",
        "!pip install scikit-optimize\n",
        "from skopt import gp_minimize"
      ]
    },
    {
      "cell_type": "markdown",
      "metadata": {
        "id": "gMWq3McF8kIZ"
      },
      "source": [
        "### **5.1 - DECISION TREE**\n",
        "O 1º algorítmo testado será a Decision Tree:"
      ]
    },
    {
      "cell_type": "code",
      "execution_count": 557,
      "metadata": {
        "colab": {
          "base_uri": "https://localhost:8080/"
        },
        "id": "NVR58V19lefu",
        "outputId": "25dccb7e-08fc-4438-93c3-b04c92089ba0"
      },
      "outputs": [
        {
          "output_type": "stream",
          "name": "stdout",
          "text": [
            "MAE Treino: 0.08655878557007195\n",
            "MAE Teste: 0.08627109952738812\n",
            "Profundidade Máxima: 4290\n",
            "Mínimo de Amostras por Folha: 26\n"
          ]
        }
      ],
      "source": [
        "with mlflow.start_run(run_name='DecisionTree'):\n",
        "  ## OTIMIZANDO OS HIPERPARÂMETROS\n",
        "  # obs: como gp_minimize é um algoritmo que irá buscar o mínimo, será utilizado o sinal negativo no retorno da função\n",
        "  def otimiza(par):\n",
        "      modelo = DecisionTreeRegressor(max_depth=par[0], min_samples_leaf=par[1])\n",
        "      return -cross_val_score(modelo, xTrain, yTrain, cv=5).mean()\n",
        "\n",
        "  listPar = [(1, 5000), (1, 30)]\n",
        "  minimo = gp_minimize(otimiza, listPar, random_state=0, n_calls=10)\n",
        "  depth = minimo.x[0]\n",
        "  leaf = minimo.x[1]\n",
        "  scoreCrossVal=-minimo.fun\n",
        "\n",
        "\n",
        "  ## TREINANDO O MODELO\n",
        "  modeloDT = DecisionTreeRegressor(max_depth=depth, min_samples_leaf=leaf)\n",
        "  modeloDT.fit(xTrain, yTrain)\n",
        "  yPred = modeloDT.predict(xTrain)\n",
        "  maeTrain = mean_absolute_error(yTrain, yPred)\n",
        "\n",
        "\n",
        "  ## TESTANDO O MODELO\n",
        "  yPred = modeloDT.predict(xTest)\n",
        "  maeTest = mean_absolute_error(yTest, yPred)\n",
        "\n",
        "  ## INSERINDO OS HIPERPARÂMETROS, MÉTRICAS E O MODELO NO MLFLOW\n",
        "  mlflow.log_param('max_depth', depth)\n",
        "  mlflow.log_param('min_samples_leaf', leaf)\n",
        "  mlflow.log_metric('maeTrainDT', maeTrain)\n",
        "  mlflow.log_metric('maeTestDT', maeTest)\n",
        "  mlflow.sklearn.log_model(modeloDT,'modeloDT')\n",
        "\n",
        "\n",
        "\n",
        "print(\"MAE Treino:\", maeTrain)\n",
        "print(\"MAE Teste:\", maeTest)\n",
        "print(\"Profundidade Máxima:\", depth)\n",
        "print(\"Mínimo de Amostras por Folha:\", leaf)"
      ]
    },
    {
      "cell_type": "markdown",
      "source": [
        "Acima, é possível observar o MAE com o conjunto de Treino, o MAE com o conjunto de teste, o valor ótimo da profundidade máxima da árvore e o valor ótimo do mínimo de amostras por folha."
      ],
      "metadata": {
        "id": "dSEVWvxia_y2"
      }
    },
    {
      "cell_type": "markdown",
      "metadata": {
        "id": "qM1rua8089ex"
      },
      "source": [
        "### **5.2 - RANDOM FOREST**\n",
        "O 2º algorítmo testado será a Decision Tree:"
      ]
    },
    {
      "cell_type": "code",
      "source": [
        "with mlflow.start_run(run_name='RandomForest'):\n",
        "  ## OTIMIZANDO OS HIPERPARÂMETROS\n",
        "  # obs: como gp_minimize é um algoritmo que irá buscar o mínimo, será utilizado o sinal negativo no retorno da função\n",
        "  def otimiza(par):\n",
        "      modelo = RandomForestRegressor(max_depth=par[0], min_samples_leaf=par[1], n_estimators=par[2])\n",
        "      return -cross_val_score(modelo, xTrain, yTrain, cv=5).mean()\n",
        "\n",
        "  listPar = [(1, 5000), (1, 30), (10,100)]\n",
        "  minimo = gp_minimize(otimiza, listPar, random_state=0, n_calls=10)\n",
        "  depth = minimo.x[0]\n",
        "  leaf = minimo.x[1]\n",
        "  estimators=minimo.x[2]\n",
        "  scoreCrossVal=-minimo.fun\n",
        "\n",
        "\n",
        "  ## TREINANDO O MODELO\n",
        "  modeloRF = RandomForestRegressor(max_depth=depth, min_samples_leaf=leaf, n_estimators=estimators)\n",
        "  modeloRF.fit(xTrain, yTrain)\n",
        "  yPred = modeloRF.predict(xTrain)\n",
        "  maeTrain = mean_absolute_error(yTrain, yPred)\n",
        "\n",
        "\n",
        "  ## TESTANDO O MODELO\n",
        "  yPred = modeloRF.predict(xTest)\n",
        "  maeTest = mean_absolute_error(yTest, yPred)\n",
        "\n",
        "\n",
        "  ## INSERINDO OS HIPERPARÂMETROS, AS MÉTRICAS E O MODELO NO MLFLOW\n",
        "  mlflow.log_param('max_depth', depth)\n",
        "  mlflow.log_param('min_samples_leaf', leaf)\n",
        "  mlflow.log_param('n_estimators', estimators)\n",
        "  mlflow.log_metric('maeTrainRF', maeTrain)\n",
        "  mlflow.log_metric('maeTestRF', maeTest)\n",
        "  mlflow.sklearn.log_model(modeloRF,'modeloRF')\n",
        "\n",
        "\n",
        "print(\"MAE Treino:\", maeTrain)\n",
        "print(\"MAE Teste:\", maeTest)\n",
        "print(\"Profundidade Máxima:\", depth)\n",
        "print(\"Mínimo de Amostras por Folha:\", leaf)\n",
        "print(\"Número de Árvores:\", estimators)"
      ],
      "metadata": {
        "colab": {
          "base_uri": "https://localhost:8080/"
        },
        "id": "xC_771KmFFaD",
        "outputId": "30a4e482-4e69-4b4f-b715-429eb00871e5"
      },
      "execution_count": 558,
      "outputs": [
        {
          "output_type": "stream",
          "name": "stdout",
          "text": [
            "MAE Treino: 0.08541372777382578\n",
            "MAE Teste: 0.08539838711352499\n",
            "Profundidade Máxima: 3241\n",
            "Mínimo de Amostras por Folha: 12\n",
            "Número de Árvores: 96\n"
          ]
        }
      ]
    },
    {
      "cell_type": "markdown",
      "source": [
        "Acima, é possível observar o MAE com o conjunto de Treino, o MAE com o conjunto de teste, o valor ótimo da profundidade máxima da árvore, o valor ótimo do mínimo de amostras por folha e o valor ótimo do número de árvores."
      ],
      "metadata": {
        "id": "rkA1FZm_dqE5"
      }
    },
    {
      "cell_type": "markdown",
      "source": [
        "### **5.3 - REGRESSÃO LINEAR**\n",
        "O 3º algorítmo testado será a Regressão Linear:"
      ],
      "metadata": {
        "id": "5Joo65w2eivF"
      }
    },
    {
      "cell_type": "code",
      "source": [
        "with mlflow.start_run(run_name='LinearRegression'):\n",
        "  ## TREINANDO O MODELO\n",
        "  modeloLR = LinearRegression()\n",
        "  modeloLR.fit(xTrain, yTrain)\n",
        "  yPred = modeloLR.predict(xTrain)\n",
        "  maeTrain = mean_absolute_error(yTrain, yPred)\n",
        "\n",
        "\n",
        "  ## TESTANDO O MODELO\n",
        "  yPred = modeloLR.predict(xTest)\n",
        "  maeTest = mean_absolute_error(yTest, yPred)\n",
        "\n",
        "  ## INSERINDO AS MÉTRICAS E O MODELO NO MLFLOW\n",
        "  mlflow.log_metric('maeTrainLR', maeTrain)\n",
        "  mlflow.log_metric('maeTestLR', maeTest)\n",
        "  mlflow.sklearn.log_model(modeloLR,'modeloLR')\n",
        "\n",
        "\n",
        "print(\"MAE Treino:\", maeTrain)\n",
        "print(\"MAE Teste:\", maeTest)"
      ],
      "metadata": {
        "colab": {
          "base_uri": "https://localhost:8080/"
        },
        "id": "WQCkadZKfQVZ",
        "outputId": "d0fe12b1-410d-4fa2-8204-1eb10c3114f6"
      },
      "execution_count": 559,
      "outputs": [
        {
          "output_type": "stream",
          "name": "stdout",
          "text": [
            "MAE Treino: 0.09270599086375915\n",
            "MAE Teste: 0.09216274780185353\n"
          ]
        }
      ]
    },
    {
      "cell_type": "markdown",
      "source": [
        "Acima, é possível observar o MAE com o conjunto de Treino e o MAE com o conjunto de teste."
      ],
      "metadata": {
        "id": "CNXkLDhfm-gM"
      }
    },
    {
      "cell_type": "markdown",
      "source": [
        "### **5.4 - Multilayer Perceptron**\n",
        "O 4º algorítmo testado será o Multilayer Perceptron:"
      ],
      "metadata": {
        "id": "ssrwSydigvC_"
      }
    },
    {
      "cell_type": "code",
      "source": [
        "with mlflow.start_run(run_name='MLP'):\n",
        "  # CRIANDO o MLP\n",
        "  objSeq = Sequential()\n",
        "  objSeq.add(Dense(units=20, input_dim=features.size, activation=\"relu\"))\n",
        "  objSeq.add(Dense(units=20, activation=\"relu\"))\n",
        "  objSeq.add(Dense(units=1))\n",
        "  objSeq.compile(optimizer = 'adam', loss = \"mean_squared_error\", metrics = \"mae\")\n",
        "\n",
        "\n",
        "  # TREINADO O MLP\n",
        "  modeloMLP = objSeq.fit(xTrain, yTrain, batch_size=20, validation_split=0.1, epochs=50)\n",
        "  yPred = modeloMLP.model.predict(xTrain)\n",
        "  maeTrain = mean_absolute_error(yTrain, yPred)\n",
        "\n",
        "\n",
        "  ## TESTANDO O MLP\n",
        "  yPred = modeloMLP.model.predict(xTest)\n",
        "  maeTest = mean_absolute_error(yTest, yPred)\n",
        "\n",
        "\n",
        "  ## INSERINDO AS MÉTRICAS E O MODELO NO MLFLOW\n",
        "  mlflow.log_metric('maeTrainMLP', maeTrain)\n",
        "  mlflow.log_metric('maeTestMLP', maeTest)\n",
        "  mlflow.keras.log_model(modeloMLP.model,'modelo')\n",
        "\n",
        "print(\"\\n\\nMAE Treino:\", maeTrain)\n",
        "print(\"MAE Teste:\", maeTest)"
      ],
      "metadata": {
        "colab": {
          "base_uri": "https://localhost:8080/"
        },
        "id": "4wSUcwmgq6bt",
        "outputId": "e62a7cff-add2-4114-dacd-5fdff831c234"
      },
      "execution_count": 560,
      "outputs": [
        {
          "output_type": "stream",
          "name": "stdout",
          "text": [
            "Epoch 1/50\n",
            "134/134 [==============================] - 1s 5ms/step - loss: 0.0506 - mae: 0.1558 - val_loss: 0.0147 - val_mae: 0.0910\n",
            "Epoch 2/50\n",
            "134/134 [==============================] - 0s 3ms/step - loss: 0.0147 - mae: 0.0941 - val_loss: 0.0150 - val_mae: 0.0962\n",
            "Epoch 3/50\n",
            "134/134 [==============================] - 0s 3ms/step - loss: 0.0145 - mae: 0.0939 - val_loss: 0.0144 - val_mae: 0.0910\n",
            "Epoch 4/50\n",
            "134/134 [==============================] - 0s 3ms/step - loss: 0.0144 - mae: 0.0930 - val_loss: 0.0145 - val_mae: 0.0928\n",
            "Epoch 5/50\n",
            "134/134 [==============================] - 0s 3ms/step - loss: 0.0143 - mae: 0.0928 - val_loss: 0.0143 - val_mae: 0.0914\n",
            "Epoch 6/50\n",
            "134/134 [==============================] - 0s 3ms/step - loss: 0.0143 - mae: 0.0928 - val_loss: 0.0143 - val_mae: 0.0920\n",
            "Epoch 7/50\n",
            "134/134 [==============================] - 0s 2ms/step - loss: 0.0142 - mae: 0.0929 - val_loss: 0.0141 - val_mae: 0.0901\n",
            "Epoch 8/50\n",
            "134/134 [==============================] - 0s 3ms/step - loss: 0.0142 - mae: 0.0926 - val_loss: 0.0141 - val_mae: 0.0887\n",
            "Epoch 9/50\n",
            "134/134 [==============================] - 0s 2ms/step - loss: 0.0140 - mae: 0.0918 - val_loss: 0.0141 - val_mae: 0.0909\n",
            "Epoch 10/50\n",
            "134/134 [==============================] - 0s 2ms/step - loss: 0.0140 - mae: 0.0921 - val_loss: 0.0148 - val_mae: 0.0966\n",
            "Epoch 11/50\n",
            "134/134 [==============================] - 0s 2ms/step - loss: 0.0141 - mae: 0.0919 - val_loss: 0.0150 - val_mae: 0.0977\n",
            "Epoch 12/50\n",
            "134/134 [==============================] - 0s 2ms/step - loss: 0.0141 - mae: 0.0922 - val_loss: 0.0140 - val_mae: 0.0872\n",
            "Epoch 13/50\n",
            "134/134 [==============================] - 0s 2ms/step - loss: 0.0141 - mae: 0.0920 - val_loss: 0.0143 - val_mae: 0.0910\n",
            "Epoch 14/50\n",
            "134/134 [==============================] - 0s 2ms/step - loss: 0.0141 - mae: 0.0920 - val_loss: 0.0140 - val_mae: 0.0898\n",
            "Epoch 15/50\n",
            "134/134 [==============================] - 0s 2ms/step - loss: 0.0140 - mae: 0.0917 - val_loss: 0.0140 - val_mae: 0.0888\n",
            "Epoch 16/50\n",
            "134/134 [==============================] - 0s 2ms/step - loss: 0.0141 - mae: 0.0921 - val_loss: 0.0145 - val_mae: 0.0866\n",
            "Epoch 17/50\n",
            "134/134 [==============================] - 0s 2ms/step - loss: 0.0142 - mae: 0.0919 - val_loss: 0.0142 - val_mae: 0.0920\n",
            "Epoch 18/50\n",
            "134/134 [==============================] - 0s 2ms/step - loss: 0.0139 - mae: 0.0915 - val_loss: 0.0141 - val_mae: 0.0874\n",
            "Epoch 19/50\n",
            "134/134 [==============================] - 0s 2ms/step - loss: 0.0140 - mae: 0.0918 - val_loss: 0.0141 - val_mae: 0.0894\n",
            "Epoch 20/50\n",
            "134/134 [==============================] - 0s 2ms/step - loss: 0.0140 - mae: 0.0917 - val_loss: 0.0140 - val_mae: 0.0875\n",
            "Epoch 21/50\n",
            "134/134 [==============================] - 0s 2ms/step - loss: 0.0140 - mae: 0.0919 - val_loss: 0.0140 - val_mae: 0.0894\n",
            "Epoch 22/50\n",
            "134/134 [==============================] - 0s 2ms/step - loss: 0.0139 - mae: 0.0910 - val_loss: 0.0143 - val_mae: 0.0933\n",
            "Epoch 23/50\n",
            "134/134 [==============================] - 0s 2ms/step - loss: 0.0142 - mae: 0.0921 - val_loss: 0.0141 - val_mae: 0.0915\n",
            "Epoch 24/50\n",
            "134/134 [==============================] - 0s 2ms/step - loss: 0.0141 - mae: 0.0918 - val_loss: 0.0140 - val_mae: 0.0903\n",
            "Epoch 25/50\n",
            "134/134 [==============================] - 0s 2ms/step - loss: 0.0140 - mae: 0.0919 - val_loss: 0.0140 - val_mae: 0.0901\n",
            "Epoch 26/50\n",
            "134/134 [==============================] - 0s 2ms/step - loss: 0.0139 - mae: 0.0915 - val_loss: 0.0139 - val_mae: 0.0878\n",
            "Epoch 27/50\n",
            "134/134 [==============================] - 0s 2ms/step - loss: 0.0138 - mae: 0.0907 - val_loss: 0.0140 - val_mae: 0.0867\n",
            "Epoch 28/50\n",
            "134/134 [==============================] - 0s 2ms/step - loss: 0.0140 - mae: 0.0911 - val_loss: 0.0140 - val_mae: 0.0906\n",
            "Epoch 29/50\n",
            "134/134 [==============================] - 0s 2ms/step - loss: 0.0140 - mae: 0.0920 - val_loss: 0.0141 - val_mae: 0.0915\n",
            "Epoch 30/50\n",
            "134/134 [==============================] - 0s 2ms/step - loss: 0.0139 - mae: 0.0916 - val_loss: 0.0141 - val_mae: 0.0920\n",
            "Epoch 31/50\n",
            "134/134 [==============================] - 0s 2ms/step - loss: 0.0138 - mae: 0.0915 - val_loss: 0.0144 - val_mae: 0.0915\n",
            "Epoch 32/50\n",
            "134/134 [==============================] - 0s 2ms/step - loss: 0.0140 - mae: 0.0918 - val_loss: 0.0152 - val_mae: 0.0987\n",
            "Epoch 33/50\n",
            "134/134 [==============================] - 0s 2ms/step - loss: 0.0140 - mae: 0.0916 - val_loss: 0.0140 - val_mae: 0.0862\n",
            "Epoch 34/50\n",
            "134/134 [==============================] - 0s 2ms/step - loss: 0.0139 - mae: 0.0914 - val_loss: 0.0139 - val_mae: 0.0884\n",
            "Epoch 35/50\n",
            "134/134 [==============================] - 0s 2ms/step - loss: 0.0137 - mae: 0.0908 - val_loss: 0.0139 - val_mae: 0.0888\n",
            "Epoch 36/50\n",
            "134/134 [==============================] - 0s 2ms/step - loss: 0.0139 - mae: 0.0912 - val_loss: 0.0146 - val_mae: 0.0947\n",
            "Epoch 37/50\n",
            "134/134 [==============================] - 0s 2ms/step - loss: 0.0139 - mae: 0.0913 - val_loss: 0.0139 - val_mae: 0.0891\n",
            "Epoch 38/50\n",
            "134/134 [==============================] - 0s 2ms/step - loss: 0.0137 - mae: 0.0906 - val_loss: 0.0139 - val_mae: 0.0881\n",
            "Epoch 39/50\n",
            "134/134 [==============================] - 0s 2ms/step - loss: 0.0139 - mae: 0.0906 - val_loss: 0.0138 - val_mae: 0.0887\n",
            "Epoch 40/50\n",
            "134/134 [==============================] - 0s 2ms/step - loss: 0.0140 - mae: 0.0914 - val_loss: 0.0146 - val_mae: 0.0948\n",
            "Epoch 41/50\n",
            "134/134 [==============================] - 0s 2ms/step - loss: 0.0139 - mae: 0.0914 - val_loss: 0.0141 - val_mae: 0.0864\n",
            "Epoch 42/50\n",
            "134/134 [==============================] - 0s 2ms/step - loss: 0.0137 - mae: 0.0906 - val_loss: 0.0143 - val_mae: 0.0931\n",
            "Epoch 43/50\n",
            "134/134 [==============================] - 0s 2ms/step - loss: 0.0138 - mae: 0.0909 - val_loss: 0.0140 - val_mae: 0.0886\n",
            "Epoch 44/50\n",
            "134/134 [==============================] - 0s 2ms/step - loss: 0.0137 - mae: 0.0902 - val_loss: 0.0139 - val_mae: 0.0878\n",
            "Epoch 45/50\n",
            "134/134 [==============================] - 0s 2ms/step - loss: 0.0137 - mae: 0.0906 - val_loss: 0.0142 - val_mae: 0.0866\n",
            "Epoch 46/50\n",
            "134/134 [==============================] - 0s 2ms/step - loss: 0.0137 - mae: 0.0902 - val_loss: 0.0141 - val_mae: 0.0885\n",
            "Epoch 47/50\n",
            "134/134 [==============================] - 0s 2ms/step - loss: 0.0139 - mae: 0.0913 - val_loss: 0.0159 - val_mae: 0.1022\n",
            "Epoch 48/50\n",
            "134/134 [==============================] - 0s 3ms/step - loss: 0.0137 - mae: 0.0906 - val_loss: 0.0138 - val_mae: 0.0862\n",
            "Epoch 49/50\n",
            "134/134 [==============================] - 0s 3ms/step - loss: 0.0137 - mae: 0.0909 - val_loss: 0.0140 - val_mae: 0.0885\n",
            "Epoch 50/50\n",
            "134/134 [==============================] - 0s 2ms/step - loss: 0.0138 - mae: 0.0909 - val_loss: 0.0141 - val_mae: 0.0870\n"
          ]
        },
        {
          "output_type": "stream",
          "name": "stderr",
          "text": [
            "2023/07/15 00:11:22 WARNING mlflow.tensorflow: You are saving a TensorFlow Core model or Keras model without a signature. Inference with mlflow.pyfunc.spark_udf() will not work unless the model's pyfunc representation accepts pandas DataFrames as inference inputs.\n",
            "2023/07/15 00:11:29 WARNING mlflow.utils.requirements_utils: Found jaxlib version (0.4.13+cuda11.cudnn86) contains a local version label (+cuda11.cudnn86). MLflow logged a pip requirement for this package as 'jaxlib==0.4.13' without the local version label to make it installable from PyPI. To specify pip requirements containing local version labels, please use `conda_env` or `pip_requirements`.\n"
          ]
        },
        {
          "output_type": "stream",
          "name": "stdout",
          "text": [
            "\n",
            "\n",
            "MAE Treino: 0.08894968335549581\n",
            "MAE Teste: 0.08858459187254386\n"
          ]
        }
      ]
    },
    {
      "cell_type": "markdown",
      "source": [
        "Acima, é possível observar o MAE com o conjunto de Treino e o MAE com o conjunto de teste."
      ],
      "metadata": {
        "id": "NTlqD2vO2l6a"
      }
    },
    {
      "cell_type": "markdown",
      "source": [
        "## **6 - DIAGNÓSTICO DO MELHOR MODELO**"
      ],
      "metadata": {
        "id": "cwHNJQ812rSO"
      }
    },
    {
      "cell_type": "code",
      "source": [
        "yPred = modeloRF.predict(xTest)\n",
        "pyplot.plot((0,0.55),(0,0.55), color='red', linestyle='--', linewidth=0.7)\n",
        "pyplot.scatter(yPred, yTest)\n",
        "pyplot.xlabel(\"Valores Preditos\")\n",
        "pyplot.ylabel(\"Valores Reais\")"
      ],
      "metadata": {
        "id": "z_SsJYoo3Q0v",
        "colab": {
          "base_uri": "https://localhost:8080/",
          "height": 466
        },
        "outputId": "c85a68e2-7631-4e90-d9a1-7bff81976ea1"
      },
      "execution_count": 598,
      "outputs": [
        {
          "output_type": "execute_result",
          "data": {
            "text/plain": [
              "Text(0, 0.5, 'Valores Reais')"
            ]
          },
          "metadata": {},
          "execution_count": 598
        },
        {
          "output_type": "display_data",
          "data": {
            "text/plain": [
              "<Figure size 640x480 with 1 Axes>"
            ],
            "image/png": "[encoded data removed]"
          },
          "metadata": {}
        }
      ]
    },
    {
      "cell_type": "markdown",
      "source": [
        "No gráfico acima, podemos observar que para valores menores de salário, o modelo tem uma maior eficácia, pois os pontos estão mais próximos da linha vermelha tracejada. Já para valores maiores de salário, o modelo tem uma baixa eficácia, uma vez que os pontos estão mais distantes da linha tracejada."
      ],
      "metadata": {
        "id": "MMXZl97g7xOO"
      }
    },
    {
      "cell_type": "code",
      "source": [
        "seaborn.residplot(x=yPred, y=yTest)"
      ],
      "metadata": {
        "colab": {
          "base_uri": "https://localhost:8080/",
          "height": 447
        },
        "id": "aBXfxE0JArKo",
        "outputId": "c5cb21ac-746b-4497-8a2d-fa55654be3a9"
      },
      "execution_count": 599,
      "outputs": [
        {
          "output_type": "execute_result",
          "data": {
            "text/plain": [
              "<Axes: >"
            ]
          },
          "metadata": {},
          "execution_count": 599
        },
        {
          "output_type": "display_data",
          "data": {
            "text/plain": [
              "<Figure size 640x480 with 1 Axes>"
            ],
            "image/png": "[encoded data removed]"
          },
          "metadata": {}
        }
      ]
    },
    {
      "cell_type": "markdown",
      "source": [
        "Visualizando o gráfico de resíduos acima, é possível observar que a distribuição dos pontos em torno da linha tracejada não é uniforme. O que pode ser o indício de muitos outliers nos dados."
      ],
      "metadata": {
        "id": "PNK1WGkMCtMI"
      }
    }
  ],
  "metadata": {
    "colab": {
      "provenance": [],
      "authorship_tag": "ABX9TyPzapZTAa7riIznd4fqOO5j",
      "include_colab_link": true
    },
    "kernelspec": {
      "display_name": "Python 3",
      "name": "python3"
    },
    "language_info": {
      "name": "python"
    }
  },
  "nbformat": 4,
  "nbformat_minor": 0
}